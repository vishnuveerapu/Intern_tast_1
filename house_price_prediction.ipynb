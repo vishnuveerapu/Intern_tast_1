{
 "cells": [
  {
   "cell_type": "markdown",
   "metadata": {
    "colab_type": "text",
    "id": "7XKECuuOb2gN"
   },
   "source": [
    "# Housing Price Prediction"
   ]
  },
  {
   "cell_type": "code",
   "execution_count": 1,
   "metadata": {
    "colab": {},
    "colab_type": "code",
    "executionInfo": {
     "elapsed": 1885,
     "status": "ok",
     "timestamp": 1592370767549,
     "user": {
      "displayName": "Sharoon Saxena",
      "photoUrl": "https://lh3.googleusercontent.com/a-/AOh14GjyKz9rNCPkHi6QK8TjrjBFlTtaI9ngf0hIwgAl=s64",
      "userId": "01167841530696023488"
     },
     "user_tz": -330
    },
    "id": "CEzh4N2IyxfG"
   },
   "outputs": [],
   "source": [
    "#importing libraries\n",
    "import numpy as np\n",
    "import pandas as pd\n",
    "import matplotlib.pyplot as plt\n",
    "import warnings\n",
    "warnings.filterwarnings('ignore')"
   ]
  },
  {
   "cell_type": "code",
   "execution_count": 2,
   "metadata": {
    "colab": {
     "base_uri": "https://localhost:8080/",
     "height": 496
    },
    "colab_type": "code",
    "executionInfo": {
     "elapsed": 3079,
     "status": "ok",
     "timestamp": 1592370768754,
     "user": {
      "displayName": "Sharoon Saxena",
      "photoUrl": "https://lh3.googleusercontent.com/a-/AOh14GjyKz9rNCPkHi6QK8TjrjBFlTtaI9ngf0hIwgAl=s64",
      "userId": "01167841530696023488"
     },
     "user_tz": -330
    },
    "id": "kzt4iPvvzUGU",
    "outputId": "eca50793-6692-4c67-8310-11cf9df50f99"
   },
   "outputs": [
    {
     "data": {
      "text/html": [
       "<div>\n",
       "<style scoped>\n",
       "    .dataframe tbody tr th:only-of-type {\n",
       "        vertical-align: middle;\n",
       "    }\n",
       "\n",
       "    .dataframe tbody tr th {\n",
       "        vertical-align: top;\n",
       "    }\n",
       "\n",
       "    .dataframe thead th {\n",
       "        text-align: right;\n",
       "    }\n",
       "</style>\n",
       "<table border=\"1\" class=\"dataframe\">\n",
       "  <thead>\n",
       "    <tr style=\"text-align: right;\">\n",
       "      <th></th>\n",
       "      <th>ID</th>\n",
       "      <th>Date House was Sold</th>\n",
       "      <th>Sale Price</th>\n",
       "      <th>No of Bedrooms</th>\n",
       "      <th>No of Bathrooms</th>\n",
       "      <th>Flat Area (in Sqft)</th>\n",
       "      <th>Lot Area (in Sqft)</th>\n",
       "      <th>No of Floors</th>\n",
       "      <th>Waterfront View</th>\n",
       "      <th>No of Times Visited</th>\n",
       "      <th>...</th>\n",
       "      <th>Overall Grade</th>\n",
       "      <th>Area of the House from Basement (in Sqft)</th>\n",
       "      <th>Basement Area (in Sqft)</th>\n",
       "      <th>Age of House (in Years)</th>\n",
       "      <th>Renovated Year</th>\n",
       "      <th>Zipcode</th>\n",
       "      <th>Latitude</th>\n",
       "      <th>Longitude</th>\n",
       "      <th>Living Area after Renovation (in Sqft)</th>\n",
       "      <th>Lot Area after Renovation (in Sqft)</th>\n",
       "    </tr>\n",
       "  </thead>\n",
       "  <tbody>\n",
       "    <tr>\n",
       "      <th>0</th>\n",
       "      <td>7129300520</td>\n",
       "      <td>14 October 2017</td>\n",
       "      <td>221900.0</td>\n",
       "      <td>3</td>\n",
       "      <td>1.00</td>\n",
       "      <td>1180.0</td>\n",
       "      <td>5650.0</td>\n",
       "      <td>1.0</td>\n",
       "      <td>No</td>\n",
       "      <td>NaN</td>\n",
       "      <td>...</td>\n",
       "      <td>7</td>\n",
       "      <td>1180.0</td>\n",
       "      <td>0</td>\n",
       "      <td>63</td>\n",
       "      <td>0</td>\n",
       "      <td>98178.0</td>\n",
       "      <td>47.5112</td>\n",
       "      <td>-122.257</td>\n",
       "      <td>1340.0</td>\n",
       "      <td>5650</td>\n",
       "    </tr>\n",
       "    <tr>\n",
       "      <th>1</th>\n",
       "      <td>6414100192</td>\n",
       "      <td>14 December 2017</td>\n",
       "      <td>538000.0</td>\n",
       "      <td>3</td>\n",
       "      <td>2.25</td>\n",
       "      <td>2570.0</td>\n",
       "      <td>7242.0</td>\n",
       "      <td>2.0</td>\n",
       "      <td>No</td>\n",
       "      <td>NaN</td>\n",
       "      <td>...</td>\n",
       "      <td>7</td>\n",
       "      <td>2170.0</td>\n",
       "      <td>400</td>\n",
       "      <td>67</td>\n",
       "      <td>1991</td>\n",
       "      <td>98125.0</td>\n",
       "      <td>47.7210</td>\n",
       "      <td>-122.319</td>\n",
       "      <td>1690.0</td>\n",
       "      <td>7639</td>\n",
       "    </tr>\n",
       "    <tr>\n",
       "      <th>2</th>\n",
       "      <td>5631500400</td>\n",
       "      <td>15 February 2016</td>\n",
       "      <td>180000.0</td>\n",
       "      <td>2</td>\n",
       "      <td>1.00</td>\n",
       "      <td>770.0</td>\n",
       "      <td>10000.0</td>\n",
       "      <td>1.0</td>\n",
       "      <td>No</td>\n",
       "      <td>NaN</td>\n",
       "      <td>...</td>\n",
       "      <td>6</td>\n",
       "      <td>770.0</td>\n",
       "      <td>0</td>\n",
       "      <td>85</td>\n",
       "      <td>0</td>\n",
       "      <td>98028.0</td>\n",
       "      <td>47.7379</td>\n",
       "      <td>-122.233</td>\n",
       "      <td>2720.0</td>\n",
       "      <td>8062</td>\n",
       "    </tr>\n",
       "    <tr>\n",
       "      <th>3</th>\n",
       "      <td>2487200875</td>\n",
       "      <td>14 December 2017</td>\n",
       "      <td>604000.0</td>\n",
       "      <td>4</td>\n",
       "      <td>3.00</td>\n",
       "      <td>1960.0</td>\n",
       "      <td>5000.0</td>\n",
       "      <td>1.0</td>\n",
       "      <td>No</td>\n",
       "      <td>NaN</td>\n",
       "      <td>...</td>\n",
       "      <td>7</td>\n",
       "      <td>1050.0</td>\n",
       "      <td>910</td>\n",
       "      <td>53</td>\n",
       "      <td>0</td>\n",
       "      <td>98136.0</td>\n",
       "      <td>47.5208</td>\n",
       "      <td>-122.393</td>\n",
       "      <td>1360.0</td>\n",
       "      <td>5000</td>\n",
       "    </tr>\n",
       "    <tr>\n",
       "      <th>4</th>\n",
       "      <td>1954400510</td>\n",
       "      <td>15 February 2016</td>\n",
       "      <td>510000.0</td>\n",
       "      <td>3</td>\n",
       "      <td>2.00</td>\n",
       "      <td>1680.0</td>\n",
       "      <td>8080.0</td>\n",
       "      <td>1.0</td>\n",
       "      <td>No</td>\n",
       "      <td>NaN</td>\n",
       "      <td>...</td>\n",
       "      <td>8</td>\n",
       "      <td>1680.0</td>\n",
       "      <td>0</td>\n",
       "      <td>31</td>\n",
       "      <td>0</td>\n",
       "      <td>98074.0</td>\n",
       "      <td>47.6168</td>\n",
       "      <td>-122.045</td>\n",
       "      <td>1800.0</td>\n",
       "      <td>7503</td>\n",
       "    </tr>\n",
       "  </tbody>\n",
       "</table>\n",
       "<p>5 rows × 21 columns</p>\n",
       "</div>"
      ],
      "text/plain": [
       "           ID Date House was Sold  Sale Price  No of Bedrooms  \\\n",
       "0  7129300520     14 October 2017    221900.0               3   \n",
       "1  6414100192    14 December 2017    538000.0               3   \n",
       "2  5631500400    15 February 2016    180000.0               2   \n",
       "3  2487200875    14 December 2017    604000.0               4   \n",
       "4  1954400510    15 February 2016    510000.0               3   \n",
       "\n",
       "   No of Bathrooms  Flat Area (in Sqft)  Lot Area (in Sqft)  No of Floors  \\\n",
       "0             1.00               1180.0              5650.0           1.0   \n",
       "1             2.25               2570.0              7242.0           2.0   \n",
       "2             1.00                770.0             10000.0           1.0   \n",
       "3             3.00               1960.0              5000.0           1.0   \n",
       "4             2.00               1680.0              8080.0           1.0   \n",
       "\n",
       "  Waterfront View No of Times Visited  ... Overall Grade  \\\n",
       "0              No                 NaN  ...             7   \n",
       "1              No                 NaN  ...             7   \n",
       "2              No                 NaN  ...             6   \n",
       "3              No                 NaN  ...             7   \n",
       "4              No                 NaN  ...             8   \n",
       "\n",
       "   Area of the House from Basement (in Sqft)  Basement Area (in Sqft)  \\\n",
       "0                                     1180.0                        0   \n",
       "1                                     2170.0                      400   \n",
       "2                                      770.0                        0   \n",
       "3                                     1050.0                      910   \n",
       "4                                     1680.0                        0   \n",
       "\n",
       "   Age of House (in Years)  Renovated Year  Zipcode  Latitude  Longitude  \\\n",
       "0                       63               0  98178.0   47.5112   -122.257   \n",
       "1                       67            1991  98125.0   47.7210   -122.319   \n",
       "2                       85               0  98028.0   47.7379   -122.233   \n",
       "3                       53               0  98136.0   47.5208   -122.393   \n",
       "4                       31               0  98074.0   47.6168   -122.045   \n",
       "\n",
       "   Living Area after Renovation (in Sqft)  Lot Area after Renovation (in Sqft)  \n",
       "0                                  1340.0                                 5650  \n",
       "1                                  1690.0                                 7639  \n",
       "2                                  2720.0                                 8062  \n",
       "3                                  1360.0                                 5000  \n",
       "4                                  1800.0                                 7503  \n",
       "\n",
       "[5 rows x 21 columns]"
      ]
     },
     "execution_count": 2,
     "metadata": {},
     "output_type": "execute_result"
    }
   ],
   "source": [
    "#importing data\n",
    "data = pd.read_csv('Raw_Housing_Prices.csv')\n",
    "data.head()"
   ]
  },
  {
   "cell_type": "code",
   "execution_count": 3,
   "metadata": {
    "colab": {
     "base_uri": "https://localhost:8080/",
     "height": 170
    },
    "colab_type": "code",
    "executionInfo": {
     "elapsed": 3069,
     "status": "ok",
     "timestamp": 1592370768755,
     "user": {
      "displayName": "Sharoon Saxena",
      "photoUrl": "https://lh3.googleusercontent.com/a-/AOh14GjyKz9rNCPkHi6QK8TjrjBFlTtaI9ngf0hIwgAl=s64",
      "userId": "01167841530696023488"
     },
     "user_tz": -330
    },
    "id": "JXAZHNFlzikf",
    "outputId": "f0eaf5d7-b62b-44f1-a36d-4f4982ac1ed5"
   },
   "outputs": [
    {
     "data": {
      "text/plain": [
       "count    2.160900e+04\n",
       "mean     5.401984e+05\n",
       "std      3.673890e+05\n",
       "min      7.500000e+04\n",
       "25%      3.219500e+05\n",
       "50%      4.500000e+05\n",
       "75%      6.450000e+05\n",
       "max      7.700000e+06\n",
       "Name: Sale Price, dtype: float64"
      ]
     },
     "execution_count": 3,
     "metadata": {},
     "output_type": "execute_result"
    }
   ],
   "source": [
    "data['Sale Price'].describe()"
   ]
  },
  {
   "cell_type": "code",
   "execution_count": 4,
   "metadata": {
    "colab": {
     "base_uri": "https://localhost:8080/",
     "height": 295
    },
    "colab_type": "code",
    "executionInfo": {
     "elapsed": 3062,
     "status": "ok",
     "timestamp": 1592370768756,
     "user": {
      "displayName": "Sharoon Saxena",
      "photoUrl": "https://lh3.googleusercontent.com/a-/AOh14GjyKz9rNCPkHi6QK8TjrjBFlTtaI9ngf0hIwgAl=s64",
      "userId": "01167841530696023488"
     },
     "user_tz": -330
    },
    "id": "qOLiX47REyVj",
    "outputId": "f39accb3-d824-4ef5-bc99-eff800c7cb51"
   },
   "outputs": [
    {
     "data": {
      "text/plain": [
       "<Axes: ylabel='Frequency'>"
      ]
     },
     "execution_count": 4,
     "metadata": {},
     "output_type": "execute_result"
    },
    {
     "data": {
      "image/png": "[encoded data removed]",
      "text/plain": [
       "<Figure size 640x480 with 1 Axes>"
      ]
     },
     "metadata": {},
     "output_type": "display_data"
    }
   ],
   "source": [
    "#distribution of target variable\n",
    "data['Sale Price'].plot.hist()"
   ]
  },
  {
   "cell_type": "code",
   "execution_count": 8,
   "metadata": {
    "colab": {
     "base_uri": "https://localhost:8080/",
     "height": 34
    },
    "colab_type": "code",
    "executionInfo": {
     "elapsed": 3055,
     "status": "ok",
     "timestamp": 1592370768757,
     "user": {
      "displayName": "Sharoon Saxena",
      "photoUrl": "https://lh3.googleusercontent.com/a-/AOh14GjyKz9rNCPkHi6QK8TjrjBFlTtaI9ngf0hIwgAl=s64",
      "userId": "01167841530696023488"
     },
     "user_tz": -330
    },
    "id": "Xs8WBt5FzxAI",
    "outputId": "2023fb7e-337f-4ce3-ee34-823fdb6f95a5"
   },
   "outputs": [
    {
     "data": {
      "text/plain": [
       "(298480.0, 700308.0000000005)"
      ]
     },
     "execution_count": 8,
     "metadata": {},
     "output_type": "execute_result"
    }
   ],
   "source": [
    "# checking quantiles\n",
    "q1 = data['Sale Price'].quantile(0.2)\n",
    "q3 = data['Sale Price'].quantile(0.8)\n",
    "q1, q3"
   ]
  },
  {
   "cell_type": "code",
   "execution_count": 9,
   "metadata": {
    "colab": {
     "base_uri": "https://localhost:8080/",
     "height": 34
    },
    "colab_type": "code",
    "executionInfo": {
     "elapsed": 3046,
     "status": "ok",
     "timestamp": 1592370768758,
     "user": {
      "displayName": "Sharoon Saxena",
      "photoUrl": "https://lh3.googleusercontent.com/a-/AOh14GjyKz9rNCPkHi6QK8TjrjBFlTtaI9ngf0hIwgAl=s64",
      "userId": "01167841530696023488"
     },
     "user_tz": -330
    },
    "id": "xFiUJRAY0TWF",
    "outputId": "8204faf3-5c8a-41e4-d66f-831e3df202ee"
   },
   "outputs": [
    {
     "data": {
      "text/plain": [
       "401828.00000000047"
      ]
     },
     "execution_count": 9,
     "metadata": {},
     "output_type": "execute_result"
    }
   ],
   "source": [
    "#calculating iqr\n",
    "iqr = q3 - q1\n",
    "iqr"
   ]
  },
  {
   "cell_type": "code",
   "execution_count": 10,
   "metadata": {
    "colab": {
     "base_uri": "https://localhost:8080/",
     "height": 34
    },
    "colab_type": "code",
    "executionInfo": {
     "elapsed": 3035,
     "status": "ok",
     "timestamp": 1592370768759,
     "user": {
      "displayName": "Sharoon Saxena",
      "photoUrl": "https://lh3.googleusercontent.com/a-/AOh14GjyKz9rNCPkHi6QK8TjrjBFlTtaI9ngf0hIwgAl=s64",
      "userId": "01167841530696023488"
     },
     "user_tz": -330
    },
    "id": "NQGl_iRf3C1q",
    "outputId": "69c6afc6-6ea7-4687-86a4-fb3c06504a85"
   },
   "outputs": [
    {
     "data": {
      "text/plain": [
       "(1303050.0000000012, -304262.0000000007)"
      ]
     },
     "execution_count": 10,
     "metadata": {},
     "output_type": "execute_result"
    }
   ],
   "source": [
    "upper_limit = q3 + 1.5*iqr\n",
    "lower_limit = q1 - 1.5*iqr\n",
    "upper_limit, lower_limit"
   ]
  },
  {
   "cell_type": "code",
   "execution_count": 11,
   "metadata": {
    "colab": {},
    "colab_type": "code",
    "executionInfo": {
     "elapsed": 3027,
     "status": "ok",
     "timestamp": 1592370768760,
     "user": {
      "displayName": "Sharoon Saxena",
      "photoUrl": "https://lh3.googleusercontent.com/a-/AOh14GjyKz9rNCPkHi6QK8TjrjBFlTtaI9ngf0hIwgAl=s64",
      "userId": "01167841530696023488"
     },
     "user_tz": -330
    },
    "id": "mmjlfDJV3Zgy"
   },
   "outputs": [],
   "source": [
    "# imputing outliers\n",
    "def limit_imputer(value):\n",
    "  if value > upper_limit:\n",
    "    return upper_limit\n",
    "  if value < lower_limit:\n",
    "    return lower_limit\n",
    "  else:\n",
    "    return value"
   ]
  },
  {
   "cell_type": "code",
   "execution_count": 12,
   "metadata": {
    "colab": {},
    "colab_type": "code",
    "executionInfo": {
     "elapsed": 3024,
     "status": "ok",
     "timestamp": 1592370768762,
     "user": {
      "displayName": "Sharoon Saxena",
      "photoUrl": "https://lh3.googleusercontent.com/a-/AOh14GjyKz9rNCPkHi6QK8TjrjBFlTtaI9ngf0hIwgAl=s64",
      "userId": "01167841530696023488"
     },
     "user_tz": -330
    },
    "id": "9gOK9l_J4OfO"
   },
   "outputs": [],
   "source": [
    "data['Sale Price'] = data['Sale Price'].apply(limit_imputer)"
   ]
  },
  {
   "cell_type": "code",
   "execution_count": 13,
   "metadata": {
    "colab": {
     "base_uri": "https://localhost:8080/",
     "height": 170
    },
    "colab_type": "code",
    "executionInfo": {
     "elapsed": 3020,
     "status": "ok",
     "timestamp": 1592370768763,
     "user": {
      "displayName": "Sharoon Saxena",
      "photoUrl": "https://lh3.googleusercontent.com/a-/AOh14GjyKz9rNCPkHi6QK8TjrjBFlTtaI9ngf0hIwgAl=s64",
      "userId": "01167841530696023488"
     },
     "user_tz": -330
    },
    "id": "5XtPi_2j4g68",
    "outputId": "e83b1885-a2c3-4e45-f7fe-5f8663d57586"
   },
   "outputs": [
    {
     "data": {
      "text/plain": [
       "count    2.160900e+04\n",
       "mean     5.193562e+05\n",
       "std      2.707250e+05\n",
       "min      7.500000e+04\n",
       "25%      3.219500e+05\n",
       "50%      4.500000e+05\n",
       "75%      6.450000e+05\n",
       "max      1.303050e+06\n",
       "Name: Sale Price, dtype: float64"
      ]
     },
     "execution_count": 13,
     "metadata": {},
     "output_type": "execute_result"
    }
   ],
   "source": [
    "data['Sale Price'].describe()"
   ]
  },
  {
   "cell_type": "code",
   "execution_count": 14,
   "metadata": {
    "colab": {
     "base_uri": "https://localhost:8080/",
     "height": 295
    },
    "colab_type": "code",
    "executionInfo": {
     "elapsed": 4060,
     "status": "ok",
     "timestamp": 1592370769813,
     "user": {
      "displayName": "Sharoon Saxena",
      "photoUrl": "https://lh3.googleusercontent.com/a-/AOh14GjyKz9rNCPkHi6QK8TjrjBFlTtaI9ngf0hIwgAl=s64",
      "userId": "01167841530696023488"
     },
     "user_tz": -330
    },
    "id": "AB0UWP775DsP",
    "outputId": "2640db6d-28af-46b8-abfd-6ef86658ebcb"
   },
   "outputs": [
    {
     "data": {
      "text/plain": [
       "<Axes: ylabel='Frequency'>"
      ]
     },
     "execution_count": 14,
     "metadata": {},
     "output_type": "execute_result"
    },
    {
     "data": {
      "image/png": "[encoded data removed]",
      "text/plain": [
       "<Figure size 640x480 with 1 Axes>"
      ]
     },
     "metadata": {},
     "output_type": "display_data"
    }
   ],
   "source": [
    "data['Sale Price'].plot.hist()"
   ]
  },
  {
   "cell_type": "code",
   "execution_count": 15,
   "metadata": {
    "colab": {
     "base_uri": "https://localhost:8080/",
     "height": 391
    },
    "colab_type": "code",
    "executionInfo": {
     "elapsed": 4049,
     "status": "ok",
     "timestamp": 1592370769815,
     "user": {
      "displayName": "Sharoon Saxena",
      "photoUrl": "https://lh3.googleusercontent.com/a-/AOh14GjyKz9rNCPkHi6QK8TjrjBFlTtaI9ngf0hIwgAl=s64",
      "userId": "01167841530696023488"
     },
     "user_tz": -330
    },
    "id": "0iwTohEDZJt_",
    "outputId": "b990f11d-0798-4920-b5f6-e15539b9bbcb"
   },
   "outputs": [
    {
     "data": {
      "text/plain": [
       "ID                                               0\n",
       "Date House was Sold                              0\n",
       "Sale Price                                       4\n",
       "No of Bedrooms                                   0\n",
       "No of Bathrooms                                  4\n",
       "Flat Area (in Sqft)                              9\n",
       "Lot Area (in Sqft)                               9\n",
       "No of Floors                                     0\n",
       "Waterfront View                                  0\n",
       "No of Times Visited                          19489\n",
       "Condition of the House                           0\n",
       "Overall Grade                                    0\n",
       "Area of the House from Basement (in Sqft)        3\n",
       "Basement Area (in Sqft)                          0\n",
       "Age of House (in Years)                          0\n",
       "Renovated Year                                   0\n",
       "Zipcode                                          1\n",
       "Latitude                                         1\n",
       "Longitude                                        1\n",
       "Living Area after Renovation (in Sqft)           1\n",
       "Lot Area after Renovation (in Sqft)              0\n",
       "dtype: int64"
      ]
     },
     "execution_count": 15,
     "metadata": {},
     "output_type": "execute_result"
    }
   ],
   "source": [
    "#checking missing values\n",
    "data.isnull().sum()"
   ]
  },
  {
   "cell_type": "code",
   "execution_count": 16,
   "metadata": {
    "colab": {
     "base_uri": "https://localhost:8080/",
     "height": 34
    },
    "colab_type": "code",
    "executionInfo": {
     "elapsed": 4021,
     "status": "ok",
     "timestamp": 1592370769819,
     "user": {
      "displayName": "Sharoon Saxena",
      "photoUrl": "https://lh3.googleusercontent.com/a-/AOh14GjyKz9rNCPkHi6QK8TjrjBFlTtaI9ngf0hIwgAl=s64",
      "userId": "01167841530696023488"
     },
     "user_tz": -330
    },
    "id": "rlOuAJCrH-dd",
    "outputId": "4afcada8-cdee-4e6a-e394-4ec1f8a2e535"
   },
   "outputs": [
    {
     "data": {
      "text/plain": [
       "4"
      ]
     },
     "execution_count": 16,
     "metadata": {},
     "output_type": "execute_result"
    }
   ],
   "source": [
    "data['Sale Price'].dropna(inplace=True)\n",
    "data[\"Sale Price\"].isnull().sum()"
   ]
  },
  {
   "cell_type": "code",
   "execution_count": 17,
   "metadata": {
    "colab": {
     "base_uri": "https://localhost:8080/",
     "height": 493
    },
    "colab_type": "code",
    "executionInfo": {
     "elapsed": 4009,
     "status": "ok",
     "timestamp": 1592370769820,
     "user": {
      "displayName": "Sharoon Saxena",
      "photoUrl": "https://lh3.googleusercontent.com/a-/AOh14GjyKz9rNCPkHi6QK8TjrjBFlTtaI9ngf0hIwgAl=s64",
      "userId": "01167841530696023488"
     },
     "user_tz": -330
    },
    "id": "8lncaVFphYR5",
    "outputId": "03a84ac1-7a4a-4290-c642-b92b730b44d4"
   },
   "outputs": [
    {
     "name": "stdout",
     "output_type": "stream",
     "text": [
      "<class 'pandas.core.frame.DataFrame'>\n",
      "RangeIndex: 21613 entries, 0 to 21612\n",
      "Data columns (total 21 columns):\n",
      " #   Column                                     Non-Null Count  Dtype  \n",
      "---  ------                                     --------------  -----  \n",
      " 0   ID                                         21613 non-null  int64  \n",
      " 1   Date House was Sold                        21613 non-null  object \n",
      " 2   Sale Price                                 21609 non-null  float64\n",
      " 3   No of Bedrooms                             21613 non-null  int64  \n",
      " 4   No of Bathrooms                            21609 non-null  float64\n",
      " 5   Flat Area (in Sqft)                        21604 non-null  float64\n",
      " 6   Lot Area (in Sqft)                         21604 non-null  float64\n",
      " 7   No of Floors                               21613 non-null  float64\n",
      " 8   Waterfront View                            21613 non-null  object \n",
      " 9   No of Times Visited                        2124 non-null   object \n",
      " 10  Condition of the House                     21613 non-null  object \n",
      " 11  Overall Grade                              21613 non-null  int64  \n",
      " 12  Area of the House from Basement (in Sqft)  21610 non-null  float64\n",
      " 13  Basement Area (in Sqft)                    21613 non-null  int64  \n",
      " 14  Age of House (in Years)                    21613 non-null  int64  \n",
      " 15  Renovated Year                             21613 non-null  int64  \n",
      " 16  Zipcode                                    21612 non-null  float64\n",
      " 17  Latitude                                   21612 non-null  float64\n",
      " 18  Longitude                                  21612 non-null  float64\n",
      " 19  Living Area after Renovation (in Sqft)     21612 non-null  float64\n",
      " 20  Lot Area after Renovation (in Sqft)        21613 non-null  int64  \n",
      "dtypes: float64(10), int64(7), object(4)\n",
      "memory usage: 3.5+ MB\n"
     ]
    }
   ],
   "source": [
    "data.info()"
   ]
  },
  {
   "cell_type": "code",
   "execution_count": 19,
   "metadata": {
    "colab": {},
    "colab_type": "code",
    "executionInfo": {
     "elapsed": 3998,
     "status": "ok",
     "timestamp": 1592370769821,
     "user": {
      "displayName": "Sharoon Saxena",
      "photoUrl": "https://lh3.googleusercontent.com/a-/AOh14GjyKz9rNCPkHi6QK8TjrjBFlTtaI9ngf0hIwgAl=s64",
      "userId": "01167841530696023488"
     },
     "user_tz": -330
    },
    "id": "z6xMLtXRdGbN"
   },
   "outputs": [],
   "source": [
    "#isolating numerical variables\n",
    "numerical_columns = ['No of Bathrooms', 'Flat Area (in Sqft)','Lot Area (in Sqft)',\n",
    "                     'Area of the House from Basement (in Sqft)','Latitude',\n",
    "                     'Longitude','Living Area after Renovation (in Sqft)']"
   ]
  },
  {
   "cell_type": "code",
   "execution_count": 20,
   "metadata": {
    "colab": {},
    "colab_type": "code",
    "executionInfo": {
     "elapsed": 3990,
     "status": "ok",
     "timestamp": 1592370769822,
     "user": {
      "displayName": "Sharoon Saxena",
      "photoUrl": "https://lh3.googleusercontent.com/a-/AOh14GjyKz9rNCPkHi6QK8TjrjBFlTtaI9ngf0hIwgAl=s64",
      "userId": "01167841530696023488"
     },
     "user_tz": -330
    },
    "id": "shZvE8UjvUrj"
   },
   "outputs": [],
   "source": [
    "#imputing missing values\n",
    "from sklearn.impute import SimpleImputer\n",
    "imputer = SimpleImputer(missing_values = np.nan, strategy = 'mean')\n",
    "data[numerical_columns] = imputer.fit_transform(data[numerical_columns])"
   ]
  },
  {
   "cell_type": "code",
   "execution_count": 21,
   "metadata": {
    "colab": {
     "base_uri": "https://localhost:8080/",
     "height": 493
    },
    "colab_type": "code",
    "executionInfo": {
     "elapsed": 3979,
     "status": "ok",
     "timestamp": 1592370769823,
     "user": {
      "displayName": "Sharoon Saxena",
      "photoUrl": "https://lh3.googleusercontent.com/a-/AOh14GjyKz9rNCPkHi6QK8TjrjBFlTtaI9ngf0hIwgAl=s64",
      "userId": "01167841530696023488"
     },
     "user_tz": -330
    },
    "id": "g82g050tcOAF",
    "outputId": "5b1f6633-5a53-41aa-d6b0-fe23f191f8cd"
   },
   "outputs": [
    {
     "name": "stdout",
     "output_type": "stream",
     "text": [
      "<class 'pandas.core.frame.DataFrame'>\n",
      "RangeIndex: 21613 entries, 0 to 21612\n",
      "Data columns (total 21 columns):\n",
      " #   Column                                     Non-Null Count  Dtype  \n",
      "---  ------                                     --------------  -----  \n",
      " 0   ID                                         21613 non-null  int64  \n",
      " 1   Date House was Sold                        21613 non-null  object \n",
      " 2   Sale Price                                 21609 non-null  float64\n",
      " 3   No of Bedrooms                             21613 non-null  int64  \n",
      " 4   No of Bathrooms                            21613 non-null  float64\n",
      " 5   Flat Area (in Sqft)                        21613 non-null  float64\n",
      " 6   Lot Area (in Sqft)                         21613 non-null  float64\n",
      " 7   No of Floors                               21613 non-null  float64\n",
      " 8   Waterfront View                            21613 non-null  object \n",
      " 9   No of Times Visited                        2124 non-null   object \n",
      " 10  Condition of the House                     21613 non-null  object \n",
      " 11  Overall Grade                              21613 non-null  int64  \n",
      " 12  Area of the House from Basement (in Sqft)  21613 non-null  float64\n",
      " 13  Basement Area (in Sqft)                    21613 non-null  int64  \n",
      " 14  Age of House (in Years)                    21613 non-null  int64  \n",
      " 15  Renovated Year                             21613 non-null  int64  \n",
      " 16  Zipcode                                    21612 non-null  float64\n",
      " 17  Latitude                                   21613 non-null  float64\n",
      " 18  Longitude                                  21613 non-null  float64\n",
      " 19  Living Area after Renovation (in Sqft)     21613 non-null  float64\n",
      " 20  Lot Area after Renovation (in Sqft)        21613 non-null  int64  \n",
      "dtypes: float64(10), int64(7), object(4)\n",
      "memory usage: 3.5+ MB\n"
     ]
    }
   ],
   "source": [
    "data.info()"
   ]
  },
  {
   "cell_type": "markdown",
   "metadata": {
    "colab_type": "text",
    "id": "IwUBgj4NEEXY"
   },
   "source": [
    "# zipcode transform"
   ]
  },
  {
   "cell_type": "code",
   "execution_count": 22,
   "metadata": {
    "colab": {},
    "colab_type": "code",
    "executionInfo": {
     "elapsed": 3965,
     "status": "ok",
     "timestamp": 1592370769824,
     "user": {
      "displayName": "Sharoon Saxena",
      "photoUrl": "https://lh3.googleusercontent.com/a-/AOh14GjyKz9rNCPkHi6QK8TjrjBFlTtaI9ngf0hIwgAl=s64",
      "userId": "01167841530696023488"
     },
     "user_tz": -330
    },
    "id": "m1k4zpx9h2RI"
   },
   "outputs": [],
   "source": [
    "imputer = SimpleImputer(missing_values = np.nan, strategy = 'most_frequent')\n",
    "data['Zipcode'] = imputer.fit_transform(data['Zipcode'].values.reshape(-1,1))"
   ]
  },
  {
   "cell_type": "code",
   "execution_count": 23,
   "metadata": {
    "colab": {
     "base_uri": "https://localhost:8080/",
     "height": 34
    },
    "colab_type": "code",
    "executionInfo": {
     "elapsed": 3954,
     "status": "ok",
     "timestamp": 1592370769824,
     "user": {
      "displayName": "Sharoon Saxena",
      "photoUrl": "https://lh3.googleusercontent.com/a-/AOh14GjyKz9rNCPkHi6QK8TjrjBFlTtaI9ngf0hIwgAl=s64",
      "userId": "01167841530696023488"
     },
     "user_tz": -330
    },
    "id": "gVhVkXvltChX",
    "outputId": "fd1a91b9-3544-40ce-ba29-b5d11574d639"
   },
   "outputs": [
    {
     "data": {
      "text/plain": [
       "(21613,)"
      ]
     },
     "execution_count": 23,
     "metadata": {},
     "output_type": "execute_result"
    }
   ],
   "source": [
    "data['Zipcode'].shape"
   ]
  },
  {
   "cell_type": "code",
   "execution_count": 24,
   "metadata": {
    "colab": {
     "base_uri": "https://localhost:8080/",
     "height": 34
    },
    "colab_type": "code",
    "executionInfo": {
     "elapsed": 3939,
     "status": "ok",
     "timestamp": 1592370769825,
     "user": {
      "displayName": "Sharoon Saxena",
      "photoUrl": "https://lh3.googleusercontent.com/a-/AOh14GjyKz9rNCPkHi6QK8TjrjBFlTtaI9ngf0hIwgAl=s64",
      "userId": "01167841530696023488"
     },
     "user_tz": -330
    },
    "id": "iXtZY38Vxg9i",
    "outputId": "bc722049-649c-408e-9fa9-897ffb8df728"
   },
   "outputs": [
    {
     "data": {
      "text/plain": [
       "(21613, 1)"
      ]
     },
     "execution_count": 24,
     "metadata": {},
     "output_type": "execute_result"
    }
   ],
   "source": [
    "column = data[\"Zipcode\"].values.reshape(-1,1)\n",
    "column.shape"
   ]
  },
  {
   "cell_type": "code",
   "execution_count": 25,
   "metadata": {
    "colab": {},
    "colab_type": "code",
    "executionInfo": {
     "elapsed": 3925,
     "status": "ok",
     "timestamp": 1592370769825,
     "user": {
      "displayName": "Sharoon Saxena",
      "photoUrl": "https://lh3.googleusercontent.com/a-/AOh14GjyKz9rNCPkHi6QK8TjrjBFlTtaI9ngf0hIwgAl=s64",
      "userId": "01167841530696023488"
     },
     "user_tz": -330
    },
    "id": "S5sAxB3OwHll"
   },
   "outputs": [],
   "source": [
    "imputer = SimpleImputer(missing_values = np.nan, strategy = 'most_frequent')\n",
    "data['Zipcode'] = imputer.fit_transform(column)"
   ]
  },
  {
   "cell_type": "code",
   "execution_count": 26,
   "metadata": {
    "colab": {
     "base_uri": "https://localhost:8080/",
     "height": 493
    },
    "colab_type": "code",
    "executionInfo": {
     "elapsed": 3915,
     "status": "ok",
     "timestamp": 1592370769826,
     "user": {
      "displayName": "Sharoon Saxena",
      "photoUrl": "https://lh3.googleusercontent.com/a-/AOh14GjyKz9rNCPkHi6QK8TjrjBFlTtaI9ngf0hIwgAl=s64",
      "userId": "01167841530696023488"
     },
     "user_tz": -330
    },
    "id": "6zAZQlTixp3s",
    "outputId": "c47601ee-2678-4ba3-fd10-e5cd5339b7b2"
   },
   "outputs": [
    {
     "name": "stdout",
     "output_type": "stream",
     "text": [
      "<class 'pandas.core.frame.DataFrame'>\n",
      "RangeIndex: 21613 entries, 0 to 21612\n",
      "Data columns (total 21 columns):\n",
      " #   Column                                     Non-Null Count  Dtype  \n",
      "---  ------                                     --------------  -----  \n",
      " 0   ID                                         21613 non-null  int64  \n",
      " 1   Date House was Sold                        21613 non-null  object \n",
      " 2   Sale Price                                 21609 non-null  float64\n",
      " 3   No of Bedrooms                             21613 non-null  int64  \n",
      " 4   No of Bathrooms                            21613 non-null  float64\n",
      " 5   Flat Area (in Sqft)                        21613 non-null  float64\n",
      " 6   Lot Area (in Sqft)                         21613 non-null  float64\n",
      " 7   No of Floors                               21613 non-null  float64\n",
      " 8   Waterfront View                            21613 non-null  object \n",
      " 9   No of Times Visited                        2124 non-null   object \n",
      " 10  Condition of the House                     21613 non-null  object \n",
      " 11  Overall Grade                              21613 non-null  int64  \n",
      " 12  Area of the House from Basement (in Sqft)  21613 non-null  float64\n",
      " 13  Basement Area (in Sqft)                    21613 non-null  int64  \n",
      " 14  Age of House (in Years)                    21613 non-null  int64  \n",
      " 15  Renovated Year                             21613 non-null  int64  \n",
      " 16  Zipcode                                    21613 non-null  float64\n",
      " 17  Latitude                                   21613 non-null  float64\n",
      " 18  Longitude                                  21613 non-null  float64\n",
      " 19  Living Area after Renovation (in Sqft)     21613 non-null  float64\n",
      " 20  Lot Area after Renovation (in Sqft)        21613 non-null  int64  \n",
      "dtypes: float64(10), int64(7), object(4)\n",
      "memory usage: 3.5+ MB\n"
     ]
    }
   ],
   "source": [
    "data.info()"
   ]
  },
  {
   "cell_type": "markdown",
   "metadata": {
    "colab_type": "text",
    "id": "0KwCTERkEurY"
   },
   "source": [
    "# Other transformations"
   ]
  },
  {
   "cell_type": "code",
   "execution_count": 27,
   "metadata": {
    "colab": {
     "base_uri": "https://localhost:8080/",
     "height": 34
    },
    "colab_type": "code",
    "executionInfo": {
     "elapsed": 3902,
     "status": "ok",
     "timestamp": 1592370769827,
     "user": {
      "displayName": "Sharoon Saxena",
      "photoUrl": "https://lh3.googleusercontent.com/a-/AOh14GjyKz9rNCPkHi6QK8TjrjBFlTtaI9ngf0hIwgAl=s64",
      "userId": "01167841530696023488"
     },
     "user_tz": -330
    },
    "id": "L1QSLL0fC8m7",
    "outputId": "23886552-6dea-4eeb-a89e-6c5b2f9505fc"
   },
   "outputs": [
    {
     "data": {
      "text/plain": [
       "array([nan, 'Thrice', 'Four', 'Twice', 'Once'], dtype=object)"
      ]
     },
     "execution_count": 27,
     "metadata": {},
     "output_type": "execute_result"
    }
   ],
   "source": [
    "data['No of Times Visited'].unique()"
   ]
  },
  {
   "cell_type": "code",
   "execution_count": 28,
   "metadata": {
    "colab": {},
    "colab_type": "code",
    "executionInfo": {
     "elapsed": 3891,
     "status": "ok",
     "timestamp": 1592370769828,
     "user": {
      "displayName": "Sharoon Saxena",
      "photoUrl": "https://lh3.googleusercontent.com/a-/AOh14GjyKz9rNCPkHi6QK8TjrjBFlTtaI9ngf0hIwgAl=s64",
      "userId": "01167841530696023488"
     },
     "user_tz": -330
    },
    "id": "uGMpGbccuRTn"
   },
   "outputs": [],
   "source": [
    "# converting from string to categorical\n",
    "mapping = {'None' : \"0\",\n",
    "           'Once' : '1',\n",
    "           'Twice' : '2',\n",
    "           'Thrice' : '3',\n",
    "           'Four' : '4'}\n",
    "\n",
    "data['No of Times Visited'] = data['No of Times Visited'].map(mapping)"
   ]
  },
  {
   "cell_type": "code",
   "execution_count": 29,
   "metadata": {
    "colab": {
     "base_uri": "https://localhost:8080/",
     "height": 34
    },
    "colab_type": "code",
    "executionInfo": {
     "elapsed": 3882,
     "status": "ok",
     "timestamp": 1592370769829,
     "user": {
      "displayName": "Sharoon Saxena",
      "photoUrl": "https://lh3.googleusercontent.com/a-/AOh14GjyKz9rNCPkHi6QK8TjrjBFlTtaI9ngf0hIwgAl=s64",
      "userId": "01167841530696023488"
     },
     "user_tz": -330
    },
    "id": "m0I1D5jXu553",
    "outputId": "3edd0656-8a09-4f02-ba56-4b53ea10f119"
   },
   "outputs": [
    {
     "data": {
      "text/plain": [
       "array([nan, '3', '4', '2', '1'], dtype=object)"
      ]
     },
     "execution_count": 29,
     "metadata": {},
     "output_type": "execute_result"
    }
   ],
   "source": [
    "data['No of Times Visited'].unique()"
   ]
  },
  {
   "cell_type": "code",
   "execution_count": 30,
   "metadata": {
    "colab": {},
    "colab_type": "code",
    "executionInfo": {
     "elapsed": 3871,
     "status": "ok",
     "timestamp": 1592370769829,
     "user": {
      "displayName": "Sharoon Saxena",
      "photoUrl": "https://lh3.googleusercontent.com/a-/AOh14GjyKz9rNCPkHi6QK8TjrjBFlTtaI9ngf0hIwgAl=s64",
      "userId": "01167841530696023488"
     },
     "user_tz": -330
    },
    "id": "8ZoKhrG8wNWW"
   },
   "outputs": [],
   "source": [
    "# new variable creation\n",
    "data['Ever Renovated'] = np.where(data['Renovated Year'] == 0, 'No', 'Yes')"
   ]
  },
  {
   "cell_type": "code",
   "execution_count": 31,
   "metadata": {
    "colab": {
     "base_uri": "https://localhost:8080/",
     "height": 496
    },
    "colab_type": "code",
    "executionInfo": {
     "elapsed": 3861,
     "status": "ok",
     "timestamp": 1592370769830,
     "user": {
      "displayName": "Sharoon Saxena",
      "photoUrl": "https://lh3.googleusercontent.com/a-/AOh14GjyKz9rNCPkHi6QK8TjrjBFlTtaI9ngf0hIwgAl=s64",
      "userId": "01167841530696023488"
     },
     "user_tz": -330
    },
    "id": "bJJzbLKZwji2",
    "outputId": "61adc7f3-0097-420a-aef1-96aee2f99f71"
   },
   "outputs": [
    {
     "data": {
      "text/html": [
       "<div>\n",
       "<style scoped>\n",
       "    .dataframe tbody tr th:only-of-type {\n",
       "        vertical-align: middle;\n",
       "    }\n",
       "\n",
       "    .dataframe tbody tr th {\n",
       "        vertical-align: top;\n",
       "    }\n",
       "\n",
       "    .dataframe thead th {\n",
       "        text-align: right;\n",
       "    }\n",
       "</style>\n",
       "<table border=\"1\" class=\"dataframe\">\n",
       "  <thead>\n",
       "    <tr style=\"text-align: right;\">\n",
       "      <th></th>\n",
       "      <th>ID</th>\n",
       "      <th>Date House was Sold</th>\n",
       "      <th>Sale Price</th>\n",
       "      <th>No of Bedrooms</th>\n",
       "      <th>No of Bathrooms</th>\n",
       "      <th>Flat Area (in Sqft)</th>\n",
       "      <th>Lot Area (in Sqft)</th>\n",
       "      <th>No of Floors</th>\n",
       "      <th>Waterfront View</th>\n",
       "      <th>No of Times Visited</th>\n",
       "      <th>...</th>\n",
       "      <th>Area of the House from Basement (in Sqft)</th>\n",
       "      <th>Basement Area (in Sqft)</th>\n",
       "      <th>Age of House (in Years)</th>\n",
       "      <th>Renovated Year</th>\n",
       "      <th>Zipcode</th>\n",
       "      <th>Latitude</th>\n",
       "      <th>Longitude</th>\n",
       "      <th>Living Area after Renovation (in Sqft)</th>\n",
       "      <th>Lot Area after Renovation (in Sqft)</th>\n",
       "      <th>Ever Renovated</th>\n",
       "    </tr>\n",
       "  </thead>\n",
       "  <tbody>\n",
       "    <tr>\n",
       "      <th>0</th>\n",
       "      <td>7129300520</td>\n",
       "      <td>14 October 2017</td>\n",
       "      <td>221900.0</td>\n",
       "      <td>3</td>\n",
       "      <td>1.00</td>\n",
       "      <td>1180.0</td>\n",
       "      <td>5650.0</td>\n",
       "      <td>1.0</td>\n",
       "      <td>No</td>\n",
       "      <td>NaN</td>\n",
       "      <td>...</td>\n",
       "      <td>1180.0</td>\n",
       "      <td>0</td>\n",
       "      <td>63</td>\n",
       "      <td>0</td>\n",
       "      <td>98178.0</td>\n",
       "      <td>47.5112</td>\n",
       "      <td>-122.257</td>\n",
       "      <td>1340.0</td>\n",
       "      <td>5650</td>\n",
       "      <td>No</td>\n",
       "    </tr>\n",
       "    <tr>\n",
       "      <th>1</th>\n",
       "      <td>6414100192</td>\n",
       "      <td>14 December 2017</td>\n",
       "      <td>538000.0</td>\n",
       "      <td>3</td>\n",
       "      <td>2.25</td>\n",
       "      <td>2570.0</td>\n",
       "      <td>7242.0</td>\n",
       "      <td>2.0</td>\n",
       "      <td>No</td>\n",
       "      <td>NaN</td>\n",
       "      <td>...</td>\n",
       "      <td>2170.0</td>\n",
       "      <td>400</td>\n",
       "      <td>67</td>\n",
       "      <td>1991</td>\n",
       "      <td>98125.0</td>\n",
       "      <td>47.7210</td>\n",
       "      <td>-122.319</td>\n",
       "      <td>1690.0</td>\n",
       "      <td>7639</td>\n",
       "      <td>Yes</td>\n",
       "    </tr>\n",
       "    <tr>\n",
       "      <th>2</th>\n",
       "      <td>5631500400</td>\n",
       "      <td>15 February 2016</td>\n",
       "      <td>180000.0</td>\n",
       "      <td>2</td>\n",
       "      <td>1.00</td>\n",
       "      <td>770.0</td>\n",
       "      <td>10000.0</td>\n",
       "      <td>1.0</td>\n",
       "      <td>No</td>\n",
       "      <td>NaN</td>\n",
       "      <td>...</td>\n",
       "      <td>770.0</td>\n",
       "      <td>0</td>\n",
       "      <td>85</td>\n",
       "      <td>0</td>\n",
       "      <td>98028.0</td>\n",
       "      <td>47.7379</td>\n",
       "      <td>-122.233</td>\n",
       "      <td>2720.0</td>\n",
       "      <td>8062</td>\n",
       "      <td>No</td>\n",
       "    </tr>\n",
       "    <tr>\n",
       "      <th>3</th>\n",
       "      <td>2487200875</td>\n",
       "      <td>14 December 2017</td>\n",
       "      <td>604000.0</td>\n",
       "      <td>4</td>\n",
       "      <td>3.00</td>\n",
       "      <td>1960.0</td>\n",
       "      <td>5000.0</td>\n",
       "      <td>1.0</td>\n",
       "      <td>No</td>\n",
       "      <td>NaN</td>\n",
       "      <td>...</td>\n",
       "      <td>1050.0</td>\n",
       "      <td>910</td>\n",
       "      <td>53</td>\n",
       "      <td>0</td>\n",
       "      <td>98136.0</td>\n",
       "      <td>47.5208</td>\n",
       "      <td>-122.393</td>\n",
       "      <td>1360.0</td>\n",
       "      <td>5000</td>\n",
       "      <td>No</td>\n",
       "    </tr>\n",
       "    <tr>\n",
       "      <th>4</th>\n",
       "      <td>1954400510</td>\n",
       "      <td>15 February 2016</td>\n",
       "      <td>510000.0</td>\n",
       "      <td>3</td>\n",
       "      <td>2.00</td>\n",
       "      <td>1680.0</td>\n",
       "      <td>8080.0</td>\n",
       "      <td>1.0</td>\n",
       "      <td>No</td>\n",
       "      <td>NaN</td>\n",
       "      <td>...</td>\n",
       "      <td>1680.0</td>\n",
       "      <td>0</td>\n",
       "      <td>31</td>\n",
       "      <td>0</td>\n",
       "      <td>98074.0</td>\n",
       "      <td>47.6168</td>\n",
       "      <td>-122.045</td>\n",
       "      <td>1800.0</td>\n",
       "      <td>7503</td>\n",
       "      <td>No</td>\n",
       "    </tr>\n",
       "  </tbody>\n",
       "</table>\n",
       "<p>5 rows × 22 columns</p>\n",
       "</div>"
      ],
      "text/plain": [
       "           ID Date House was Sold  Sale Price  No of Bedrooms  \\\n",
       "0  7129300520     14 October 2017    221900.0               3   \n",
       "1  6414100192    14 December 2017    538000.0               3   \n",
       "2  5631500400    15 February 2016    180000.0               2   \n",
       "3  2487200875    14 December 2017    604000.0               4   \n",
       "4  1954400510    15 February 2016    510000.0               3   \n",
       "\n",
       "   No of Bathrooms  Flat Area (in Sqft)  Lot Area (in Sqft)  No of Floors  \\\n",
       "0             1.00               1180.0              5650.0           1.0   \n",
       "1             2.25               2570.0              7242.0           2.0   \n",
       "2             1.00                770.0             10000.0           1.0   \n",
       "3             3.00               1960.0              5000.0           1.0   \n",
       "4             2.00               1680.0              8080.0           1.0   \n",
       "\n",
       "  Waterfront View No of Times Visited  ...  \\\n",
       "0              No                 NaN  ...   \n",
       "1              No                 NaN  ...   \n",
       "2              No                 NaN  ...   \n",
       "3              No                 NaN  ...   \n",
       "4              No                 NaN  ...   \n",
       "\n",
       "  Area of the House from Basement (in Sqft)  Basement Area (in Sqft)  \\\n",
       "0                                    1180.0                        0   \n",
       "1                                    2170.0                      400   \n",
       "2                                     770.0                        0   \n",
       "3                                    1050.0                      910   \n",
       "4                                    1680.0                        0   \n",
       "\n",
       "   Age of House (in Years)  Renovated Year  Zipcode  Latitude  Longitude  \\\n",
       "0                       63               0  98178.0   47.5112   -122.257   \n",
       "1                       67            1991  98125.0   47.7210   -122.319   \n",
       "2                       85               0  98028.0   47.7379   -122.233   \n",
       "3                       53               0  98136.0   47.5208   -122.393   \n",
       "4                       31               0  98074.0   47.6168   -122.045   \n",
       "\n",
       "   Living Area after Renovation (in Sqft)  \\\n",
       "0                                  1340.0   \n",
       "1                                  1690.0   \n",
       "2                                  2720.0   \n",
       "3                                  1360.0   \n",
       "4                                  1800.0   \n",
       "\n",
       "   Lot Area after Renovation (in Sqft)  Ever Renovated  \n",
       "0                                 5650              No  \n",
       "1                                 7639             Yes  \n",
       "2                                 8062              No  \n",
       "3                                 5000              No  \n",
       "4                                 7503              No  \n",
       "\n",
       "[5 rows x 22 columns]"
      ]
     },
     "execution_count": 31,
     "metadata": {},
     "output_type": "execute_result"
    }
   ],
   "source": [
    "data.head()"
   ]
  },
  {
   "cell_type": "code",
   "execution_count": 32,
   "metadata": {
    "colab": {},
    "colab_type": "code",
    "executionInfo": {
     "elapsed": 6496,
     "status": "ok",
     "timestamp": 1592370772490,
     "user": {
      "displayName": "Sharoon Saxena",
      "photoUrl": "https://lh3.googleusercontent.com/a-/AOh14GjyKz9rNCPkHi6QK8TjrjBFlTtaI9ngf0hIwgAl=s64",
      "userId": "01167841530696023488"
     },
     "user_tz": -330
    },
    "id": "pzoi4XO0yBsr"
   },
   "outputs": [],
   "source": [
    "#manipulating datetime variable\n",
    "data['Purchase Year'] = pd.DatetimeIndex(data['Date House was Sold']).year"
   ]
  },
  {
   "cell_type": "code",
   "execution_count": 33,
   "metadata": {
    "colab": {},
    "colab_type": "code",
    "executionInfo": {
     "elapsed": 6485,
     "status": "ok",
     "timestamp": 1592370772490,
     "user": {
      "displayName": "Sharoon Saxena",
      "photoUrl": "https://lh3.googleusercontent.com/a-/AOh14GjyKz9rNCPkHi6QK8TjrjBFlTtaI9ngf0hIwgAl=s64",
      "userId": "01167841530696023488"
     },
     "user_tz": -330
    },
    "id": "AoW6XaxP3ivz"
   },
   "outputs": [],
   "source": [
    "data['Years Since Renovation'] = np.where(data['Ever Renovated'] == 'Yes',\n",
    "                                                     abs(data['Purchase Year'] - \n",
    "                                                        data['Renovated Year']), 0)"
   ]
  },
  {
   "cell_type": "code",
   "execution_count": 34,
   "metadata": {
    "colab": {
     "base_uri": "https://localhost:8080/",
     "height": 496
    },
    "colab_type": "code",
    "executionInfo": {
     "elapsed": 6466,
     "status": "ok",
     "timestamp": 1592370772491,
     "user": {
      "displayName": "Sharoon Saxena",
      "photoUrl": "https://lh3.googleusercontent.com/a-/AOh14GjyKz9rNCPkHi6QK8TjrjBFlTtaI9ngf0hIwgAl=s64",
      "userId": "01167841530696023488"
     },
     "user_tz": -330
    },
    "id": "pkIhSmFl4V5O",
    "outputId": "93e0b77f-f37c-41b1-f516-344c05b282fa"
   },
   "outputs": [
    {
     "data": {
      "text/html": [
       "<div>\n",
       "<style scoped>\n",
       "    .dataframe tbody tr th:only-of-type {\n",
       "        vertical-align: middle;\n",
       "    }\n",
       "\n",
       "    .dataframe tbody tr th {\n",
       "        vertical-align: top;\n",
       "    }\n",
       "\n",
       "    .dataframe thead th {\n",
       "        text-align: right;\n",
       "    }\n",
       "</style>\n",
       "<table border=\"1\" class=\"dataframe\">\n",
       "  <thead>\n",
       "    <tr style=\"text-align: right;\">\n",
       "      <th></th>\n",
       "      <th>ID</th>\n",
       "      <th>Date House was Sold</th>\n",
       "      <th>Sale Price</th>\n",
       "      <th>No of Bedrooms</th>\n",
       "      <th>No of Bathrooms</th>\n",
       "      <th>Flat Area (in Sqft)</th>\n",
       "      <th>Lot Area (in Sqft)</th>\n",
       "      <th>No of Floors</th>\n",
       "      <th>Waterfront View</th>\n",
       "      <th>No of Times Visited</th>\n",
       "      <th>...</th>\n",
       "      <th>Age of House (in Years)</th>\n",
       "      <th>Renovated Year</th>\n",
       "      <th>Zipcode</th>\n",
       "      <th>Latitude</th>\n",
       "      <th>Longitude</th>\n",
       "      <th>Living Area after Renovation (in Sqft)</th>\n",
       "      <th>Lot Area after Renovation (in Sqft)</th>\n",
       "      <th>Ever Renovated</th>\n",
       "      <th>Purchase Year</th>\n",
       "      <th>Years Since Renovation</th>\n",
       "    </tr>\n",
       "  </thead>\n",
       "  <tbody>\n",
       "    <tr>\n",
       "      <th>0</th>\n",
       "      <td>7129300520</td>\n",
       "      <td>14 October 2017</td>\n",
       "      <td>221900.0</td>\n",
       "      <td>3</td>\n",
       "      <td>1.00</td>\n",
       "      <td>1180.0</td>\n",
       "      <td>5650.0</td>\n",
       "      <td>1.0</td>\n",
       "      <td>No</td>\n",
       "      <td>NaN</td>\n",
       "      <td>...</td>\n",
       "      <td>63</td>\n",
       "      <td>0</td>\n",
       "      <td>98178.0</td>\n",
       "      <td>47.5112</td>\n",
       "      <td>-122.257</td>\n",
       "      <td>1340.0</td>\n",
       "      <td>5650</td>\n",
       "      <td>No</td>\n",
       "      <td>2017</td>\n",
       "      <td>0</td>\n",
       "    </tr>\n",
       "    <tr>\n",
       "      <th>1</th>\n",
       "      <td>6414100192</td>\n",
       "      <td>14 December 2017</td>\n",
       "      <td>538000.0</td>\n",
       "      <td>3</td>\n",
       "      <td>2.25</td>\n",
       "      <td>2570.0</td>\n",
       "      <td>7242.0</td>\n",
       "      <td>2.0</td>\n",
       "      <td>No</td>\n",
       "      <td>NaN</td>\n",
       "      <td>...</td>\n",
       "      <td>67</td>\n",
       "      <td>1991</td>\n",
       "      <td>98125.0</td>\n",
       "      <td>47.7210</td>\n",
       "      <td>-122.319</td>\n",
       "      <td>1690.0</td>\n",
       "      <td>7639</td>\n",
       "      <td>Yes</td>\n",
       "      <td>2017</td>\n",
       "      <td>26</td>\n",
       "    </tr>\n",
       "    <tr>\n",
       "      <th>2</th>\n",
       "      <td>5631500400</td>\n",
       "      <td>15 February 2016</td>\n",
       "      <td>180000.0</td>\n",
       "      <td>2</td>\n",
       "      <td>1.00</td>\n",
       "      <td>770.0</td>\n",
       "      <td>10000.0</td>\n",
       "      <td>1.0</td>\n",
       "      <td>No</td>\n",
       "      <td>NaN</td>\n",
       "      <td>...</td>\n",
       "      <td>85</td>\n",
       "      <td>0</td>\n",
       "      <td>98028.0</td>\n",
       "      <td>47.7379</td>\n",
       "      <td>-122.233</td>\n",
       "      <td>2720.0</td>\n",
       "      <td>8062</td>\n",
       "      <td>No</td>\n",
       "      <td>2016</td>\n",
       "      <td>0</td>\n",
       "    </tr>\n",
       "    <tr>\n",
       "      <th>3</th>\n",
       "      <td>2487200875</td>\n",
       "      <td>14 December 2017</td>\n",
       "      <td>604000.0</td>\n",
       "      <td>4</td>\n",
       "      <td>3.00</td>\n",
       "      <td>1960.0</td>\n",
       "      <td>5000.0</td>\n",
       "      <td>1.0</td>\n",
       "      <td>No</td>\n",
       "      <td>NaN</td>\n",
       "      <td>...</td>\n",
       "      <td>53</td>\n",
       "      <td>0</td>\n",
       "      <td>98136.0</td>\n",
       "      <td>47.5208</td>\n",
       "      <td>-122.393</td>\n",
       "      <td>1360.0</td>\n",
       "      <td>5000</td>\n",
       "      <td>No</td>\n",
       "      <td>2017</td>\n",
       "      <td>0</td>\n",
       "    </tr>\n",
       "    <tr>\n",
       "      <th>4</th>\n",
       "      <td>1954400510</td>\n",
       "      <td>15 February 2016</td>\n",
       "      <td>510000.0</td>\n",
       "      <td>3</td>\n",
       "      <td>2.00</td>\n",
       "      <td>1680.0</td>\n",
       "      <td>8080.0</td>\n",
       "      <td>1.0</td>\n",
       "      <td>No</td>\n",
       "      <td>NaN</td>\n",
       "      <td>...</td>\n",
       "      <td>31</td>\n",
       "      <td>0</td>\n",
       "      <td>98074.0</td>\n",
       "      <td>47.6168</td>\n",
       "      <td>-122.045</td>\n",
       "      <td>1800.0</td>\n",
       "      <td>7503</td>\n",
       "      <td>No</td>\n",
       "      <td>2016</td>\n",
       "      <td>0</td>\n",
       "    </tr>\n",
       "  </tbody>\n",
       "</table>\n",
       "<p>5 rows × 24 columns</p>\n",
       "</div>"
      ],
      "text/plain": [
       "           ID Date House was Sold  Sale Price  No of Bedrooms  \\\n",
       "0  7129300520     14 October 2017    221900.0               3   \n",
       "1  6414100192    14 December 2017    538000.0               3   \n",
       "2  5631500400    15 February 2016    180000.0               2   \n",
       "3  2487200875    14 December 2017    604000.0               4   \n",
       "4  1954400510    15 February 2016    510000.0               3   \n",
       "\n",
       "   No of Bathrooms  Flat Area (in Sqft)  Lot Area (in Sqft)  No of Floors  \\\n",
       "0             1.00               1180.0              5650.0           1.0   \n",
       "1             2.25               2570.0              7242.0           2.0   \n",
       "2             1.00                770.0             10000.0           1.0   \n",
       "3             3.00               1960.0              5000.0           1.0   \n",
       "4             2.00               1680.0              8080.0           1.0   \n",
       "\n",
       "  Waterfront View No of Times Visited  ... Age of House (in Years)  \\\n",
       "0              No                 NaN  ...                      63   \n",
       "1              No                 NaN  ...                      67   \n",
       "2              No                 NaN  ...                      85   \n",
       "3              No                 NaN  ...                      53   \n",
       "4              No                 NaN  ...                      31   \n",
       "\n",
       "   Renovated Year  Zipcode  Latitude  Longitude  \\\n",
       "0               0  98178.0   47.5112   -122.257   \n",
       "1            1991  98125.0   47.7210   -122.319   \n",
       "2               0  98028.0   47.7379   -122.233   \n",
       "3               0  98136.0   47.5208   -122.393   \n",
       "4               0  98074.0   47.6168   -122.045   \n",
       "\n",
       "   Living Area after Renovation (in Sqft)  \\\n",
       "0                                  1340.0   \n",
       "1                                  1690.0   \n",
       "2                                  2720.0   \n",
       "3                                  1360.0   \n",
       "4                                  1800.0   \n",
       "\n",
       "   Lot Area after Renovation (in Sqft)  Ever Renovated  Purchase Year  \\\n",
       "0                                 5650              No           2017   \n",
       "1                                 7639             Yes           2017   \n",
       "2                                 8062              No           2016   \n",
       "3                                 5000              No           2017   \n",
       "4                                 7503              No           2016   \n",
       "\n",
       "   Years Since Renovation  \n",
       "0                       0  \n",
       "1                      26  \n",
       "2                       0  \n",
       "3                       0  \n",
       "4                       0  \n",
       "\n",
       "[5 rows x 24 columns]"
      ]
     },
     "execution_count": 34,
     "metadata": {},
     "output_type": "execute_result"
    }
   ],
   "source": [
    "data.head()"
   ]
  },
  {
   "cell_type": "code",
   "execution_count": 35,
   "metadata": {
    "colab": {},
    "colab_type": "code",
    "executionInfo": {
     "elapsed": 6452,
     "status": "ok",
     "timestamp": 1592370772491,
     "user": {
      "displayName": "Sharoon Saxena",
      "photoUrl": "https://lh3.googleusercontent.com/a-/AOh14GjyKz9rNCPkHi6QK8TjrjBFlTtaI9ngf0hIwgAl=s64",
      "userId": "01167841530696023488"
     },
     "user_tz": -330
    },
    "id": "nOiEshrD4qk4"
   },
   "outputs": [],
   "source": [
    "# dropping redundant variables\n",
    "data.drop( columns = ['Purchase Year', 'Date House was Sold', 'Renovated Year'], inplace = True)"
   ]
  },
  {
   "cell_type": "code",
   "execution_count": 36,
   "metadata": {
    "colab": {
     "base_uri": "https://localhost:8080/",
     "height": 326
    },
    "colab_type": "code",
    "executionInfo": {
     "elapsed": 6440,
     "status": "ok",
     "timestamp": 1592370772492,
     "user": {
      "displayName": "Sharoon Saxena",
      "photoUrl": "https://lh3.googleusercontent.com/a-/AOh14GjyKz9rNCPkHi6QK8TjrjBFlTtaI9ngf0hIwgAl=s64",
      "userId": "01167841530696023488"
     },
     "user_tz": -330
    },
    "id": "doqRXx7a5NhH",
    "outputId": "94a1e9f3-0d61-4d90-c288-1f1c6b54f4c0"
   },
   "outputs": [
    {
     "data": {
      "text/html": [
       "<div>\n",
       "<style scoped>\n",
       "    .dataframe tbody tr th:only-of-type {\n",
       "        vertical-align: middle;\n",
       "    }\n",
       "\n",
       "    .dataframe tbody tr th {\n",
       "        vertical-align: top;\n",
       "    }\n",
       "\n",
       "    .dataframe thead th {\n",
       "        text-align: right;\n",
       "    }\n",
       "</style>\n",
       "<table border=\"1\" class=\"dataframe\">\n",
       "  <thead>\n",
       "    <tr style=\"text-align: right;\">\n",
       "      <th></th>\n",
       "      <th>ID</th>\n",
       "      <th>Sale Price</th>\n",
       "      <th>No of Bedrooms</th>\n",
       "      <th>No of Bathrooms</th>\n",
       "      <th>Flat Area (in Sqft)</th>\n",
       "      <th>Lot Area (in Sqft)</th>\n",
       "      <th>No of Floors</th>\n",
       "      <th>Waterfront View</th>\n",
       "      <th>No of Times Visited</th>\n",
       "      <th>Condition of the House</th>\n",
       "      <th>...</th>\n",
       "      <th>Area of the House from Basement (in Sqft)</th>\n",
       "      <th>Basement Area (in Sqft)</th>\n",
       "      <th>Age of House (in Years)</th>\n",
       "      <th>Zipcode</th>\n",
       "      <th>Latitude</th>\n",
       "      <th>Longitude</th>\n",
       "      <th>Living Area after Renovation (in Sqft)</th>\n",
       "      <th>Lot Area after Renovation (in Sqft)</th>\n",
       "      <th>Ever Renovated</th>\n",
       "      <th>Years Since Renovation</th>\n",
       "    </tr>\n",
       "  </thead>\n",
       "  <tbody>\n",
       "    <tr>\n",
       "      <th>0</th>\n",
       "      <td>7129300520</td>\n",
       "      <td>221900.0</td>\n",
       "      <td>3</td>\n",
       "      <td>1.00</td>\n",
       "      <td>1180.0</td>\n",
       "      <td>5650.0</td>\n",
       "      <td>1.0</td>\n",
       "      <td>No</td>\n",
       "      <td>NaN</td>\n",
       "      <td>Fair</td>\n",
       "      <td>...</td>\n",
       "      <td>1180.0</td>\n",
       "      <td>0</td>\n",
       "      <td>63</td>\n",
       "      <td>98178.0</td>\n",
       "      <td>47.5112</td>\n",
       "      <td>-122.257</td>\n",
       "      <td>1340.0</td>\n",
       "      <td>5650</td>\n",
       "      <td>No</td>\n",
       "      <td>0</td>\n",
       "    </tr>\n",
       "    <tr>\n",
       "      <th>1</th>\n",
       "      <td>6414100192</td>\n",
       "      <td>538000.0</td>\n",
       "      <td>3</td>\n",
       "      <td>2.25</td>\n",
       "      <td>2570.0</td>\n",
       "      <td>7242.0</td>\n",
       "      <td>2.0</td>\n",
       "      <td>No</td>\n",
       "      <td>NaN</td>\n",
       "      <td>Fair</td>\n",
       "      <td>...</td>\n",
       "      <td>2170.0</td>\n",
       "      <td>400</td>\n",
       "      <td>67</td>\n",
       "      <td>98125.0</td>\n",
       "      <td>47.7210</td>\n",
       "      <td>-122.319</td>\n",
       "      <td>1690.0</td>\n",
       "      <td>7639</td>\n",
       "      <td>Yes</td>\n",
       "      <td>26</td>\n",
       "    </tr>\n",
       "    <tr>\n",
       "      <th>2</th>\n",
       "      <td>5631500400</td>\n",
       "      <td>180000.0</td>\n",
       "      <td>2</td>\n",
       "      <td>1.00</td>\n",
       "      <td>770.0</td>\n",
       "      <td>10000.0</td>\n",
       "      <td>1.0</td>\n",
       "      <td>No</td>\n",
       "      <td>NaN</td>\n",
       "      <td>Fair</td>\n",
       "      <td>...</td>\n",
       "      <td>770.0</td>\n",
       "      <td>0</td>\n",
       "      <td>85</td>\n",
       "      <td>98028.0</td>\n",
       "      <td>47.7379</td>\n",
       "      <td>-122.233</td>\n",
       "      <td>2720.0</td>\n",
       "      <td>8062</td>\n",
       "      <td>No</td>\n",
       "      <td>0</td>\n",
       "    </tr>\n",
       "    <tr>\n",
       "      <th>3</th>\n",
       "      <td>2487200875</td>\n",
       "      <td>604000.0</td>\n",
       "      <td>4</td>\n",
       "      <td>3.00</td>\n",
       "      <td>1960.0</td>\n",
       "      <td>5000.0</td>\n",
       "      <td>1.0</td>\n",
       "      <td>No</td>\n",
       "      <td>NaN</td>\n",
       "      <td>Excellent</td>\n",
       "      <td>...</td>\n",
       "      <td>1050.0</td>\n",
       "      <td>910</td>\n",
       "      <td>53</td>\n",
       "      <td>98136.0</td>\n",
       "      <td>47.5208</td>\n",
       "      <td>-122.393</td>\n",
       "      <td>1360.0</td>\n",
       "      <td>5000</td>\n",
       "      <td>No</td>\n",
       "      <td>0</td>\n",
       "    </tr>\n",
       "    <tr>\n",
       "      <th>4</th>\n",
       "      <td>1954400510</td>\n",
       "      <td>510000.0</td>\n",
       "      <td>3</td>\n",
       "      <td>2.00</td>\n",
       "      <td>1680.0</td>\n",
       "      <td>8080.0</td>\n",
       "      <td>1.0</td>\n",
       "      <td>No</td>\n",
       "      <td>NaN</td>\n",
       "      <td>Fair</td>\n",
       "      <td>...</td>\n",
       "      <td>1680.0</td>\n",
       "      <td>0</td>\n",
       "      <td>31</td>\n",
       "      <td>98074.0</td>\n",
       "      <td>47.6168</td>\n",
       "      <td>-122.045</td>\n",
       "      <td>1800.0</td>\n",
       "      <td>7503</td>\n",
       "      <td>No</td>\n",
       "      <td>0</td>\n",
       "    </tr>\n",
       "  </tbody>\n",
       "</table>\n",
       "<p>5 rows × 21 columns</p>\n",
       "</div>"
      ],
      "text/plain": [
       "           ID  Sale Price  No of Bedrooms  No of Bathrooms  \\\n",
       "0  7129300520    221900.0               3             1.00   \n",
       "1  6414100192    538000.0               3             2.25   \n",
       "2  5631500400    180000.0               2             1.00   \n",
       "3  2487200875    604000.0               4             3.00   \n",
       "4  1954400510    510000.0               3             2.00   \n",
       "\n",
       "   Flat Area (in Sqft)  Lot Area (in Sqft)  No of Floors Waterfront View  \\\n",
       "0               1180.0              5650.0           1.0              No   \n",
       "1               2570.0              7242.0           2.0              No   \n",
       "2                770.0             10000.0           1.0              No   \n",
       "3               1960.0              5000.0           1.0              No   \n",
       "4               1680.0              8080.0           1.0              No   \n",
       "\n",
       "  No of Times Visited Condition of the House  ...  \\\n",
       "0                 NaN                   Fair  ...   \n",
       "1                 NaN                   Fair  ...   \n",
       "2                 NaN                   Fair  ...   \n",
       "3                 NaN              Excellent  ...   \n",
       "4                 NaN                   Fair  ...   \n",
       "\n",
       "   Area of the House from Basement (in Sqft)  Basement Area (in Sqft)  \\\n",
       "0                                     1180.0                        0   \n",
       "1                                     2170.0                      400   \n",
       "2                                      770.0                        0   \n",
       "3                                     1050.0                      910   \n",
       "4                                     1680.0                        0   \n",
       "\n",
       "   Age of House (in Years)  Zipcode  Latitude  Longitude  \\\n",
       "0                       63  98178.0   47.5112   -122.257   \n",
       "1                       67  98125.0   47.7210   -122.319   \n",
       "2                       85  98028.0   47.7379   -122.233   \n",
       "3                       53  98136.0   47.5208   -122.393   \n",
       "4                       31  98074.0   47.6168   -122.045   \n",
       "\n",
       "   Living Area after Renovation (in Sqft)  \\\n",
       "0                                  1340.0   \n",
       "1                                  1690.0   \n",
       "2                                  2720.0   \n",
       "3                                  1360.0   \n",
       "4                                  1800.0   \n",
       "\n",
       "   Lot Area after Renovation (in Sqft)  Ever Renovated Years Since Renovation  \n",
       "0                                 5650              No                      0  \n",
       "1                                 7639             Yes                     26  \n",
       "2                                 8062              No                      0  \n",
       "3                                 5000              No                      0  \n",
       "4                                 7503              No                      0  \n",
       "\n",
       "[5 rows x 21 columns]"
      ]
     },
     "execution_count": 36,
     "metadata": {},
     "output_type": "execute_result"
    }
   ],
   "source": [
    "data.head()"
   ]
  },
  {
   "cell_type": "markdown",
   "metadata": {
    "colab_type": "text",
    "id": "xLgGAmfzFMAL"
   },
   "source": [
    "# zipcodebin"
   ]
  },
  {
   "cell_type": "code",
   "execution_count": 37,
   "metadata": {
    "colab": {},
    "colab_type": "code",
    "executionInfo": {
     "elapsed": 6426,
     "status": "ok",
     "timestamp": 1592370772492,
     "user": {
      "displayName": "Sharoon Saxena",
      "photoUrl": "https://lh3.googleusercontent.com/a-/AOh14GjyKz9rNCPkHi6QK8TjrjBFlTtaI9ngf0hIwgAl=s64",
      "userId": "01167841530696023488"
     },
     "user_tz": -330
    },
    "id": "yYKA8_Tv1yUl"
   },
   "outputs": [],
   "source": [
    "data.drop( columns = 'ID', inplace = True)"
   ]
  },
  {
   "cell_type": "code",
   "execution_count": 38,
   "metadata": {
    "colab": {
     "base_uri": "https://localhost:8080/",
     "height": 204
    },
    "colab_type": "code",
    "executionInfo": {
     "elapsed": 6412,
     "status": "ok",
     "timestamp": 1592370772493,
     "user": {
      "displayName": "Sharoon Saxena",
      "photoUrl": "https://lh3.googleusercontent.com/a-/AOh14GjyKz9rNCPkHi6QK8TjrjBFlTtaI9ngf0hIwgAl=s64",
      "userId": "01167841530696023488"
     },
     "user_tz": -330
    },
    "id": "YMiyBZ8e2A3D",
    "outputId": "ed97c390-0a8c-41e0-8003-94ac936bd332"
   },
   "outputs": [
    {
     "data": {
      "text/plain": [
       "0         Fair\n",
       "1         Fair\n",
       "2         Fair\n",
       "3    Excellent\n",
       "4         Fair\n",
       "5         Fair\n",
       "6         Fair\n",
       "7         Fair\n",
       "8         Fair\n",
       "9         Fair\n",
       "Name: Condition of the House, dtype: object"
      ]
     },
     "execution_count": 38,
     "metadata": {},
     "output_type": "execute_result"
    }
   ],
   "source": [
    "data['Condition of the House'].head(10)"
   ]
  },
  {
   "cell_type": "code",
   "execution_count": 39,
   "metadata": {
    "colab": {
     "base_uri": "https://localhost:8080/",
     "height": 119
    },
    "colab_type": "code",
    "executionInfo": {
     "elapsed": 6398,
     "status": "ok",
     "timestamp": 1592370772493,
     "user": {
      "displayName": "Sharoon Saxena",
      "photoUrl": "https://lh3.googleusercontent.com/a-/AOh14GjyKz9rNCPkHi6QK8TjrjBFlTtaI9ngf0hIwgAl=s64",
      "userId": "01167841530696023488"
     },
     "user_tz": -330
    },
    "id": "wrDpvMl_2Qb1",
    "outputId": "ed44769f-e7f7-469f-b316-6e5d5589bb3e"
   },
   "outputs": [
    {
     "data": {
      "text/plain": [
       "Condition of the House\n",
       "Fair         14031\n",
       "Good          5679\n",
       "Excellent     1701\n",
       "Okay           172\n",
       "Bad             30\n",
       "Name: count, dtype: int64"
      ]
     },
     "execution_count": 39,
     "metadata": {},
     "output_type": "execute_result"
    }
   ],
   "source": [
    "data['Condition of the House'].value_counts()"
   ]
  },
  {
   "cell_type": "code",
   "execution_count": 40,
   "metadata": {
    "colab": {
     "base_uri": "https://localhost:8080/",
     "height": 332
    },
    "colab_type": "code",
    "executionInfo": {
     "elapsed": 6387,
     "status": "ok",
     "timestamp": 1592370772494,
     "user": {
      "displayName": "Sharoon Saxena",
      "photoUrl": "https://lh3.googleusercontent.com/a-/AOh14GjyKz9rNCPkHi6QK8TjrjBFlTtaI9ngf0hIwgAl=s64",
      "userId": "01167841530696023488"
     },
     "user_tz": -330
    },
    "id": "lqWPkQ4T2ZWI",
    "outputId": "1ac1db89-fa1d-4eab-d311-00e7a5877bd5"
   },
   "outputs": [
    {
     "data": {
      "text/plain": [
       "<Axes: xlabel='Condition of the House'>"
      ]
     },
     "execution_count": 40,
     "metadata": {},
     "output_type": "execute_result"
    },
    {
     "data": {
      "image/png": "[encoded data removed]",
      "text/plain": [
       "<Figure size 640x480 with 1 Axes>"
      ]
     },
     "metadata": {},
     "output_type": "display_data"
    }
   ],
   "source": [
    "data.groupby('Condition of the House')['Sale Price'].mean().plot(kind = 'bar')"
   ]
  },
  {
   "cell_type": "code",
   "execution_count": 41,
   "metadata": {
    "colab": {
     "base_uri": "https://localhost:8080/",
     "height": 332
    },
    "colab_type": "code",
    "executionInfo": {
     "elapsed": 6370,
     "status": "ok",
     "timestamp": 1592370772494,
     "user": {
      "displayName": "Sharoon Saxena",
      "photoUrl": "https://lh3.googleusercontent.com/a-/AOh14GjyKz9rNCPkHi6QK8TjrjBFlTtaI9ngf0hIwgAl=s64",
      "userId": "01167841530696023488"
     },
     "user_tz": -330
    },
    "id": "vI0LgSLA3FEo",
    "outputId": "63261bea-5c22-4f17-ee05-42171dd77e89"
   },
   "outputs": [
    {
     "data": {
      "text/plain": [
       "<Axes: xlabel='Condition of the House'>"
      ]
     },
     "execution_count": 41,
     "metadata": {},
     "output_type": "execute_result"
    },
    {
     "data": {
      "image/png": "[encoded data removed]",
      "text/plain": [
       "<Figure size 640x480 with 1 Axes>"
      ]
     },
     "metadata": {},
     "output_type": "display_data"
    }
   ],
   "source": [
    "data.groupby('Condition of the House')['Sale Price'].mean().sort_values().plot(kind = 'bar')"
   ]
  },
  {
   "cell_type": "code",
   "execution_count": 42,
   "metadata": {
    "colab": {
     "base_uri": "https://localhost:8080/",
     "height": 313
    },
    "colab_type": "code",
    "executionInfo": {
     "elapsed": 6355,
     "status": "ok",
     "timestamp": 1592370772496,
     "user": {
      "displayName": "Sharoon Saxena",
      "photoUrl": "https://lh3.googleusercontent.com/a-/AOh14GjyKz9rNCPkHi6QK8TjrjBFlTtaI9ngf0hIwgAl=s64",
      "userId": "01167841530696023488"
     },
     "user_tz": -330
    },
    "id": "O1pOIOME3x9B",
    "outputId": "a9a3cd8f-e32b-4c01-bf0d-82f5803eaa9a"
   },
   "outputs": [
    {
     "data": {
      "text/plain": [
       "<Axes: xlabel='Waterfront View'>"
      ]
     },
     "execution_count": 42,
     "metadata": {},
     "output_type": "execute_result"
    },
    {
     "data": {
      "image/png": "[encoded data removed]",
      "text/plain": [
       "<Figure size 640x480 with 1 Axes>"
      ]
     },
     "metadata": {},
     "output_type": "display_data"
    }
   ],
   "source": [
    "data.groupby('Waterfront View')['Sale Price'].mean().sort_values().plot(kind = 'bar')"
   ]
  },
  {
   "cell_type": "code",
   "execution_count": 43,
   "metadata": {
    "colab": {
     "base_uri": "https://localhost:8080/",
     "height": 302
    },
    "colab_type": "code",
    "executionInfo": {
     "elapsed": 6340,
     "status": "ok",
     "timestamp": 1592370772497,
     "user": {
      "displayName": "Sharoon Saxena",
      "photoUrl": "https://lh3.googleusercontent.com/a-/AOh14GjyKz9rNCPkHi6QK8TjrjBFlTtaI9ngf0hIwgAl=s64",
      "userId": "01167841530696023488"
     },
     "user_tz": -330
    },
    "id": "g9DbRijF4ByK",
    "outputId": "827f7d8c-2e75-4ff8-8ce0-3ca845f3612b"
   },
   "outputs": [
    {
     "data": {
      "text/plain": [
       "<Axes: xlabel='Ever Renovated'>"
      ]
     },
     "execution_count": 43,
     "metadata": {},
     "output_type": "execute_result"
    },
    {
     "data": {
      "image/png": "[encoded data removed]",
      "text/plain": [
       "<Figure size 640x480 with 1 Axes>"
      ]
     },
     "metadata": {},
     "output_type": "display_data"
    }
   ],
   "source": [
    "data.groupby('Ever Renovated')['Sale Price'].mean().sort_values().plot(kind = 'bar')"
   ]
  },
  {
   "cell_type": "code",
   "execution_count": 44,
   "metadata": {
    "colab": {
     "base_uri": "https://localhost:8080/",
     "height": 339
    },
    "colab_type": "code",
    "executionInfo": {
     "elapsed": 7433,
     "status": "ok",
     "timestamp": 1592370773611,
     "user": {
      "displayName": "Sharoon Saxena",
      "photoUrl": "https://lh3.googleusercontent.com/a-/AOh14GjyKz9rNCPkHi6QK8TjrjBFlTtaI9ngf0hIwgAl=s64",
      "userId": "01167841530696023488"
     },
     "user_tz": -330
    },
    "id": "FbGthq624ExL",
    "outputId": "c6c18548-62ed-40cb-fbee-977084d70051"
   },
   "outputs": [
    {
     "data": {
      "text/plain": [
       "<Axes: xlabel='Zipcode'>"
      ]
     },
     "execution_count": 44,
     "metadata": {},
     "output_type": "execute_result"
    },
    {
     "data": {
      "image/png": "[encoded data removed]",
      "text/plain": [
       "<Figure size 640x480 with 1 Axes>"
      ]
     },
     "metadata": {},
     "output_type": "display_data"
    }
   ],
   "source": [
    "data.groupby('Zipcode',)['Sale Price'].mean().sort_values().plot(kind = 'bar')"
   ]
  },
  {
   "cell_type": "markdown",
   "metadata": {
    "colab_type": "text",
    "id": "c-pjInHWGPSj"
   },
   "source": [
    "# Linear Regression\n"
   ]
  },
  {
   "cell_type": "code",
   "execution_count": 45,
   "metadata": {
    "colab": {},
    "colab_type": "code",
    "executionInfo": {
     "elapsed": 7423,
     "status": "ok",
     "timestamp": 1592370773612,
     "user": {
      "displayName": "Sharoon Saxena",
      "photoUrl": "https://lh3.googleusercontent.com/a-/AOh14GjyKz9rNCPkHi6QK8TjrjBFlTtaI9ngf0hIwgAl=s64",
      "userId": "01167841530696023488"
     },
     "user_tz": -330
    },
    "id": "gcJrmLtAWz0A"
   },
   "outputs": [],
   "source": [
    "data.dropna(inplace=True)\n",
    "X = data.drop(columns=['Sale Price'])\n",
    "Y = data['Sale Price']"
   ]
  },
  {
   "cell_type": "markdown",
   "metadata": {
    "colab_type": "text",
    "id": "DU-9w-yiho9d"
   },
   "source": [
    "## variable transformation"
   ]
  },
  {
   "cell_type": "code",
   "execution_count": 46,
   "metadata": {
    "colab": {},
    "colab_type": "code",
    "executionInfo": {
     "elapsed": 7415,
     "status": "ok",
     "timestamp": 1592370773613,
     "user": {
      "displayName": "Sharoon Saxena",
      "photoUrl": "https://lh3.googleusercontent.com/a-/AOh14GjyKz9rNCPkHi6QK8TjrjBFlTtaI9ngf0hIwgAl=s64",
      "userId": "01167841530696023488"
     },
     "user_tz": -330
    },
    "id": "a0PIhdlodv7-"
   },
   "outputs": [],
   "source": [
    "#checking distribution of independent numerical variables\n",
    "def distribution(data ,var):\n",
    "  plt.figure(figsize = (len(var)*6,6), dpi = 120)\n",
    "  for j,i in enumerate(var):\n",
    "    plt.subplot(1,len(var),j+1)\n",
    "    plt.hist(data[i])\n",
    "    plt.title(i)"
   ]
  },
  {
   "cell_type": "code",
   "execution_count": 47,
   "metadata": {
    "colab": {},
    "colab_type": "code",
    "executionInfo": {
     "elapsed": 7404,
     "status": "ok",
     "timestamp": 1592370773613,
     "user": {
      "displayName": "Sharoon Saxena",
      "photoUrl": "https://lh3.googleusercontent.com/a-/AOh14GjyKz9rNCPkHi6QK8TjrjBFlTtaI9ngf0hIwgAl=s64",
      "userId": "01167841530696023488"
     },
     "user_tz": -330
    },
    "id": "layF1FGugCyc"
   },
   "outputs": [],
   "source": [
    "numerical_columns = ['No of Bedrooms', 'No of Bathrooms', 'Lot Area (in Sqft)',\n",
    "       'No of Floors',\n",
    "       'Area of the House from Basement (in Sqft)', 'Basement Area (in Sqft)',\n",
    "       'Age of House (in Years)', 'Latitude', 'Longitude',\n",
    "       'Living Area after Renovation (in Sqft)',\n",
    "       'Lot Area after Renovation (in Sqft)',\n",
    "       'Years Since Renovation']"
   ]
  },
  {
   "cell_type": "code",
   "execution_count": 48,
   "metadata": {
    "colab": {},
    "colab_type": "code",
    "executionInfo": {
     "elapsed": 7397,
     "status": "ok",
     "timestamp": 1592370773614,
     "user": {
      "displayName": "Sharoon Saxena",
      "photoUrl": "https://lh3.googleusercontent.com/a-/AOh14GjyKz9rNCPkHi6QK8TjrjBFlTtaI9ngf0hIwgAl=s64",
      "userId": "01167841530696023488"
     },
     "user_tz": -330
    },
    "id": "zwdkyA6PeZbi"
   },
   "outputs": [],
   "source": [
    "for i in numerical_columns:\n",
    "  X[i] = pd.to_numeric(X[i])"
   ]
  },
  {
   "cell_type": "code",
   "execution_count": 49,
   "metadata": {
    "colab": {
     "base_uri": "https://localhost:8080/",
     "height": 165
    },
    "colab_type": "code",
    "executionInfo": {
     "elapsed": 10865,
     "status": "ok",
     "timestamp": 1592370777091,
     "user": {
      "displayName": "Sharoon Saxena",
      "photoUrl": "https://lh3.googleusercontent.com/a-/AOh14GjyKz9rNCPkHi6QK8TjrjBFlTtaI9ngf0hIwgAl=s64",
      "userId": "01167841530696023488"
     },
     "user_tz": -330
    },
    "id": "JjjQKDiPfP7D",
    "outputId": "4868820f-a1df-4339-ec8a-3be4eff922db"
   },
   "outputs": [
    {
     "data": {
      "image/png": "[encoded data removed]",
      "text/plain": [
       "<Figure size 8640x720 with 12 Axes>"
      ]
     },
     "metadata": {},
     "output_type": "display_data"
    }
   ],
   "source": [
    "distribution(X, numerical_columns)"
   ]
  },
  {
   "cell_type": "code",
   "execution_count": 50,
   "metadata": {
    "colab": {},
    "colab_type": "code",
    "executionInfo": {
     "elapsed": 10854,
     "status": "ok",
     "timestamp": 1592370777092,
     "user": {
      "displayName": "Sharoon Saxena",
      "photoUrl": "https://lh3.googleusercontent.com/a-/AOh14GjyKz9rNCPkHi6QK8TjrjBFlTtaI9ngf0hIwgAl=s64",
      "userId": "01167841530696023488"
     },
     "user_tz": -330
    },
    "id": "CADxHXcghXjY"
   },
   "outputs": [],
   "source": [
    "#removing right skew\n",
    "def right_skew(x):\n",
    "  return np.log(abs(x+500))\n",
    "\n",
    "right_skew_variables = ['No of Bedrooms', 'No of Bathrooms', 'Lot Area (in Sqft)',\n",
    "       'No of Floors',\n",
    "       'Area of the House from Basement (in Sqft)', 'Basement Area (in Sqft)',\n",
    "        'Longitude',\n",
    "       'Living Area after Renovation (in Sqft)',\n",
    "       'Lot Area after Renovation (in Sqft)',\n",
    "       'Years Since Renovation']\n"
   ]
  },
  {
   "cell_type": "code",
   "execution_count": 51,
   "metadata": {
    "colab": {},
    "colab_type": "code",
    "executionInfo": {
     "elapsed": 10843,
     "status": "ok",
     "timestamp": 1592370777092,
     "user": {
      "displayName": "Sharoon Saxena",
      "photoUrl": "https://lh3.googleusercontent.com/a-/AOh14GjyKz9rNCPkHi6QK8TjrjBFlTtaI9ngf0hIwgAl=s64",
      "userId": "01167841530696023488"
     },
     "user_tz": -330
    },
    "id": "HTL7uG0di5CA"
   },
   "outputs": [],
   "source": [
    "for i in right_skew_variables:\n",
    "  X[i] = X[i].map(right_skew)\n",
    "\n",
    "# removing infinite values\n",
    "X = X.replace(np.inf, np.nan)\n",
    "X.dropna(inplace=True)"
   ]
  },
  {
   "cell_type": "code",
   "execution_count": 52,
   "metadata": {
    "colab": {
     "base_uri": "https://localhost:8080/",
     "height": 160
    },
    "colab_type": "code",
    "executionInfo": {
     "elapsed": 14322,
     "status": "ok",
     "timestamp": 1592370780580,
     "user": {
      "displayName": "Sharoon Saxena",
      "photoUrl": "https://lh3.googleusercontent.com/a-/AOh14GjyKz9rNCPkHi6QK8TjrjBFlTtaI9ngf0hIwgAl=s64",
      "userId": "01167841530696023488"
     },
     "user_tz": -330
    },
    "id": "KpN8aa9ElJEj",
    "outputId": "d4eff983-6469-461d-d0a0-a04280569b3d"
   },
   "outputs": [
    {
     "data": {
      "image/png": "[encoded data removed]",
      "text/plain": [
       "<Figure size 8640x720 with 12 Axes>"
      ]
     },
     "metadata": {},
     "output_type": "display_data"
    }
   ],
   "source": [
    "distribution(X, numerical_columns)"
   ]
  },
  {
   "cell_type": "markdown",
   "metadata": {
    "colab_type": "text",
    "id": "xvkHzrYordIB"
   },
   "source": [
    "## Scaling the dataset"
   ]
  },
  {
   "cell_type": "code",
   "execution_count": 53,
   "metadata": {
    "colab": {
     "base_uri": "https://localhost:8080/",
     "height": 326
    },
    "colab_type": "code",
    "executionInfo": {
     "elapsed": 14307,
     "status": "ok",
     "timestamp": 1592370780580,
     "user": {
      "displayName": "Sharoon Saxena",
      "photoUrl": "https://lh3.googleusercontent.com/a-/AOh14GjyKz9rNCPkHi6QK8TjrjBFlTtaI9ngf0hIwgAl=s64",
      "userId": "01167841530696023488"
     },
     "user_tz": -330
    },
    "id": "n8IPv4vHKFmC",
    "outputId": "aad5e22b-c340-4e88-8ef7-9ad4d4297353"
   },
   "outputs": [
    {
     "data": {
      "text/html": [
       "<div>\n",
       "<style scoped>\n",
       "    .dataframe tbody tr th:only-of-type {\n",
       "        vertical-align: middle;\n",
       "    }\n",
       "\n",
       "    .dataframe tbody tr th {\n",
       "        vertical-align: top;\n",
       "    }\n",
       "\n",
       "    .dataframe thead th {\n",
       "        text-align: right;\n",
       "    }\n",
       "</style>\n",
       "<table border=\"1\" class=\"dataframe\">\n",
       "  <thead>\n",
       "    <tr style=\"text-align: right;\">\n",
       "      <th></th>\n",
       "      <th>No of Bedrooms</th>\n",
       "      <th>No of Bathrooms</th>\n",
       "      <th>Flat Area (in Sqft)</th>\n",
       "      <th>Lot Area (in Sqft)</th>\n",
       "      <th>No of Floors</th>\n",
       "      <th>Waterfront View</th>\n",
       "      <th>No of Times Visited</th>\n",
       "      <th>Condition of the House</th>\n",
       "      <th>Overall Grade</th>\n",
       "      <th>Area of the House from Basement (in Sqft)</th>\n",
       "      <th>Basement Area (in Sqft)</th>\n",
       "      <th>Age of House (in Years)</th>\n",
       "      <th>Zipcode</th>\n",
       "      <th>Latitude</th>\n",
       "      <th>Longitude</th>\n",
       "      <th>Living Area after Renovation (in Sqft)</th>\n",
       "      <th>Lot Area after Renovation (in Sqft)</th>\n",
       "      <th>Ever Renovated</th>\n",
       "      <th>Years Since Renovation</th>\n",
       "    </tr>\n",
       "  </thead>\n",
       "  <tbody>\n",
       "    <tr>\n",
       "      <th>15</th>\n",
       "      <td>6.222576</td>\n",
       "      <td>6.220590</td>\n",
       "      <td>2950.0</td>\n",
       "      <td>8.612503</td>\n",
       "      <td>6.218600</td>\n",
       "      <td>No</td>\n",
       "      <td>3</td>\n",
       "      <td>Fair</td>\n",
       "      <td>9</td>\n",
       "      <td>7.816014</td>\n",
       "      <td>7.293018</td>\n",
       "      <td>39</td>\n",
       "      <td>98126.0</td>\n",
       "      <td>47.5714</td>\n",
       "      <td>5.933902</td>\n",
       "      <td>7.878534</td>\n",
       "      <td>8.411833</td>\n",
       "      <td>No</td>\n",
       "      <td>6.214608</td>\n",
       "    </tr>\n",
       "    <tr>\n",
       "      <th>21</th>\n",
       "      <td>6.220590</td>\n",
       "      <td>6.220093</td>\n",
       "      <td>3050.0</td>\n",
       "      <td>10.722540</td>\n",
       "      <td>6.216606</td>\n",
       "      <td>No</td>\n",
       "      <td>4</td>\n",
       "      <td>Fair</td>\n",
       "      <td>9</td>\n",
       "      <td>7.948032</td>\n",
       "      <td>7.106606</td>\n",
       "      <td>50</td>\n",
       "      <td>98040.0</td>\n",
       "      <td>47.5316</td>\n",
       "      <td>5.934278</td>\n",
       "      <td>8.435983</td>\n",
       "      <td>9.944438</td>\n",
       "      <td>No</td>\n",
       "      <td>6.214608</td>\n",
       "    </tr>\n",
       "    <tr>\n",
       "      <th>49</th>\n",
       "      <td>6.220590</td>\n",
       "      <td>6.219596</td>\n",
       "      <td>2753.0</td>\n",
       "      <td>11.089882</td>\n",
       "      <td>6.216606</td>\n",
       "      <td>Yes</td>\n",
       "      <td>2</td>\n",
       "      <td>Excellent</td>\n",
       "      <td>9</td>\n",
       "      <td>7.887959</td>\n",
       "      <td>6.992096</td>\n",
       "      <td>65</td>\n",
       "      <td>98070.0</td>\n",
       "      <td>47.4041</td>\n",
       "      <td>5.933700</td>\n",
       "      <td>8.064636</td>\n",
       "      <td>11.198393</td>\n",
       "      <td>No</td>\n",
       "      <td>6.214608</td>\n",
       "    </tr>\n",
       "    <tr>\n",
       "      <th>58</th>\n",
       "      <td>6.224558</td>\n",
       "      <td>6.221087</td>\n",
       "      <td>3250.0</td>\n",
       "      <td>9.605216</td>\n",
       "      <td>6.218600</td>\n",
       "      <td>No</td>\n",
       "      <td>4</td>\n",
       "      <td>Good</td>\n",
       "      <td>8</td>\n",
       "      <td>8.229511</td>\n",
       "      <td>6.214608</td>\n",
       "      <td>50</td>\n",
       "      <td>98008.0</td>\n",
       "      <td>47.5880</td>\n",
       "      <td>5.934587</td>\n",
       "      <td>8.149024</td>\n",
       "      <td>9.353921</td>\n",
       "      <td>No</td>\n",
       "      <td>6.214608</td>\n",
       "    </tr>\n",
       "    <tr>\n",
       "      <th>60</th>\n",
       "      <td>6.220590</td>\n",
       "      <td>6.219098</td>\n",
       "      <td>2150.0</td>\n",
       "      <td>9.986679</td>\n",
       "      <td>6.216606</td>\n",
       "      <td>No</td>\n",
       "      <td>3</td>\n",
       "      <td>Good</td>\n",
       "      <td>8</td>\n",
       "      <td>7.644919</td>\n",
       "      <td>6.966024</td>\n",
       "      <td>59</td>\n",
       "      <td>98166.0</td>\n",
       "      <td>47.4336</td>\n",
       "      <td>5.933997</td>\n",
       "      <td>8.029433</td>\n",
       "      <td>9.873028</td>\n",
       "      <td>No</td>\n",
       "      <td>6.214608</td>\n",
       "    </tr>\n",
       "  </tbody>\n",
       "</table>\n",
       "</div>"
      ],
      "text/plain": [
       "    No of Bedrooms  No of Bathrooms  Flat Area (in Sqft)  Lot Area (in Sqft)  \\\n",
       "15        6.222576         6.220590               2950.0            8.612503   \n",
       "21        6.220590         6.220093               3050.0           10.722540   \n",
       "49        6.220590         6.219596               2753.0           11.089882   \n",
       "58        6.224558         6.221087               3250.0            9.605216   \n",
       "60        6.220590         6.219098               2150.0            9.986679   \n",
       "\n",
       "    No of Floors Waterfront View No of Times Visited Condition of the House  \\\n",
       "15      6.218600              No                   3                   Fair   \n",
       "21      6.216606              No                   4                   Fair   \n",
       "49      6.216606             Yes                   2              Excellent   \n",
       "58      6.218600              No                   4                   Good   \n",
       "60      6.216606              No                   3                   Good   \n",
       "\n",
       "    Overall Grade  Area of the House from Basement (in Sqft)  \\\n",
       "15              9                                   7.816014   \n",
       "21              9                                   7.948032   \n",
       "49              9                                   7.887959   \n",
       "58              8                                   8.229511   \n",
       "60              8                                   7.644919   \n",
       "\n",
       "    Basement Area (in Sqft)  Age of House (in Years)  Zipcode  Latitude  \\\n",
       "15                 7.293018                       39  98126.0   47.5714   \n",
       "21                 7.106606                       50  98040.0   47.5316   \n",
       "49                 6.992096                       65  98070.0   47.4041   \n",
       "58                 6.214608                       50  98008.0   47.5880   \n",
       "60                 6.966024                       59  98166.0   47.4336   \n",
       "\n",
       "    Longitude  Living Area after Renovation (in Sqft)  \\\n",
       "15   5.933902                                7.878534   \n",
       "21   5.934278                                8.435983   \n",
       "49   5.933700                                8.064636   \n",
       "58   5.934587                                8.149024   \n",
       "60   5.933997                                8.029433   \n",
       "\n",
       "    Lot Area after Renovation (in Sqft) Ever Renovated  Years Since Renovation  \n",
       "15                             8.411833             No                6.214608  \n",
       "21                             9.944438             No                6.214608  \n",
       "49                            11.198393             No                6.214608  \n",
       "58                             9.353921             No                6.214608  \n",
       "60                             9.873028             No                6.214608  "
      ]
     },
     "execution_count": 53,
     "metadata": {},
     "output_type": "execute_result"
    }
   ],
   "source": [
    "X.head()"
   ]
  },
  {
   "cell_type": "code",
   "execution_count": 54,
   "metadata": {
    "colab": {
     "base_uri": "https://localhost:8080/",
     "height": 326
    },
    "colab_type": "code",
    "executionInfo": {
     "elapsed": 14294,
     "status": "ok",
     "timestamp": 1592370780581,
     "user": {
      "displayName": "Sharoon Saxena",
      "photoUrl": "https://lh3.googleusercontent.com/a-/AOh14GjyKz9rNCPkHi6QK8TjrjBFlTtaI9ngf0hIwgAl=s64",
      "userId": "01167841530696023488"
     },
     "user_tz": -330
    },
    "id": "WsRaqaWqKKm3",
    "outputId": "e0e5e552-a3d8-4706-dfcf-bbe1fbd66699"
   },
   "outputs": [
    {
     "data": {
      "text/html": [
       "<div>\n",
       "<style scoped>\n",
       "    .dataframe tbody tr th:only-of-type {\n",
       "        vertical-align: middle;\n",
       "    }\n",
       "\n",
       "    .dataframe tbody tr th {\n",
       "        vertical-align: top;\n",
       "    }\n",
       "\n",
       "    .dataframe thead th {\n",
       "        text-align: right;\n",
       "    }\n",
       "</style>\n",
       "<table border=\"1\" class=\"dataframe\">\n",
       "  <thead>\n",
       "    <tr style=\"text-align: right;\">\n",
       "      <th></th>\n",
       "      <th>No of Bedrooms</th>\n",
       "      <th>No of Bathrooms</th>\n",
       "      <th>Flat Area (in Sqft)</th>\n",
       "      <th>Lot Area (in Sqft)</th>\n",
       "      <th>No of Floors</th>\n",
       "      <th>Waterfront View</th>\n",
       "      <th>No of Times Visited</th>\n",
       "      <th>Condition of the House</th>\n",
       "      <th>Overall Grade</th>\n",
       "      <th>Area of the House from Basement (in Sqft)</th>\n",
       "      <th>Basement Area (in Sqft)</th>\n",
       "      <th>Age of House (in Years)</th>\n",
       "      <th>Zipcode</th>\n",
       "      <th>Latitude</th>\n",
       "      <th>Longitude</th>\n",
       "      <th>Living Area after Renovation (in Sqft)</th>\n",
       "      <th>Lot Area after Renovation (in Sqft)</th>\n",
       "      <th>Ever Renovated</th>\n",
       "      <th>Years Since Renovation</th>\n",
       "    </tr>\n",
       "  </thead>\n",
       "  <tbody>\n",
       "    <tr>\n",
       "      <th>15</th>\n",
       "      <td>6.222576</td>\n",
       "      <td>6.220590</td>\n",
       "      <td>2950.0</td>\n",
       "      <td>8.612503</td>\n",
       "      <td>6.218600</td>\n",
       "      <td>0</td>\n",
       "      <td>3</td>\n",
       "      <td>3</td>\n",
       "      <td>9</td>\n",
       "      <td>7.816014</td>\n",
       "      <td>7.293018</td>\n",
       "      <td>39</td>\n",
       "      <td>98126.0</td>\n",
       "      <td>47.5714</td>\n",
       "      <td>5.933902</td>\n",
       "      <td>7.878534</td>\n",
       "      <td>8.411833</td>\n",
       "      <td>0</td>\n",
       "      <td>6.214608</td>\n",
       "    </tr>\n",
       "    <tr>\n",
       "      <th>21</th>\n",
       "      <td>6.220590</td>\n",
       "      <td>6.220093</td>\n",
       "      <td>3050.0</td>\n",
       "      <td>10.722540</td>\n",
       "      <td>6.216606</td>\n",
       "      <td>0</td>\n",
       "      <td>4</td>\n",
       "      <td>3</td>\n",
       "      <td>9</td>\n",
       "      <td>7.948032</td>\n",
       "      <td>7.106606</td>\n",
       "      <td>50</td>\n",
       "      <td>98040.0</td>\n",
       "      <td>47.5316</td>\n",
       "      <td>5.934278</td>\n",
       "      <td>8.435983</td>\n",
       "      <td>9.944438</td>\n",
       "      <td>0</td>\n",
       "      <td>6.214608</td>\n",
       "    </tr>\n",
       "    <tr>\n",
       "      <th>49</th>\n",
       "      <td>6.220590</td>\n",
       "      <td>6.219596</td>\n",
       "      <td>2753.0</td>\n",
       "      <td>11.089882</td>\n",
       "      <td>6.216606</td>\n",
       "      <td>1</td>\n",
       "      <td>2</td>\n",
       "      <td>5</td>\n",
       "      <td>9</td>\n",
       "      <td>7.887959</td>\n",
       "      <td>6.992096</td>\n",
       "      <td>65</td>\n",
       "      <td>98070.0</td>\n",
       "      <td>47.4041</td>\n",
       "      <td>5.933700</td>\n",
       "      <td>8.064636</td>\n",
       "      <td>11.198393</td>\n",
       "      <td>0</td>\n",
       "      <td>6.214608</td>\n",
       "    </tr>\n",
       "    <tr>\n",
       "      <th>58</th>\n",
       "      <td>6.224558</td>\n",
       "      <td>6.221087</td>\n",
       "      <td>3250.0</td>\n",
       "      <td>9.605216</td>\n",
       "      <td>6.218600</td>\n",
       "      <td>0</td>\n",
       "      <td>4</td>\n",
       "      <td>4</td>\n",
       "      <td>8</td>\n",
       "      <td>8.229511</td>\n",
       "      <td>6.214608</td>\n",
       "      <td>50</td>\n",
       "      <td>98008.0</td>\n",
       "      <td>47.5880</td>\n",
       "      <td>5.934587</td>\n",
       "      <td>8.149024</td>\n",
       "      <td>9.353921</td>\n",
       "      <td>0</td>\n",
       "      <td>6.214608</td>\n",
       "    </tr>\n",
       "    <tr>\n",
       "      <th>60</th>\n",
       "      <td>6.220590</td>\n",
       "      <td>6.219098</td>\n",
       "      <td>2150.0</td>\n",
       "      <td>9.986679</td>\n",
       "      <td>6.216606</td>\n",
       "      <td>0</td>\n",
       "      <td>3</td>\n",
       "      <td>4</td>\n",
       "      <td>8</td>\n",
       "      <td>7.644919</td>\n",
       "      <td>6.966024</td>\n",
       "      <td>59</td>\n",
       "      <td>98166.0</td>\n",
       "      <td>47.4336</td>\n",
       "      <td>5.933997</td>\n",
       "      <td>8.029433</td>\n",
       "      <td>9.873028</td>\n",
       "      <td>0</td>\n",
       "      <td>6.214608</td>\n",
       "    </tr>\n",
       "  </tbody>\n",
       "</table>\n",
       "</div>"
      ],
      "text/plain": [
       "    No of Bedrooms  No of Bathrooms  Flat Area (in Sqft)  Lot Area (in Sqft)  \\\n",
       "15        6.222576         6.220590               2950.0            8.612503   \n",
       "21        6.220590         6.220093               3050.0           10.722540   \n",
       "49        6.220590         6.219596               2753.0           11.089882   \n",
       "58        6.224558         6.221087               3250.0            9.605216   \n",
       "60        6.220590         6.219098               2150.0            9.986679   \n",
       "\n",
       "    No of Floors  Waterfront View No of Times Visited  Condition of the House  \\\n",
       "15      6.218600                0                   3                       3   \n",
       "21      6.216606                0                   4                       3   \n",
       "49      6.216606                1                   2                       5   \n",
       "58      6.218600                0                   4                       4   \n",
       "60      6.216606                0                   3                       4   \n",
       "\n",
       "    Overall Grade  Area of the House from Basement (in Sqft)  \\\n",
       "15              9                                   7.816014   \n",
       "21              9                                   7.948032   \n",
       "49              9                                   7.887959   \n",
       "58              8                                   8.229511   \n",
       "60              8                                   7.644919   \n",
       "\n",
       "    Basement Area (in Sqft)  Age of House (in Years)  Zipcode  Latitude  \\\n",
       "15                 7.293018                       39  98126.0   47.5714   \n",
       "21                 7.106606                       50  98040.0   47.5316   \n",
       "49                 6.992096                       65  98070.0   47.4041   \n",
       "58                 6.214608                       50  98008.0   47.5880   \n",
       "60                 6.966024                       59  98166.0   47.4336   \n",
       "\n",
       "    Longitude  Living Area after Renovation (in Sqft)  \\\n",
       "15   5.933902                                7.878534   \n",
       "21   5.934278                                8.435983   \n",
       "49   5.933700                                8.064636   \n",
       "58   5.934587                                8.149024   \n",
       "60   5.933997                                8.029433   \n",
       "\n",
       "    Lot Area after Renovation (in Sqft)  Ever Renovated  \\\n",
       "15                             8.411833               0   \n",
       "21                             9.944438               0   \n",
       "49                            11.198393               0   \n",
       "58                             9.353921               0   \n",
       "60                             9.873028               0   \n",
       "\n",
       "    Years Since Renovation  \n",
       "15                6.214608  \n",
       "21                6.214608  \n",
       "49                6.214608  \n",
       "58                6.214608  \n",
       "60                6.214608  "
      ]
     },
     "execution_count": 54,
     "metadata": {},
     "output_type": "execute_result"
    }
   ],
   "source": [
    "X[\"Waterfront View\"] = X[\"Waterfront View\"].map({    'No':0,\n",
    "   'Yes':1\n",
    "})\n",
    "\n",
    "\n",
    "X['Condition of the House'] = X['Condition of the House'].map({'Bad':1,\n",
    "                                                                     'Okay':2,\n",
    "                                                                     'Fair':3,\n",
    "                                                                     'Good':4,\n",
    "                                                                     'Excellent':5\n",
    "})\n",
    "\n",
    "X['Ever Renovated'] = X['Ever Renovated'].map({\n",
    "    'No':0,\n",
    "    'Yes':1\n",
    "})\n",
    "\n",
    "X.head()"
   ]
  },
  {
   "cell_type": "code",
   "execution_count": 55,
   "metadata": {
    "colab": {
     "base_uri": "https://localhost:8080/",
     "height": 326
    },
    "colab_type": "code",
    "executionInfo": {
     "elapsed": 14282,
     "status": "ok",
     "timestamp": 1592370780581,
     "user": {
      "displayName": "Sharoon Saxena",
      "photoUrl": "https://lh3.googleusercontent.com/a-/AOh14GjyKz9rNCPkHi6QK8TjrjBFlTtaI9ngf0hIwgAl=s64",
      "userId": "01167841530696023488"
     },
     "user_tz": -330
    },
    "id": "DdK6-a5wkn0q",
    "outputId": "60c96c03-3439-4f5a-e42e-1043cb3f4b22"
   },
   "outputs": [
    {
     "data": {
      "text/html": [
       "<div>\n",
       "<style scoped>\n",
       "    .dataframe tbody tr th:only-of-type {\n",
       "        vertical-align: middle;\n",
       "    }\n",
       "\n",
       "    .dataframe tbody tr th {\n",
       "        vertical-align: top;\n",
       "    }\n",
       "\n",
       "    .dataframe thead th {\n",
       "        text-align: right;\n",
       "    }\n",
       "</style>\n",
       "<table border=\"1\" class=\"dataframe\">\n",
       "  <thead>\n",
       "    <tr style=\"text-align: right;\">\n",
       "      <th></th>\n",
       "      <th>No of Bedrooms</th>\n",
       "      <th>No of Bathrooms</th>\n",
       "      <th>Flat Area (in Sqft)</th>\n",
       "      <th>Lot Area (in Sqft)</th>\n",
       "      <th>No of Floors</th>\n",
       "      <th>Waterfront View</th>\n",
       "      <th>No of Times Visited</th>\n",
       "      <th>Condition of the House</th>\n",
       "      <th>Overall Grade</th>\n",
       "      <th>Area of the House from Basement (in Sqft)</th>\n",
       "      <th>Basement Area (in Sqft)</th>\n",
       "      <th>Age of House (in Years)</th>\n",
       "      <th>Zipcode</th>\n",
       "      <th>Latitude</th>\n",
       "      <th>Longitude</th>\n",
       "      <th>Living Area after Renovation (in Sqft)</th>\n",
       "      <th>Lot Area after Renovation (in Sqft)</th>\n",
       "      <th>Ever Renovated</th>\n",
       "      <th>Years Since Renovation</th>\n",
       "    </tr>\n",
       "  </thead>\n",
       "  <tbody>\n",
       "    <tr>\n",
       "      <th>0</th>\n",
       "      <td>0.406644</td>\n",
       "      <td>0.514205</td>\n",
       "      <td>0.094025</td>\n",
       "      <td>-0.809446</td>\n",
       "      <td>0.868848</td>\n",
       "      <td>-0.288307</td>\n",
       "      <td>0.668115</td>\n",
       "      <td>-0.726703</td>\n",
       "      <td>0.524488</td>\n",
       "      <td>-0.031628</td>\n",
       "      <td>0.692922</td>\n",
       "      <td>-0.469642</td>\n",
       "      <td>0.546499</td>\n",
       "      <td>0.060034</td>\n",
       "      <td>-0.869726</td>\n",
       "      <td>-0.447078</td>\n",
       "      <td>-1.084048</td>\n",
       "      <td>-0.333856</td>\n",
       "      <td>-0.283572</td>\n",
       "    </tr>\n",
       "    <tr>\n",
       "      <th>1</th>\n",
       "      <td>-0.599336</td>\n",
       "      <td>0.242388</td>\n",
       "      <td>0.174779</td>\n",
       "      <td>1.483079</td>\n",
       "      <td>-0.954506</td>\n",
       "      <td>-0.288307</td>\n",
       "      <td>1.753035</td>\n",
       "      <td>-0.726703</td>\n",
       "      <td>0.524488</td>\n",
       "      <td>0.344610</td>\n",
       "      <td>0.354902</td>\n",
       "      <td>-0.089318</td>\n",
       "      <td>-0.865842</td>\n",
       "      <td>-0.265145</td>\n",
       "      <td>0.130791</td>\n",
       "      <td>1.746295</td>\n",
       "      <td>0.808483</td>\n",
       "      <td>-0.333856</td>\n",
       "      <td>-0.283572</td>\n",
       "    </tr>\n",
       "    <tr>\n",
       "      <th>2</th>\n",
       "      <td>-0.599336</td>\n",
       "      <td>-0.029565</td>\n",
       "      <td>-0.065061</td>\n",
       "      <td>1.882191</td>\n",
       "      <td>-0.954506</td>\n",
       "      <td>3.468526</td>\n",
       "      <td>-0.416805</td>\n",
       "      <td>2.166486</td>\n",
       "      <td>0.524488</td>\n",
       "      <td>0.173409</td>\n",
       "      <td>0.147262</td>\n",
       "      <td>0.429304</td>\n",
       "      <td>-0.373165</td>\n",
       "      <td>-1.306860</td>\n",
       "      <td>-1.405368</td>\n",
       "      <td>0.285171</td>\n",
       "      <td>2.356926</td>\n",
       "      <td>-0.333856</td>\n",
       "      <td>-0.283572</td>\n",
       "    </tr>\n",
       "    <tr>\n",
       "      <th>3</th>\n",
       "      <td>1.410629</td>\n",
       "      <td>0.785887</td>\n",
       "      <td>0.336287</td>\n",
       "      <td>0.269123</td>\n",
       "      <td>0.868848</td>\n",
       "      <td>-0.288307</td>\n",
       "      <td>1.753035</td>\n",
       "      <td>0.719892</td>\n",
       "      <td>-0.272944</td>\n",
       "      <td>1.146798</td>\n",
       "      <td>-1.262554</td>\n",
       "      <td>-0.089318</td>\n",
       "      <td>-1.391364</td>\n",
       "      <td>0.195661</td>\n",
       "      <td>0.954878</td>\n",
       "      <td>0.617207</td>\n",
       "      <td>0.079286</td>\n",
       "      <td>-0.333856</td>\n",
       "      <td>-0.283572</td>\n",
       "    </tr>\n",
       "    <tr>\n",
       "      <th>4</th>\n",
       "      <td>-0.599336</td>\n",
       "      <td>-0.301653</td>\n",
       "      <td>-0.552009</td>\n",
       "      <td>0.683577</td>\n",
       "      <td>-0.954506</td>\n",
       "      <td>-0.288307</td>\n",
       "      <td>0.668115</td>\n",
       "      <td>0.719892</td>\n",
       "      <td>-0.272944</td>\n",
       "      <td>-0.519230</td>\n",
       "      <td>0.099986</td>\n",
       "      <td>0.221855</td>\n",
       "      <td>1.203401</td>\n",
       "      <td>-1.065836</td>\n",
       "      <td>-0.616038</td>\n",
       "      <td>0.146657</td>\n",
       "      <td>0.720304</td>\n",
       "      <td>-0.333856</td>\n",
       "      <td>-0.283572</td>\n",
       "    </tr>\n",
       "  </tbody>\n",
       "</table>\n",
       "</div>"
      ],
      "text/plain": [
       "   No of Bedrooms  No of Bathrooms  Flat Area (in Sqft)  Lot Area (in Sqft)  \\\n",
       "0        0.406644         0.514205             0.094025           -0.809446   \n",
       "1       -0.599336         0.242388             0.174779            1.483079   \n",
       "2       -0.599336        -0.029565            -0.065061            1.882191   \n",
       "3        1.410629         0.785887             0.336287            0.269123   \n",
       "4       -0.599336        -0.301653            -0.552009            0.683577   \n",
       "\n",
       "   No of Floors  Waterfront View  No of Times Visited  Condition of the House  \\\n",
       "0      0.868848        -0.288307             0.668115               -0.726703   \n",
       "1     -0.954506        -0.288307             1.753035               -0.726703   \n",
       "2     -0.954506         3.468526            -0.416805                2.166486   \n",
       "3      0.868848        -0.288307             1.753035                0.719892   \n",
       "4     -0.954506        -0.288307             0.668115                0.719892   \n",
       "\n",
       "   Overall Grade  Area of the House from Basement (in Sqft)  \\\n",
       "0       0.524488                                  -0.031628   \n",
       "1       0.524488                                   0.344610   \n",
       "2       0.524488                                   0.173409   \n",
       "3      -0.272944                                   1.146798   \n",
       "4      -0.272944                                  -0.519230   \n",
       "\n",
       "   Basement Area (in Sqft)  Age of House (in Years)   Zipcode  Latitude  \\\n",
       "0                 0.692922                -0.469642  0.546499  0.060034   \n",
       "1                 0.354902                -0.089318 -0.865842 -0.265145   \n",
       "2                 0.147262                 0.429304 -0.373165 -1.306860   \n",
       "3                -1.262554                -0.089318 -1.391364  0.195661   \n",
       "4                 0.099986                 0.221855  1.203401 -1.065836   \n",
       "\n",
       "   Longitude  Living Area after Renovation (in Sqft)  \\\n",
       "0  -0.869726                               -0.447078   \n",
       "1   0.130791                                1.746295   \n",
       "2  -1.405368                                0.285171   \n",
       "3   0.954878                                0.617207   \n",
       "4  -0.616038                                0.146657   \n",
       "\n",
       "   Lot Area after Renovation (in Sqft)  Ever Renovated  Years Since Renovation  \n",
       "0                            -1.084048       -0.333856               -0.283572  \n",
       "1                             0.808483       -0.333856               -0.283572  \n",
       "2                             2.356926       -0.333856               -0.283572  \n",
       "3                             0.079286       -0.333856               -0.283572  \n",
       "4                             0.720304       -0.333856               -0.283572  "
      ]
     },
     "execution_count": 55,
     "metadata": {},
     "output_type": "execute_result"
    }
   ],
   "source": [
    "from sklearn.preprocessing import StandardScaler\n",
    "scaler = StandardScaler()\n",
    "Y = data['Sale Price']\n",
    "X1 = scaler.fit_transform(X)\n",
    "X = pd.DataFrame(data = X1, columns = X.columns)\n",
    "X.head()"
   ]
  },
  {
   "cell_type": "markdown",
   "metadata": {
    "colab_type": "text",
    "id": "7qsbDI_00UrF"
   },
   "source": [
    "## Checking and Removing Multicollinearity"
   ]
  },
  {
   "cell_type": "code",
   "execution_count": 56,
   "metadata": {
    "colab": {
     "base_uri": "https://localhost:8080/",
     "height": 1000
    },
    "colab_type": "code",
    "executionInfo": {
     "elapsed": 14269,
     "status": "ok",
     "timestamp": 1592370780582,
     "user": {
      "displayName": "Sharoon Saxena",
      "photoUrl": "https://lh3.googleusercontent.com/a-/AOh14GjyKz9rNCPkHi6QK8TjrjBFlTtaI9ngf0hIwgAl=s64",
      "userId": "01167841530696023488"
     },
     "user_tz": -330
    },
    "id": "dXMBUdbs0UrI",
    "outputId": "54c93988-e5f1-4a8c-af8a-c48776abbc88"
   },
   "outputs": [
    {
     "data": {
      "text/html": [
       "<div>\n",
       "<style scoped>\n",
       "    .dataframe tbody tr th:only-of-type {\n",
       "        vertical-align: middle;\n",
       "    }\n",
       "\n",
       "    .dataframe tbody tr th {\n",
       "        vertical-align: top;\n",
       "    }\n",
       "\n",
       "    .dataframe thead th {\n",
       "        text-align: right;\n",
       "    }\n",
       "</style>\n",
       "<table border=\"1\" class=\"dataframe\">\n",
       "  <thead>\n",
       "    <tr style=\"text-align: right;\">\n",
       "      <th></th>\n",
       "      <th>No of Bedrooms</th>\n",
       "      <th>No of Bathrooms</th>\n",
       "      <th>Flat Area (in Sqft)</th>\n",
       "      <th>Lot Area (in Sqft)</th>\n",
       "      <th>No of Floors</th>\n",
       "      <th>Waterfront View</th>\n",
       "      <th>No of Times Visited</th>\n",
       "      <th>Condition of the House</th>\n",
       "      <th>Overall Grade</th>\n",
       "      <th>Area of the House from Basement (in Sqft)</th>\n",
       "      <th>Basement Area (in Sqft)</th>\n",
       "      <th>Age of House (in Years)</th>\n",
       "      <th>Zipcode</th>\n",
       "      <th>Latitude</th>\n",
       "      <th>Longitude</th>\n",
       "      <th>Living Area after Renovation (in Sqft)</th>\n",
       "      <th>Lot Area after Renovation (in Sqft)</th>\n",
       "      <th>Ever Renovated</th>\n",
       "      <th>Years Since Renovation</th>\n",
       "    </tr>\n",
       "  </thead>\n",
       "  <tbody>\n",
       "    <tr>\n",
       "      <th>No of Bedrooms</th>\n",
       "      <td>1.000000</td>\n",
       "      <td>0.561738</td>\n",
       "      <td>0.551323</td>\n",
       "      <td>0.095581</td>\n",
       "      <td>0.158994</td>\n",
       "      <td>-0.085878</td>\n",
       "      <td>0.042205</td>\n",
       "      <td>-0.014730</td>\n",
       "      <td>0.326521</td>\n",
       "      <td>0.460701</td>\n",
       "      <td>0.362730</td>\n",
       "      <td>-0.189253</td>\n",
       "      <td>-0.138767</td>\n",
       "      <td>0.058851</td>\n",
       "      <td>0.144605</td>\n",
       "      <td>0.368516</td>\n",
       "      <td>0.068314</td>\n",
       "      <td>0.009343</td>\n",
       "      <td>-0.004171</td>\n",
       "    </tr>\n",
       "    <tr>\n",
       "      <th>No of Bathrooms</th>\n",
       "      <td>0.561738</td>\n",
       "      <td>1.000000</td>\n",
       "      <td>0.789559</td>\n",
       "      <td>0.156273</td>\n",
       "      <td>0.445689</td>\n",
       "      <td>0.046909</td>\n",
       "      <td>0.167627</td>\n",
       "      <td>-0.096720</td>\n",
       "      <td>0.527897</td>\n",
       "      <td>0.724564</td>\n",
       "      <td>0.342114</td>\n",
       "      <td>-0.430769</td>\n",
       "      <td>-0.196656</td>\n",
       "      <td>0.100610</td>\n",
       "      <td>0.191780</td>\n",
       "      <td>0.495722</td>\n",
       "      <td>0.130730</td>\n",
       "      <td>0.084855</td>\n",
       "      <td>0.043296</td>\n",
       "    </tr>\n",
       "    <tr>\n",
       "      <th>Flat Area (in Sqft)</th>\n",
       "      <td>0.551323</td>\n",
       "      <td>0.789559</td>\n",
       "      <td>1.000000</td>\n",
       "      <td>0.278749</td>\n",
       "      <td>0.363156</td>\n",
       "      <td>0.079187</td>\n",
       "      <td>0.211449</td>\n",
       "      <td>-0.070918</td>\n",
       "      <td>0.579328</td>\n",
       "      <td>0.844781</td>\n",
       "      <td>0.476289</td>\n",
       "      <td>-0.375349</td>\n",
       "      <td>-0.231030</td>\n",
       "      <td>0.110293</td>\n",
       "      <td>0.213613</td>\n",
       "      <td>0.643606</td>\n",
       "      <td>0.250417</td>\n",
       "      <td>0.062953</td>\n",
       "      <td>0.027058</td>\n",
       "    </tr>\n",
       "    <tr>\n",
       "      <th>Lot Area (in Sqft)</th>\n",
       "      <td>0.095581</td>\n",
       "      <td>0.156273</td>\n",
       "      <td>0.278749</td>\n",
       "      <td>1.000000</td>\n",
       "      <td>-0.093110</td>\n",
       "      <td>0.136094</td>\n",
       "      <td>0.144010</td>\n",
       "      <td>0.020152</td>\n",
       "      <td>0.115278</td>\n",
       "      <td>0.297563</td>\n",
       "      <td>-0.010816</td>\n",
       "      <td>-0.176977</td>\n",
       "      <td>-0.326041</td>\n",
       "      <td>-0.347748</td>\n",
       "      <td>0.409405</td>\n",
       "      <td>0.261414</td>\n",
       "      <td>0.904842</td>\n",
       "      <td>-0.028027</td>\n",
       "      <td>-0.002290</td>\n",
       "    </tr>\n",
       "    <tr>\n",
       "      <th>No of Floors</th>\n",
       "      <td>0.158994</td>\n",
       "      <td>0.445689</td>\n",
       "      <td>0.363156</td>\n",
       "      <td>-0.093110</td>\n",
       "      <td>1.000000</td>\n",
       "      <td>0.061789</td>\n",
       "      <td>0.107334</td>\n",
       "      <td>-0.180756</td>\n",
       "      <td>0.398252</td>\n",
       "      <td>0.590205</td>\n",
       "      <td>-0.218371</td>\n",
       "      <td>-0.310153</td>\n",
       "      <td>-0.057011</td>\n",
       "      <td>0.094647</td>\n",
       "      <td>0.091608</td>\n",
       "      <td>0.169291</td>\n",
       "      <td>-0.079682</td>\n",
       "      <td>0.094307</td>\n",
       "      <td>0.084835</td>\n",
       "    </tr>\n",
       "    <tr>\n",
       "      <th>Waterfront View</th>\n",
       "      <td>-0.085878</td>\n",
       "      <td>0.046909</td>\n",
       "      <td>0.079187</td>\n",
       "      <td>0.136094</td>\n",
       "      <td>0.061789</td>\n",
       "      <td>1.000000</td>\n",
       "      <td>0.432492</td>\n",
       "      <td>0.013091</td>\n",
       "      <td>0.039787</td>\n",
       "      <td>0.074214</td>\n",
       "      <td>-0.011199</td>\n",
       "      <td>0.032162</td>\n",
       "      <td>0.018015</td>\n",
       "      <td>-0.062865</td>\n",
       "      <td>-0.061048</td>\n",
       "      <td>0.035677</td>\n",
       "      <td>0.170210</td>\n",
       "      <td>0.151062</td>\n",
       "      <td>0.184377</td>\n",
       "    </tr>\n",
       "    <tr>\n",
       "      <th>No of Times Visited</th>\n",
       "      <td>0.042205</td>\n",
       "      <td>0.167627</td>\n",
       "      <td>0.211449</td>\n",
       "      <td>0.144010</td>\n",
       "      <td>0.107334</td>\n",
       "      <td>0.432492</td>\n",
       "      <td>1.000000</td>\n",
       "      <td>0.018531</td>\n",
       "      <td>0.185209</td>\n",
       "      <td>0.183628</td>\n",
       "      <td>0.095564</td>\n",
       "      <td>-0.040672</td>\n",
       "      <td>0.002578</td>\n",
       "      <td>-0.025565</td>\n",
       "      <td>0.027936</td>\n",
       "      <td>0.198486</td>\n",
       "      <td>0.150574</td>\n",
       "      <td>0.090415</td>\n",
       "      <td>0.092504</td>\n",
       "    </tr>\n",
       "    <tr>\n",
       "      <th>Condition of the House</th>\n",
       "      <td>-0.014730</td>\n",
       "      <td>-0.096720</td>\n",
       "      <td>-0.070918</td>\n",
       "      <td>0.020152</td>\n",
       "      <td>-0.180756</td>\n",
       "      <td>0.013091</td>\n",
       "      <td>0.018531</td>\n",
       "      <td>1.000000</td>\n",
       "      <td>-0.127202</td>\n",
       "      <td>-0.157951</td>\n",
       "      <td>0.136232</td>\n",
       "      <td>0.351302</td>\n",
       "      <td>0.023644</td>\n",
       "      <td>-0.036080</td>\n",
       "      <td>-0.120679</td>\n",
       "      <td>-0.036314</td>\n",
       "      <td>0.015865</td>\n",
       "      <td>-0.106571</td>\n",
       "      <td>-0.032633</td>\n",
       "    </tr>\n",
       "    <tr>\n",
       "      <th>Overall Grade</th>\n",
       "      <td>0.326521</td>\n",
       "      <td>0.527897</td>\n",
       "      <td>0.579328</td>\n",
       "      <td>0.115278</td>\n",
       "      <td>0.398252</td>\n",
       "      <td>0.039787</td>\n",
       "      <td>0.185209</td>\n",
       "      <td>-0.127202</td>\n",
       "      <td>1.000000</td>\n",
       "      <td>0.646099</td>\n",
       "      <td>0.206355</td>\n",
       "      <td>-0.438361</td>\n",
       "      <td>-0.212724</td>\n",
       "      <td>0.136582</td>\n",
       "      <td>0.165586</td>\n",
       "      <td>0.574801</td>\n",
       "      <td>0.104233</td>\n",
       "      <td>0.011367</td>\n",
       "      <td>-0.043232</td>\n",
       "    </tr>\n",
       "    <tr>\n",
       "      <th>Area of the House from Basement (in Sqft)</th>\n",
       "      <td>0.460701</td>\n",
       "      <td>0.724564</td>\n",
       "      <td>0.844781</td>\n",
       "      <td>0.297563</td>\n",
       "      <td>0.590205</td>\n",
       "      <td>0.074214</td>\n",
       "      <td>0.183628</td>\n",
       "      <td>-0.157951</td>\n",
       "      <td>0.646099</td>\n",
       "      <td>1.000000</td>\n",
       "      <td>0.008074</td>\n",
       "      <td>-0.446814</td>\n",
       "      <td>-0.253050</td>\n",
       "      <td>0.050744</td>\n",
       "      <td>0.291007</td>\n",
       "      <td>0.605599</td>\n",
       "      <td>0.272672</td>\n",
       "      <td>0.069716</td>\n",
       "      <td>0.053198</td>\n",
       "    </tr>\n",
       "    <tr>\n",
       "      <th>Basement Area (in Sqft)</th>\n",
       "      <td>0.362730</td>\n",
       "      <td>0.342114</td>\n",
       "      <td>0.476289</td>\n",
       "      <td>-0.010816</td>\n",
       "      <td>-0.218371</td>\n",
       "      <td>-0.011199</td>\n",
       "      <td>0.095564</td>\n",
       "      <td>0.136232</td>\n",
       "      <td>0.206355</td>\n",
       "      <td>0.008074</td>\n",
       "      <td>1.000000</td>\n",
       "      <td>-0.019726</td>\n",
       "      <td>-0.000361</td>\n",
       "      <td>0.145480</td>\n",
       "      <td>-0.105695</td>\n",
       "      <td>0.284916</td>\n",
       "      <td>-0.027091</td>\n",
       "      <td>0.035260</td>\n",
       "      <td>-0.011291</td>\n",
       "    </tr>\n",
       "    <tr>\n",
       "      <th>Age of House (in Years)</th>\n",
       "      <td>-0.189253</td>\n",
       "      <td>-0.430769</td>\n",
       "      <td>-0.375349</td>\n",
       "      <td>-0.176977</td>\n",
       "      <td>-0.310153</td>\n",
       "      <td>0.032162</td>\n",
       "      <td>-0.040672</td>\n",
       "      <td>0.351302</td>\n",
       "      <td>-0.438361</td>\n",
       "      <td>-0.446814</td>\n",
       "      <td>-0.019726</td>\n",
       "      <td>1.000000</td>\n",
       "      <td>0.364690</td>\n",
       "      <td>0.118721</td>\n",
       "      <td>-0.415004</td>\n",
       "      <td>-0.302533</td>\n",
       "      <td>-0.191311</td>\n",
       "      <td>0.274906</td>\n",
       "      <td>0.263097</td>\n",
       "    </tr>\n",
       "    <tr>\n",
       "      <th>Zipcode</th>\n",
       "      <td>-0.138767</td>\n",
       "      <td>-0.196656</td>\n",
       "      <td>-0.231030</td>\n",
       "      <td>-0.326041</td>\n",
       "      <td>-0.057011</td>\n",
       "      <td>0.018015</td>\n",
       "      <td>0.002578</td>\n",
       "      <td>0.023644</td>\n",
       "      <td>-0.212724</td>\n",
       "      <td>-0.253050</td>\n",
       "      <td>-0.000361</td>\n",
       "      <td>0.364690</td>\n",
       "      <td>1.000000</td>\n",
       "      <td>0.160725</td>\n",
       "      <td>-0.589701</td>\n",
       "      <td>-0.314668</td>\n",
       "      <td>-0.329508</td>\n",
       "      <td>0.060750</td>\n",
       "      <td>0.046022</td>\n",
       "    </tr>\n",
       "    <tr>\n",
       "      <th>Latitude</th>\n",
       "      <td>0.058851</td>\n",
       "      <td>0.100610</td>\n",
       "      <td>0.110293</td>\n",
       "      <td>-0.347748</td>\n",
       "      <td>0.094647</td>\n",
       "      <td>-0.062865</td>\n",
       "      <td>-0.025565</td>\n",
       "      <td>-0.036080</td>\n",
       "      <td>0.136582</td>\n",
       "      <td>0.050744</td>\n",
       "      <td>0.145480</td>\n",
       "      <td>0.118721</td>\n",
       "      <td>0.160725</td>\n",
       "      <td>1.000000</td>\n",
       "      <td>-0.183897</td>\n",
       "      <td>0.141123</td>\n",
       "      <td>-0.335927</td>\n",
       "      <td>0.066000</td>\n",
       "      <td>0.040726</td>\n",
       "    </tr>\n",
       "    <tr>\n",
       "      <th>Longitude</th>\n",
       "      <td>0.144605</td>\n",
       "      <td>0.191780</td>\n",
       "      <td>0.213613</td>\n",
       "      <td>0.409405</td>\n",
       "      <td>0.091608</td>\n",
       "      <td>-0.061048</td>\n",
       "      <td>0.027936</td>\n",
       "      <td>-0.120679</td>\n",
       "      <td>0.165586</td>\n",
       "      <td>0.291007</td>\n",
       "      <td>-0.105695</td>\n",
       "      <td>-0.415004</td>\n",
       "      <td>-0.589701</td>\n",
       "      <td>-0.183897</td>\n",
       "      <td>1.000000</td>\n",
       "      <td>0.289779</td>\n",
       "      <td>0.408515</td>\n",
       "      <td>-0.099992</td>\n",
       "      <td>-0.082062</td>\n",
       "    </tr>\n",
       "    <tr>\n",
       "      <th>Living Area after Renovation (in Sqft)</th>\n",
       "      <td>0.368516</td>\n",
       "      <td>0.495722</td>\n",
       "      <td>0.643606</td>\n",
       "      <td>0.261414</td>\n",
       "      <td>0.169291</td>\n",
       "      <td>0.035677</td>\n",
       "      <td>0.198486</td>\n",
       "      <td>-0.036314</td>\n",
       "      <td>0.574801</td>\n",
       "      <td>0.605599</td>\n",
       "      <td>0.284916</td>\n",
       "      <td>-0.302533</td>\n",
       "      <td>-0.314668</td>\n",
       "      <td>0.141123</td>\n",
       "      <td>0.289779</td>\n",
       "      <td>1.000000</td>\n",
       "      <td>0.281183</td>\n",
       "      <td>0.003944</td>\n",
       "      <td>-0.002088</td>\n",
       "    </tr>\n",
       "    <tr>\n",
       "      <th>Lot Area after Renovation (in Sqft)</th>\n",
       "      <td>0.068314</td>\n",
       "      <td>0.130730</td>\n",
       "      <td>0.250417</td>\n",
       "      <td>0.904842</td>\n",
       "      <td>-0.079682</td>\n",
       "      <td>0.170210</td>\n",
       "      <td>0.150574</td>\n",
       "      <td>0.015865</td>\n",
       "      <td>0.104233</td>\n",
       "      <td>0.272672</td>\n",
       "      <td>-0.027091</td>\n",
       "      <td>-0.191311</td>\n",
       "      <td>-0.329508</td>\n",
       "      <td>-0.335927</td>\n",
       "      <td>0.408515</td>\n",
       "      <td>0.281183</td>\n",
       "      <td>1.000000</td>\n",
       "      <td>-0.000534</td>\n",
       "      <td>0.024083</td>\n",
       "    </tr>\n",
       "    <tr>\n",
       "      <th>Ever Renovated</th>\n",
       "      <td>0.009343</td>\n",
       "      <td>0.084855</td>\n",
       "      <td>0.062953</td>\n",
       "      <td>-0.028027</td>\n",
       "      <td>0.094307</td>\n",
       "      <td>0.151062</td>\n",
       "      <td>0.090415</td>\n",
       "      <td>-0.106571</td>\n",
       "      <td>0.011367</td>\n",
       "      <td>0.069716</td>\n",
       "      <td>0.035260</td>\n",
       "      <td>0.274906</td>\n",
       "      <td>0.060750</td>\n",
       "      <td>0.066000</td>\n",
       "      <td>-0.099992</td>\n",
       "      <td>0.003944</td>\n",
       "      <td>-0.000534</td>\n",
       "      <td>1.000000</td>\n",
       "      <td>0.849385</td>\n",
       "    </tr>\n",
       "    <tr>\n",
       "      <th>Years Since Renovation</th>\n",
       "      <td>-0.004171</td>\n",
       "      <td>0.043296</td>\n",
       "      <td>0.027058</td>\n",
       "      <td>-0.002290</td>\n",
       "      <td>0.084835</td>\n",
       "      <td>0.184377</td>\n",
       "      <td>0.092504</td>\n",
       "      <td>-0.032633</td>\n",
       "      <td>-0.043232</td>\n",
       "      <td>0.053198</td>\n",
       "      <td>-0.011291</td>\n",
       "      <td>0.263097</td>\n",
       "      <td>0.046022</td>\n",
       "      <td>0.040726</td>\n",
       "      <td>-0.082062</td>\n",
       "      <td>-0.002088</td>\n",
       "      <td>0.024083</td>\n",
       "      <td>0.849385</td>\n",
       "      <td>1.000000</td>\n",
       "    </tr>\n",
       "  </tbody>\n",
       "</table>\n",
       "</div>"
      ],
      "text/plain": [
       "                                           No of Bedrooms  No of Bathrooms  \\\n",
       "No of Bedrooms                                   1.000000         0.561738   \n",
       "No of Bathrooms                                  0.561738         1.000000   \n",
       "Flat Area (in Sqft)                              0.551323         0.789559   \n",
       "Lot Area (in Sqft)                               0.095581         0.156273   \n",
       "No of Floors                                     0.158994         0.445689   \n",
       "Waterfront View                                 -0.085878         0.046909   \n",
       "No of Times Visited                              0.042205         0.167627   \n",
       "Condition of the House                          -0.014730        -0.096720   \n",
       "Overall Grade                                    0.326521         0.527897   \n",
       "Area of the House from Basement (in Sqft)        0.460701         0.724564   \n",
       "Basement Area (in Sqft)                          0.362730         0.342114   \n",
       "Age of House (in Years)                         -0.189253        -0.430769   \n",
       "Zipcode                                         -0.138767        -0.196656   \n",
       "Latitude                                         0.058851         0.100610   \n",
       "Longitude                                        0.144605         0.191780   \n",
       "Living Area after Renovation (in Sqft)           0.368516         0.495722   \n",
       "Lot Area after Renovation (in Sqft)              0.068314         0.130730   \n",
       "Ever Renovated                                   0.009343         0.084855   \n",
       "Years Since Renovation                          -0.004171         0.043296   \n",
       "\n",
       "                                           Flat Area (in Sqft)  \\\n",
       "No of Bedrooms                                        0.551323   \n",
       "No of Bathrooms                                       0.789559   \n",
       "Flat Area (in Sqft)                                   1.000000   \n",
       "Lot Area (in Sqft)                                    0.278749   \n",
       "No of Floors                                          0.363156   \n",
       "Waterfront View                                       0.079187   \n",
       "No of Times Visited                                   0.211449   \n",
       "Condition of the House                               -0.070918   \n",
       "Overall Grade                                         0.579328   \n",
       "Area of the House from Basement (in Sqft)             0.844781   \n",
       "Basement Area (in Sqft)                               0.476289   \n",
       "Age of House (in Years)                              -0.375349   \n",
       "Zipcode                                              -0.231030   \n",
       "Latitude                                              0.110293   \n",
       "Longitude                                             0.213613   \n",
       "Living Area after Renovation (in Sqft)                0.643606   \n",
       "Lot Area after Renovation (in Sqft)                   0.250417   \n",
       "Ever Renovated                                        0.062953   \n",
       "Years Since Renovation                                0.027058   \n",
       "\n",
       "                                           Lot Area (in Sqft)  No of Floors  \\\n",
       "No of Bedrooms                                       0.095581      0.158994   \n",
       "No of Bathrooms                                      0.156273      0.445689   \n",
       "Flat Area (in Sqft)                                  0.278749      0.363156   \n",
       "Lot Area (in Sqft)                                   1.000000     -0.093110   \n",
       "No of Floors                                        -0.093110      1.000000   \n",
       "Waterfront View                                      0.136094      0.061789   \n",
       "No of Times Visited                                  0.144010      0.107334   \n",
       "Condition of the House                               0.020152     -0.180756   \n",
       "Overall Grade                                        0.115278      0.398252   \n",
       "Area of the House from Basement (in Sqft)            0.297563      0.590205   \n",
       "Basement Area (in Sqft)                             -0.010816     -0.218371   \n",
       "Age of House (in Years)                             -0.176977     -0.310153   \n",
       "Zipcode                                             -0.326041     -0.057011   \n",
       "Latitude                                            -0.347748      0.094647   \n",
       "Longitude                                            0.409405      0.091608   \n",
       "Living Area after Renovation (in Sqft)               0.261414      0.169291   \n",
       "Lot Area after Renovation (in Sqft)                  0.904842     -0.079682   \n",
       "Ever Renovated                                      -0.028027      0.094307   \n",
       "Years Since Renovation                              -0.002290      0.084835   \n",
       "\n",
       "                                           Waterfront View  \\\n",
       "No of Bedrooms                                   -0.085878   \n",
       "No of Bathrooms                                   0.046909   \n",
       "Flat Area (in Sqft)                               0.079187   \n",
       "Lot Area (in Sqft)                                0.136094   \n",
       "No of Floors                                      0.061789   \n",
       "Waterfront View                                   1.000000   \n",
       "No of Times Visited                               0.432492   \n",
       "Condition of the House                            0.013091   \n",
       "Overall Grade                                     0.039787   \n",
       "Area of the House from Basement (in Sqft)         0.074214   \n",
       "Basement Area (in Sqft)                          -0.011199   \n",
       "Age of House (in Years)                           0.032162   \n",
       "Zipcode                                           0.018015   \n",
       "Latitude                                         -0.062865   \n",
       "Longitude                                        -0.061048   \n",
       "Living Area after Renovation (in Sqft)            0.035677   \n",
       "Lot Area after Renovation (in Sqft)               0.170210   \n",
       "Ever Renovated                                    0.151062   \n",
       "Years Since Renovation                            0.184377   \n",
       "\n",
       "                                           No of Times Visited  \\\n",
       "No of Bedrooms                                        0.042205   \n",
       "No of Bathrooms                                       0.167627   \n",
       "Flat Area (in Sqft)                                   0.211449   \n",
       "Lot Area (in Sqft)                                    0.144010   \n",
       "No of Floors                                          0.107334   \n",
       "Waterfront View                                       0.432492   \n",
       "No of Times Visited                                   1.000000   \n",
       "Condition of the House                                0.018531   \n",
       "Overall Grade                                         0.185209   \n",
       "Area of the House from Basement (in Sqft)             0.183628   \n",
       "Basement Area (in Sqft)                               0.095564   \n",
       "Age of House (in Years)                              -0.040672   \n",
       "Zipcode                                               0.002578   \n",
       "Latitude                                             -0.025565   \n",
       "Longitude                                             0.027936   \n",
       "Living Area after Renovation (in Sqft)                0.198486   \n",
       "Lot Area after Renovation (in Sqft)                   0.150574   \n",
       "Ever Renovated                                        0.090415   \n",
       "Years Since Renovation                                0.092504   \n",
       "\n",
       "                                           Condition of the House  \\\n",
       "No of Bedrooms                                          -0.014730   \n",
       "No of Bathrooms                                         -0.096720   \n",
       "Flat Area (in Sqft)                                     -0.070918   \n",
       "Lot Area (in Sqft)                                       0.020152   \n",
       "No of Floors                                            -0.180756   \n",
       "Waterfront View                                          0.013091   \n",
       "No of Times Visited                                      0.018531   \n",
       "Condition of the House                                   1.000000   \n",
       "Overall Grade                                           -0.127202   \n",
       "Area of the House from Basement (in Sqft)               -0.157951   \n",
       "Basement Area (in Sqft)                                  0.136232   \n",
       "Age of House (in Years)                                  0.351302   \n",
       "Zipcode                                                  0.023644   \n",
       "Latitude                                                -0.036080   \n",
       "Longitude                                               -0.120679   \n",
       "Living Area after Renovation (in Sqft)                  -0.036314   \n",
       "Lot Area after Renovation (in Sqft)                      0.015865   \n",
       "Ever Renovated                                          -0.106571   \n",
       "Years Since Renovation                                  -0.032633   \n",
       "\n",
       "                                           Overall Grade  \\\n",
       "No of Bedrooms                                  0.326521   \n",
       "No of Bathrooms                                 0.527897   \n",
       "Flat Area (in Sqft)                             0.579328   \n",
       "Lot Area (in Sqft)                              0.115278   \n",
       "No of Floors                                    0.398252   \n",
       "Waterfront View                                 0.039787   \n",
       "No of Times Visited                             0.185209   \n",
       "Condition of the House                         -0.127202   \n",
       "Overall Grade                                   1.000000   \n",
       "Area of the House from Basement (in Sqft)       0.646099   \n",
       "Basement Area (in Sqft)                         0.206355   \n",
       "Age of House (in Years)                        -0.438361   \n",
       "Zipcode                                        -0.212724   \n",
       "Latitude                                        0.136582   \n",
       "Longitude                                       0.165586   \n",
       "Living Area after Renovation (in Sqft)          0.574801   \n",
       "Lot Area after Renovation (in Sqft)             0.104233   \n",
       "Ever Renovated                                  0.011367   \n",
       "Years Since Renovation                         -0.043232   \n",
       "\n",
       "                                           Area of the House from Basement (in Sqft)  \\\n",
       "No of Bedrooms                                                              0.460701   \n",
       "No of Bathrooms                                                             0.724564   \n",
       "Flat Area (in Sqft)                                                         0.844781   \n",
       "Lot Area (in Sqft)                                                          0.297563   \n",
       "No of Floors                                                                0.590205   \n",
       "Waterfront View                                                             0.074214   \n",
       "No of Times Visited                                                         0.183628   \n",
       "Condition of the House                                                     -0.157951   \n",
       "Overall Grade                                                               0.646099   \n",
       "Area of the House from Basement (in Sqft)                                   1.000000   \n",
       "Basement Area (in Sqft)                                                     0.008074   \n",
       "Age of House (in Years)                                                    -0.446814   \n",
       "Zipcode                                                                    -0.253050   \n",
       "Latitude                                                                    0.050744   \n",
       "Longitude                                                                   0.291007   \n",
       "Living Area after Renovation (in Sqft)                                      0.605599   \n",
       "Lot Area after Renovation (in Sqft)                                         0.272672   \n",
       "Ever Renovated                                                              0.069716   \n",
       "Years Since Renovation                                                      0.053198   \n",
       "\n",
       "                                           Basement Area (in Sqft)  \\\n",
       "No of Bedrooms                                            0.362730   \n",
       "No of Bathrooms                                           0.342114   \n",
       "Flat Area (in Sqft)                                       0.476289   \n",
       "Lot Area (in Sqft)                                       -0.010816   \n",
       "No of Floors                                             -0.218371   \n",
       "Waterfront View                                          -0.011199   \n",
       "No of Times Visited                                       0.095564   \n",
       "Condition of the House                                    0.136232   \n",
       "Overall Grade                                             0.206355   \n",
       "Area of the House from Basement (in Sqft)                 0.008074   \n",
       "Basement Area (in Sqft)                                   1.000000   \n",
       "Age of House (in Years)                                  -0.019726   \n",
       "Zipcode                                                  -0.000361   \n",
       "Latitude                                                  0.145480   \n",
       "Longitude                                                -0.105695   \n",
       "Living Area after Renovation (in Sqft)                    0.284916   \n",
       "Lot Area after Renovation (in Sqft)                      -0.027091   \n",
       "Ever Renovated                                            0.035260   \n",
       "Years Since Renovation                                   -0.011291   \n",
       "\n",
       "                                           Age of House (in Years)   Zipcode  \\\n",
       "No of Bedrooms                                           -0.189253 -0.138767   \n",
       "No of Bathrooms                                          -0.430769 -0.196656   \n",
       "Flat Area (in Sqft)                                      -0.375349 -0.231030   \n",
       "Lot Area (in Sqft)                                       -0.176977 -0.326041   \n",
       "No of Floors                                             -0.310153 -0.057011   \n",
       "Waterfront View                                           0.032162  0.018015   \n",
       "No of Times Visited                                      -0.040672  0.002578   \n",
       "Condition of the House                                    0.351302  0.023644   \n",
       "Overall Grade                                            -0.438361 -0.212724   \n",
       "Area of the House from Basement (in Sqft)                -0.446814 -0.253050   \n",
       "Basement Area (in Sqft)                                  -0.019726 -0.000361   \n",
       "Age of House (in Years)                                   1.000000  0.364690   \n",
       "Zipcode                                                   0.364690  1.000000   \n",
       "Latitude                                                  0.118721  0.160725   \n",
       "Longitude                                                -0.415004 -0.589701   \n",
       "Living Area after Renovation (in Sqft)                   -0.302533 -0.314668   \n",
       "Lot Area after Renovation (in Sqft)                      -0.191311 -0.329508   \n",
       "Ever Renovated                                            0.274906  0.060750   \n",
       "Years Since Renovation                                    0.263097  0.046022   \n",
       "\n",
       "                                           Latitude  Longitude  \\\n",
       "No of Bedrooms                             0.058851   0.144605   \n",
       "No of Bathrooms                            0.100610   0.191780   \n",
       "Flat Area (in Sqft)                        0.110293   0.213613   \n",
       "Lot Area (in Sqft)                        -0.347748   0.409405   \n",
       "No of Floors                               0.094647   0.091608   \n",
       "Waterfront View                           -0.062865  -0.061048   \n",
       "No of Times Visited                       -0.025565   0.027936   \n",
       "Condition of the House                    -0.036080  -0.120679   \n",
       "Overall Grade                              0.136582   0.165586   \n",
       "Area of the House from Basement (in Sqft)  0.050744   0.291007   \n",
       "Basement Area (in Sqft)                    0.145480  -0.105695   \n",
       "Age of House (in Years)                    0.118721  -0.415004   \n",
       "Zipcode                                    0.160725  -0.589701   \n",
       "Latitude                                   1.000000  -0.183897   \n",
       "Longitude                                 -0.183897   1.000000   \n",
       "Living Area after Renovation (in Sqft)     0.141123   0.289779   \n",
       "Lot Area after Renovation (in Sqft)       -0.335927   0.408515   \n",
       "Ever Renovated                             0.066000  -0.099992   \n",
       "Years Since Renovation                     0.040726  -0.082062   \n",
       "\n",
       "                                           Living Area after Renovation (in Sqft)  \\\n",
       "No of Bedrooms                                                           0.368516   \n",
       "No of Bathrooms                                                          0.495722   \n",
       "Flat Area (in Sqft)                                                      0.643606   \n",
       "Lot Area (in Sqft)                                                       0.261414   \n",
       "No of Floors                                                             0.169291   \n",
       "Waterfront View                                                          0.035677   \n",
       "No of Times Visited                                                      0.198486   \n",
       "Condition of the House                                                  -0.036314   \n",
       "Overall Grade                                                            0.574801   \n",
       "Area of the House from Basement (in Sqft)                                0.605599   \n",
       "Basement Area (in Sqft)                                                  0.284916   \n",
       "Age of House (in Years)                                                 -0.302533   \n",
       "Zipcode                                                                 -0.314668   \n",
       "Latitude                                                                 0.141123   \n",
       "Longitude                                                                0.289779   \n",
       "Living Area after Renovation (in Sqft)                                   1.000000   \n",
       "Lot Area after Renovation (in Sqft)                                      0.281183   \n",
       "Ever Renovated                                                           0.003944   \n",
       "Years Since Renovation                                                  -0.002088   \n",
       "\n",
       "                                           Lot Area after Renovation (in Sqft)  \\\n",
       "No of Bedrooms                                                        0.068314   \n",
       "No of Bathrooms                                                       0.130730   \n",
       "Flat Area (in Sqft)                                                   0.250417   \n",
       "Lot Area (in Sqft)                                                    0.904842   \n",
       "No of Floors                                                         -0.079682   \n",
       "Waterfront View                                                       0.170210   \n",
       "No of Times Visited                                                   0.150574   \n",
       "Condition of the House                                                0.015865   \n",
       "Overall Grade                                                         0.104233   \n",
       "Area of the House from Basement (in Sqft)                             0.272672   \n",
       "Basement Area (in Sqft)                                              -0.027091   \n",
       "Age of House (in Years)                                              -0.191311   \n",
       "Zipcode                                                              -0.329508   \n",
       "Latitude                                                             -0.335927   \n",
       "Longitude                                                             0.408515   \n",
       "Living Area after Renovation (in Sqft)                                0.281183   \n",
       "Lot Area after Renovation (in Sqft)                                   1.000000   \n",
       "Ever Renovated                                                       -0.000534   \n",
       "Years Since Renovation                                                0.024083   \n",
       "\n",
       "                                           Ever Renovated  \\\n",
       "No of Bedrooms                                   0.009343   \n",
       "No of Bathrooms                                  0.084855   \n",
       "Flat Area (in Sqft)                              0.062953   \n",
       "Lot Area (in Sqft)                              -0.028027   \n",
       "No of Floors                                     0.094307   \n",
       "Waterfront View                                  0.151062   \n",
       "No of Times Visited                              0.090415   \n",
       "Condition of the House                          -0.106571   \n",
       "Overall Grade                                    0.011367   \n",
       "Area of the House from Basement (in Sqft)        0.069716   \n",
       "Basement Area (in Sqft)                          0.035260   \n",
       "Age of House (in Years)                          0.274906   \n",
       "Zipcode                                          0.060750   \n",
       "Latitude                                         0.066000   \n",
       "Longitude                                       -0.099992   \n",
       "Living Area after Renovation (in Sqft)           0.003944   \n",
       "Lot Area after Renovation (in Sqft)             -0.000534   \n",
       "Ever Renovated                                   1.000000   \n",
       "Years Since Renovation                           0.849385   \n",
       "\n",
       "                                           Years Since Renovation  \n",
       "No of Bedrooms                                          -0.004171  \n",
       "No of Bathrooms                                          0.043296  \n",
       "Flat Area (in Sqft)                                      0.027058  \n",
       "Lot Area (in Sqft)                                      -0.002290  \n",
       "No of Floors                                             0.084835  \n",
       "Waterfront View                                          0.184377  \n",
       "No of Times Visited                                      0.092504  \n",
       "Condition of the House                                  -0.032633  \n",
       "Overall Grade                                           -0.043232  \n",
       "Area of the House from Basement (in Sqft)                0.053198  \n",
       "Basement Area (in Sqft)                                 -0.011291  \n",
       "Age of House (in Years)                                  0.263097  \n",
       "Zipcode                                                  0.046022  \n",
       "Latitude                                                 0.040726  \n",
       "Longitude                                               -0.082062  \n",
       "Living Area after Renovation (in Sqft)                  -0.002088  \n",
       "Lot Area after Renovation (in Sqft)                      0.024083  \n",
       "Ever Renovated                                           0.849385  \n",
       "Years Since Renovation                                   1.000000  "
      ]
     },
     "execution_count": 56,
     "metadata": {},
     "output_type": "execute_result"
    }
   ],
   "source": [
    "X.corr()"
   ]
  },
  {
   "cell_type": "code",
   "execution_count": 57,
   "metadata": {
    "colab": {
     "base_uri": "https://localhost:8080/",
     "height": 646
    },
    "colab_type": "code",
    "executionInfo": {
     "elapsed": 14257,
     "status": "ok",
     "timestamp": 1592370780582,
     "user": {
      "displayName": "Sharoon Saxena",
      "photoUrl": "https://lh3.googleusercontent.com/a-/AOh14GjyKz9rNCPkHi6QK8TjrjBFlTtaI9ngf0hIwgAl=s64",
      "userId": "01167841530696023488"
     },
     "user_tz": -330
    },
    "id": "bEytl7JP0UrO",
    "outputId": "1e37333d-68e1-459b-e678-beed5f256eee"
   },
   "outputs": [
    {
     "data": {
      "text/plain": [
       "([['No of Bedrooms', 'No of Bathrooms'],\n",
       "  ['No of Bedrooms', 'Flat Area (in Sqft)'],\n",
       "  ['No of Bathrooms', 'No of Bedrooms'],\n",
       "  ['No of Bathrooms', 'Flat Area (in Sqft)'],\n",
       "  ['No of Bathrooms', 'Overall Grade'],\n",
       "  ['No of Bathrooms', 'Area of the House from Basement (in Sqft)'],\n",
       "  ['Flat Area (in Sqft)', 'No of Bedrooms'],\n",
       "  ['Flat Area (in Sqft)', 'No of Bathrooms'],\n",
       "  ['Flat Area (in Sqft)', 'Overall Grade'],\n",
       "  ['Flat Area (in Sqft)', 'Area of the House from Basement (in Sqft)'],\n",
       "  ['Flat Area (in Sqft)', 'Living Area after Renovation (in Sqft)'],\n",
       "  ['Lot Area (in Sqft)', 'Lot Area after Renovation (in Sqft)'],\n",
       "  ['No of Floors', 'Area of the House from Basement (in Sqft)'],\n",
       "  ['Overall Grade', 'No of Bathrooms'],\n",
       "  ['Overall Grade', 'Flat Area (in Sqft)'],\n",
       "  ['Overall Grade', 'Area of the House from Basement (in Sqft)'],\n",
       "  ['Overall Grade', 'Living Area after Renovation (in Sqft)'],\n",
       "  ['Area of the House from Basement (in Sqft)', 'No of Bathrooms'],\n",
       "  ['Area of the House from Basement (in Sqft)', 'Flat Area (in Sqft)'],\n",
       "  ['Area of the House from Basement (in Sqft)', 'No of Floors'],\n",
       "  ['Area of the House from Basement (in Sqft)', 'Overall Grade'],\n",
       "  ['Area of the House from Basement (in Sqft)',\n",
       "   'Living Area after Renovation (in Sqft)'],\n",
       "  ['Living Area after Renovation (in Sqft)', 'Flat Area (in Sqft)'],\n",
       "  ['Living Area after Renovation (in Sqft)', 'Overall Grade'],\n",
       "  ['Living Area after Renovation (in Sqft)',\n",
       "   'Area of the House from Basement (in Sqft)'],\n",
       "  ['Lot Area after Renovation (in Sqft)', 'Lot Area (in Sqft)'],\n",
       "  ['Ever Renovated', 'Years Since Renovation'],\n",
       "  ['Years Since Renovation', 'Ever Renovated']],\n",
       " 28)"
      ]
     },
     "execution_count": 57,
     "metadata": {},
     "output_type": "execute_result"
    }
   ],
   "source": [
    "## pair of independent variables with correlation greater than 0.5\n",
    "k = X.corr()\n",
    "z = [[str(i),str(j)] for i in k.columns for j in k.columns if (k.loc[i,j] >abs(0.5))&(i!=j)]\n",
    "z, len(z)"
   ]
  },
  {
   "cell_type": "code",
   "execution_count": 59,
   "metadata": {},
   "outputs": [
    {
     "name": "stdout",
     "output_type": "stream",
     "text": [
      "Collecting statsmodels\n",
      "  Downloading statsmodels-0.14.0-cp311-cp311-win_amd64.whl (9.2 MB)\n",
      "                                              0.0/9.2 MB ? eta -:--:--\n",
      "                                              0.0/9.2 MB 2.0 MB/s eta 0:00:05\n",
      "                                              0.1/9.2 MB 1.3 MB/s eta 0:00:07\n",
      "                                              0.2/9.2 MB 1.6 MB/s eta 0:00:06\n",
      "     -                                        0.3/9.2 MB 2.0 MB/s eta 0:00:05\n",
      "     -                                        0.3/9.2 MB 1.4 MB/s eta 0:00:07\n",
      "     -                                        0.4/9.2 MB 1.8 MB/s eta 0:00:06\n",
      "     --                                       0.5/9.2 MB 1.9 MB/s eta 0:00:05\n",
      "     ---                                      0.7/9.2 MB 2.1 MB/s eta 0:00:05\n",
      "     ---                                      0.8/9.2 MB 2.2 MB/s eta 0:00:04\n",
      "     ---                                      0.9/9.2 MB 2.0 MB/s eta 0:00:05\n",
      "     ----                                     1.0/9.2 MB 2.0 MB/s eta 0:00:05\n",
      "     ----                                     1.1/9.2 MB 2.0 MB/s eta 0:00:04\n",
      "     -----                                    1.2/9.2 MB 2.1 MB/s eta 0:00:04\n",
      "     -----                                    1.3/9.2 MB 2.1 MB/s eta 0:00:04\n",
      "     -----                                    1.3/9.2 MB 2.1 MB/s eta 0:00:04\n",
      "     ------                                   1.5/9.2 MB 2.0 MB/s eta 0:00:04\n",
      "     ------                                   1.5/9.2 MB 2.0 MB/s eta 0:00:04\n",
      "     ------                                   1.6/9.2 MB 1.9 MB/s eta 0:00:05\n",
      "     -------                                  1.6/9.2 MB 1.9 MB/s eta 0:00:04\n",
      "     -------                                  1.6/9.2 MB 1.9 MB/s eta 0:00:04\n",
      "     -------                                  1.7/9.2 MB 1.8 MB/s eta 0:00:05\n",
      "     -------                                  1.8/9.2 MB 1.8 MB/s eta 0:00:05\n",
      "     --------                                 1.9/9.2 MB 1.8 MB/s eta 0:00:05\n",
      "     --------                                 2.0/9.2 MB 1.8 MB/s eta 0:00:04\n",
      "     --------                                 2.0/9.2 MB 1.8 MB/s eta 0:00:04\n",
      "     ---------                                2.1/9.2 MB 1.8 MB/s eta 0:00:04\n",
      "     ---------                                2.2/9.2 MB 1.8 MB/s eta 0:00:04\n",
      "     ---------                                2.3/9.2 MB 1.8 MB/s eta 0:00:04\n",
      "     ----------                               2.4/9.2 MB 1.8 MB/s eta 0:00:04\n",
      "     ----------                               2.5/9.2 MB 1.8 MB/s eta 0:00:04\n",
      "     -----------                              2.6/9.2 MB 1.8 MB/s eta 0:00:04\n",
      "     -----------                              2.7/9.2 MB 1.8 MB/s eta 0:00:04\n",
      "     -----------                              2.7/9.2 MB 1.8 MB/s eta 0:00:04\n",
      "     -----------                              2.7/9.2 MB 1.8 MB/s eta 0:00:04\n",
      "     ------------                             2.8/9.2 MB 1.8 MB/s eta 0:00:04\n",
      "     ------------                             2.9/9.2 MB 1.8 MB/s eta 0:00:04\n",
      "     -------------                            3.1/9.2 MB 1.8 MB/s eta 0:00:04\n",
      "     -------------                            3.1/9.2 MB 1.8 MB/s eta 0:00:04\n",
      "     -------------                            3.2/9.2 MB 1.8 MB/s eta 0:00:04\n",
      "     --------------                           3.3/9.2 MB 1.8 MB/s eta 0:00:04\n",
      "     --------------                           3.4/9.2 MB 1.8 MB/s eta 0:00:04\n",
      "     ---------------                          3.5/9.2 MB 1.8 MB/s eta 0:00:04\n",
      "     ---------------                          3.6/9.2 MB 1.8 MB/s eta 0:00:04\n",
      "     ----------------                         3.7/9.2 MB 1.8 MB/s eta 0:00:04\n",
      "     ----------------                         3.8/9.2 MB 1.8 MB/s eta 0:00:03\n",
      "     ----------------                         3.9/9.2 MB 1.8 MB/s eta 0:00:03\n",
      "     ----------------                         3.9/9.2 MB 1.8 MB/s eta 0:00:03\n",
      "     -----------------                        4.0/9.2 MB 1.8 MB/s eta 0:00:03\n",
      "     -----------------                        4.0/9.2 MB 1.8 MB/s eta 0:00:03\n",
      "     -----------------                        4.1/9.2 MB 1.8 MB/s eta 0:00:03\n",
      "     ------------------                       4.1/9.2 MB 1.8 MB/s eta 0:00:03\n",
      "     ------------------                       4.2/9.2 MB 1.8 MB/s eta 0:00:03\n",
      "     ------------------                       4.3/9.2 MB 1.8 MB/s eta 0:00:03\n",
      "     -------------------                      4.4/9.2 MB 1.8 MB/s eta 0:00:03\n",
      "     -------------------                      4.5/9.2 MB 1.8 MB/s eta 0:00:03\n",
      "     -------------------                      4.6/9.2 MB 1.8 MB/s eta 0:00:03\n",
      "     --------------------                     4.6/9.2 MB 1.7 MB/s eta 0:00:03\n",
      "     --------------------                     4.7/9.2 MB 1.8 MB/s eta 0:00:03\n",
      "     --------------------                     4.8/9.2 MB 1.8 MB/s eta 0:00:03\n",
      "     ---------------------                    4.9/9.2 MB 1.8 MB/s eta 0:00:03\n",
      "     ---------------------                    4.9/9.2 MB 1.7 MB/s eta 0:00:03\n",
      "     ---------------------                    5.0/9.2 MB 1.8 MB/s eta 0:00:03\n",
      "     ----------------------                   5.1/9.2 MB 1.8 MB/s eta 0:00:03\n",
      "     ----------------------                   5.2/9.2 MB 1.7 MB/s eta 0:00:03\n",
      "     ----------------------                   5.2/9.2 MB 1.7 MB/s eta 0:00:03\n",
      "     -----------------------                  5.3/9.2 MB 1.8 MB/s eta 0:00:03\n",
      "     -----------------------                  5.4/9.2 MB 1.7 MB/s eta 0:00:03\n",
      "     ------------------------                 5.6/9.2 MB 1.8 MB/s eta 0:00:03\n",
      "     ------------------------                 5.7/9.2 MB 1.8 MB/s eta 0:00:02\n",
      "     -------------------------                5.8/9.2 MB 1.8 MB/s eta 0:00:02\n",
      "     -------------------------                5.8/9.2 MB 1.8 MB/s eta 0:00:02\n",
      "     -------------------------                5.9/9.2 MB 1.8 MB/s eta 0:00:02\n",
      "     -------------------------                6.0/9.2 MB 1.8 MB/s eta 0:00:02\n",
      "     --------------------------               6.1/9.2 MB 1.8 MB/s eta 0:00:02\n",
      "     --------------------------               6.2/9.2 MB 1.8 MB/s eta 0:00:02\n",
      "     ---------------------------              6.3/9.2 MB 1.8 MB/s eta 0:00:02\n",
      "     ---------------------------              6.3/9.2 MB 1.8 MB/s eta 0:00:02\n",
      "     ---------------------------              6.4/9.2 MB 1.8 MB/s eta 0:00:02\n",
      "     ----------------------------             6.5/9.2 MB 1.8 MB/s eta 0:00:02\n",
      "     ----------------------------             6.5/9.2 MB 1.8 MB/s eta 0:00:02\n",
      "     ----------------------------             6.6/9.2 MB 1.8 MB/s eta 0:00:02\n",
      "     -----------------------------            6.7/9.2 MB 1.8 MB/s eta 0:00:02\n",
      "     -----------------------------            6.8/9.2 MB 1.8 MB/s eta 0:00:02\n",
      "     -----------------------------            6.8/9.2 MB 1.8 MB/s eta 0:00:02\n",
      "     -----------------------------            6.9/9.2 MB 1.8 MB/s eta 0:00:02\n",
      "     ------------------------------           6.9/9.2 MB 1.8 MB/s eta 0:00:02\n",
      "     ------------------------------           7.0/9.2 MB 1.8 MB/s eta 0:00:02\n",
      "     -------------------------------          7.1/9.2 MB 1.7 MB/s eta 0:00:02\n",
      "     -------------------------------          7.2/9.2 MB 1.7 MB/s eta 0:00:02\n",
      "     -------------------------------          7.3/9.2 MB 1.7 MB/s eta 0:00:02\n",
      "     --------------------------------         7.4/9.2 MB 1.7 MB/s eta 0:00:02\n",
      "     --------------------------------         7.4/9.2 MB 1.7 MB/s eta 0:00:02\n",
      "     --------------------------------         7.4/9.2 MB 1.7 MB/s eta 0:00:02\n",
      "     --------------------------------         7.5/9.2 MB 1.7 MB/s eta 0:00:02\n",
      "     --------------------------------         7.5/9.2 MB 1.7 MB/s eta 0:00:01\n",
      "     ---------------------------------        7.6/9.2 MB 1.7 MB/s eta 0:00:01\n",
      "     ---------------------------------        7.7/9.2 MB 1.7 MB/s eta 0:00:01\n",
      "     ---------------------------------        7.8/9.2 MB 1.7 MB/s eta 0:00:01\n",
      "     ----------------------------------       7.9/9.2 MB 1.7 MB/s eta 0:00:01\n",
      "     ----------------------------------       8.0/9.2 MB 1.7 MB/s eta 0:00:01\n",
      "     -----------------------------------      8.1/9.2 MB 1.7 MB/s eta 0:00:01\n",
      "     -----------------------------------      8.1/9.2 MB 1.7 MB/s eta 0:00:01\n",
      "     -----------------------------------      8.3/9.2 MB 1.7 MB/s eta 0:00:01\n",
      "     ------------------------------------     8.3/9.2 MB 1.7 MB/s eta 0:00:01\n",
      "     ------------------------------------     8.4/9.2 MB 1.7 MB/s eta 0:00:01\n",
      "     ------------------------------------     8.4/9.2 MB 1.7 MB/s eta 0:00:01\n",
      "     ------------------------------------     8.5/9.2 MB 1.7 MB/s eta 0:00:01\n",
      "     -------------------------------------    8.6/9.2 MB 1.7 MB/s eta 0:00:01\n",
      "     -------------------------------------    8.7/9.2 MB 1.7 MB/s eta 0:00:01\n",
      "     --------------------------------------   8.7/9.2 MB 1.7 MB/s eta 0:00:01\n",
      "     --------------------------------------   8.8/9.2 MB 1.7 MB/s eta 0:00:01\n",
      "     --------------------------------------   8.9/9.2 MB 1.7 MB/s eta 0:00:01\n",
      "     ---------------------------------------  9.0/9.2 MB 1.7 MB/s eta 0:00:01\n",
      "     ---------------------------------------  9.1/9.2 MB 1.7 MB/s eta 0:00:01\n",
      "     ---------------------------------------  9.2/9.2 MB 1.7 MB/s eta 0:00:01\n",
      "     ---------------------------------------  9.2/9.2 MB 1.7 MB/s eta 0:00:01\n",
      "     ---------------------------------------- 9.2/9.2 MB 1.7 MB/s eta 0:00:00\n",
      "Requirement already satisfied: numpy>=1.18 in c:\\users\\vishn\\appdata\\local\\programs\\python\\python311\\lib\\site-packages (from statsmodels) (1.23.5)\n",
      "Requirement already satisfied: scipy!=1.9.2,>=1.4 in c:\\users\\vishn\\appdata\\local\\programs\\python\\python311\\lib\\site-packages (from statsmodels) (1.10.1)\n",
      "Requirement already satisfied: pandas>=1.0 in c:\\users\\vishn\\appdata\\local\\programs\\python\\python311\\lib\\site-packages (from statsmodels) (2.0.3)\n",
      "Collecting patsy>=0.5.2 (from statsmodels)\n",
      "  Downloading patsy-0.5.3-py2.py3-none-any.whl (233 kB)\n",
      "                                              0.0/233.8 kB ? eta -:--:--\n",
      "     -------------                           81.9/233.8 kB 4.5 MB/s eta 0:00:01\n",
      "     ----------------------------           174.1/233.8 kB 2.6 MB/s eta 0:00:01\n",
      "     ------------------------------------   225.3/233.8 kB 2.0 MB/s eta 0:00:01\n",
      "     -------------------------------------- 233.8/233.8 kB 2.0 MB/s eta 0:00:00\n",
      "Requirement already satisfied: packaging>=21.3 in c:\\users\\vishn\\appdata\\local\\programs\\python\\python311\\lib\\site-packages (from statsmodels) (23.1)\n",
      "Requirement already satisfied: python-dateutil>=2.8.2 in c:\\users\\vishn\\appdata\\local\\programs\\python\\python311\\lib\\site-packages (from pandas>=1.0->statsmodels) (2.8.2)\n",
      "Requirement already satisfied: pytz>=2020.1 in c:\\users\\vishn\\appdata\\local\\programs\\python\\python311\\lib\\site-packages (from pandas>=1.0->statsmodels) (2023.3)\n",
      "Requirement already satisfied: tzdata>=2022.1 in c:\\users\\vishn\\appdata\\local\\programs\\python\\python311\\lib\\site-packages (from pandas>=1.0->statsmodels) (2023.3)\n",
      "Requirement already satisfied: six in c:\\users\\vishn\\appdata\\local\\programs\\python\\python311\\lib\\site-packages (from patsy>=0.5.2->statsmodels) (1.16.0)\n",
      "Installing collected packages: patsy, statsmodels\n",
      "Successfully installed patsy-0.5.3 statsmodels-0.14.0\n",
      "Note: you may need to restart the kernel to use updated packages.\n"
     ]
    },
    {
     "name": "stderr",
     "output_type": "stream",
     "text": [
      "\n",
      "[notice] A new release of pip is available: 23.1.2 -> 23.2.1\n",
      "[notice] To update, run: python.exe -m pip install --upgrade pip\n"
     ]
    }
   ],
   "source": [
    "pip install statsmodels"
   ]
  },
  {
   "cell_type": "markdown",
   "metadata": {
    "colab_type": "text",
    "id": "SsVck61n0UrS"
   },
   "source": [
    "### Calculating VIF"
   ]
  },
  {
   "cell_type": "code",
   "execution_count": 60,
   "metadata": {
    "colab": {
     "base_uri": "https://localhost:8080/",
     "height": 357
    },
    "colab_type": "code",
    "executionInfo": {
     "elapsed": 14247,
     "status": "ok",
     "timestamp": 1592370780583,
     "user": {
      "displayName": "Sharoon Saxena",
      "photoUrl": "https://lh3.googleusercontent.com/a-/AOh14GjyKz9rNCPkHi6QK8TjrjBFlTtaI9ngf0hIwgAl=s64",
      "userId": "01167841530696023488"
     },
     "user_tz": -330
    },
    "id": "m_FAS6W80UrT",
    "outputId": "102d16dd-8011-488e-afbb-f8ab40c4ba8d"
   },
   "outputs": [
    {
     "data": {
      "text/plain": [
       "No of Bedrooms                                1.706481\n",
       "No of Bathrooms                               3.370339\n",
       "Flat Area (in Sqft)                          18.585044\n",
       "Lot Area (in Sqft)                            6.086142\n",
       "No of Floors                                  2.168775\n",
       "Waterfront View                               1.335544\n",
       "No of Times Visited                           1.323051\n",
       "Condition of the House                        1.305740\n",
       "Overall Grade                                 2.449572\n",
       "Area of the House from Basement (in Sqft)    19.369869\n",
       "Basement Area (in Sqft)                       5.892159\n",
       "Age of House (in Years)                       2.231936\n",
       "Zipcode                                       1.688455\n",
       "Latitude                                      1.305798\n",
       "Longitude                                     1.899374\n",
       "Living Area after Renovation (in Sqft)        2.279967\n",
       "Lot Area after Renovation (in Sqft)           5.908757\n",
       "Ever Renovated                                4.014570\n",
       "Years Since Renovation                        3.775256\n",
       "dtype: float64"
      ]
     },
     "execution_count": 60,
     "metadata": {},
     "output_type": "execute_result"
    }
   ],
   "source": [
    "# Importing Variance_inflation_Factor funtion from the Statsmodels\n",
    "from statsmodels.stats.outliers_influence import variance_inflation_factor\n",
    "\n",
    "vif_data = X[:]\n",
    "\n",
    "## Calculating VIF for every column\n",
    "VIF = pd.Series([variance_inflation_factor(vif_data.values, i) for i in range(vif_data.shape[1])], index = vif_data.columns)\n",
    "VIF"
   ]
  },
  {
   "cell_type": "code",
   "execution_count": 61,
   "metadata": {
    "colab": {},
    "colab_type": "code",
    "executionInfo": {
     "elapsed": 14235,
     "status": "ok",
     "timestamp": 1592370780583,
     "user": {
      "displayName": "Sharoon Saxena",
      "photoUrl": "https://lh3.googleusercontent.com/a-/AOh14GjyKz9rNCPkHi6QK8TjrjBFlTtaI9ngf0hIwgAl=s64",
      "userId": "01167841530696023488"
     },
     "user_tz": -330
    },
    "id": "A5OtkErr0Urc"
   },
   "outputs": [],
   "source": [
    "def MC_remover(data):\n",
    "  vif = pd.Series([variance_inflation_factor(data.values, i) for i in range(data.shape[1])], index = data.columns)\n",
    "  if vif.max() > 5:\n",
    "    print(vif[vif == vif.max()].index[0],'has been removed')\n",
    "    data = data.drop(columns = [vif[vif == vif.max()].index[0]])\n",
    "    return data\n",
    "  else:\n",
    "    print('No Multicollinearity present anymore')\n",
    "    return data"
   ]
  },
  {
   "cell_type": "code",
   "execution_count": 62,
   "metadata": {
    "colab": {
     "base_uri": "https://localhost:8080/",
     "height": 374
    },
    "colab_type": "code",
    "executionInfo": {
     "elapsed": 18312,
     "status": "ok",
     "timestamp": 1592370784669,
     "user": {
      "displayName": "Sharoon Saxena",
      "photoUrl": "https://lh3.googleusercontent.com/a-/AOh14GjyKz9rNCPkHi6QK8TjrjBFlTtaI9ngf0hIwgAl=s64",
      "userId": "01167841530696023488"
     },
     "user_tz": -330
    },
    "id": "BS-NvcQl0Ure",
    "outputId": "7827fd93-6748-4215-b0c4-0febbc64b458"
   },
   "outputs": [
    {
     "name": "stdout",
     "output_type": "stream",
     "text": [
      "Area of the House from Basement (in Sqft) has been removed\n",
      "Lot Area (in Sqft) has been removed\n",
      "No Multicollinearity present anymore\n",
      "No Multicollinearity present anymore\n",
      "No Multicollinearity present anymore\n",
      "No Multicollinearity present anymore\n",
      "No Multicollinearity present anymore\n"
     ]
    },
    {
     "data": {
      "text/html": [
       "<div>\n",
       "<style scoped>\n",
       "    .dataframe tbody tr th:only-of-type {\n",
       "        vertical-align: middle;\n",
       "    }\n",
       "\n",
       "    .dataframe tbody tr th {\n",
       "        vertical-align: top;\n",
       "    }\n",
       "\n",
       "    .dataframe thead th {\n",
       "        text-align: right;\n",
       "    }\n",
       "</style>\n",
       "<table border=\"1\" class=\"dataframe\">\n",
       "  <thead>\n",
       "    <tr style=\"text-align: right;\">\n",
       "      <th></th>\n",
       "      <th>No of Bedrooms</th>\n",
       "      <th>No of Bathrooms</th>\n",
       "      <th>Flat Area (in Sqft)</th>\n",
       "      <th>No of Floors</th>\n",
       "      <th>Waterfront View</th>\n",
       "      <th>No of Times Visited</th>\n",
       "      <th>Condition of the House</th>\n",
       "      <th>Overall Grade</th>\n",
       "      <th>Basement Area (in Sqft)</th>\n",
       "      <th>Age of House (in Years)</th>\n",
       "      <th>Zipcode</th>\n",
       "      <th>Latitude</th>\n",
       "      <th>Longitude</th>\n",
       "      <th>Living Area after Renovation (in Sqft)</th>\n",
       "      <th>Lot Area after Renovation (in Sqft)</th>\n",
       "      <th>Ever Renovated</th>\n",
       "      <th>Years Since Renovation</th>\n",
       "    </tr>\n",
       "  </thead>\n",
       "  <tbody>\n",
       "    <tr>\n",
       "      <th>0</th>\n",
       "      <td>0.406644</td>\n",
       "      <td>0.514205</td>\n",
       "      <td>0.094025</td>\n",
       "      <td>0.868848</td>\n",
       "      <td>-0.288307</td>\n",
       "      <td>0.668115</td>\n",
       "      <td>-0.726703</td>\n",
       "      <td>0.524488</td>\n",
       "      <td>0.692922</td>\n",
       "      <td>-0.469642</td>\n",
       "      <td>0.546499</td>\n",
       "      <td>0.060034</td>\n",
       "      <td>-0.869726</td>\n",
       "      <td>-0.447078</td>\n",
       "      <td>-1.084048</td>\n",
       "      <td>-0.333856</td>\n",
       "      <td>-0.283572</td>\n",
       "    </tr>\n",
       "    <tr>\n",
       "      <th>1</th>\n",
       "      <td>-0.599336</td>\n",
       "      <td>0.242388</td>\n",
       "      <td>0.174779</td>\n",
       "      <td>-0.954506</td>\n",
       "      <td>-0.288307</td>\n",
       "      <td>1.753035</td>\n",
       "      <td>-0.726703</td>\n",
       "      <td>0.524488</td>\n",
       "      <td>0.354902</td>\n",
       "      <td>-0.089318</td>\n",
       "      <td>-0.865842</td>\n",
       "      <td>-0.265145</td>\n",
       "      <td>0.130791</td>\n",
       "      <td>1.746295</td>\n",
       "      <td>0.808483</td>\n",
       "      <td>-0.333856</td>\n",
       "      <td>-0.283572</td>\n",
       "    </tr>\n",
       "    <tr>\n",
       "      <th>2</th>\n",
       "      <td>-0.599336</td>\n",
       "      <td>-0.029565</td>\n",
       "      <td>-0.065061</td>\n",
       "      <td>-0.954506</td>\n",
       "      <td>3.468526</td>\n",
       "      <td>-0.416805</td>\n",
       "      <td>2.166486</td>\n",
       "      <td>0.524488</td>\n",
       "      <td>0.147262</td>\n",
       "      <td>0.429304</td>\n",
       "      <td>-0.373165</td>\n",
       "      <td>-1.306860</td>\n",
       "      <td>-1.405368</td>\n",
       "      <td>0.285171</td>\n",
       "      <td>2.356926</td>\n",
       "      <td>-0.333856</td>\n",
       "      <td>-0.283572</td>\n",
       "    </tr>\n",
       "    <tr>\n",
       "      <th>3</th>\n",
       "      <td>1.410629</td>\n",
       "      <td>0.785887</td>\n",
       "      <td>0.336287</td>\n",
       "      <td>0.868848</td>\n",
       "      <td>-0.288307</td>\n",
       "      <td>1.753035</td>\n",
       "      <td>0.719892</td>\n",
       "      <td>-0.272944</td>\n",
       "      <td>-1.262554</td>\n",
       "      <td>-0.089318</td>\n",
       "      <td>-1.391364</td>\n",
       "      <td>0.195661</td>\n",
       "      <td>0.954878</td>\n",
       "      <td>0.617207</td>\n",
       "      <td>0.079286</td>\n",
       "      <td>-0.333856</td>\n",
       "      <td>-0.283572</td>\n",
       "    </tr>\n",
       "    <tr>\n",
       "      <th>4</th>\n",
       "      <td>-0.599336</td>\n",
       "      <td>-0.301653</td>\n",
       "      <td>-0.552009</td>\n",
       "      <td>-0.954506</td>\n",
       "      <td>-0.288307</td>\n",
       "      <td>0.668115</td>\n",
       "      <td>0.719892</td>\n",
       "      <td>-0.272944</td>\n",
       "      <td>0.099986</td>\n",
       "      <td>0.221855</td>\n",
       "      <td>1.203401</td>\n",
       "      <td>-1.065836</td>\n",
       "      <td>-0.616038</td>\n",
       "      <td>0.146657</td>\n",
       "      <td>0.720304</td>\n",
       "      <td>-0.333856</td>\n",
       "      <td>-0.283572</td>\n",
       "    </tr>\n",
       "  </tbody>\n",
       "</table>\n",
       "</div>"
      ],
      "text/plain": [
       "   No of Bedrooms  No of Bathrooms  Flat Area (in Sqft)  No of Floors  \\\n",
       "0        0.406644         0.514205             0.094025      0.868848   \n",
       "1       -0.599336         0.242388             0.174779     -0.954506   \n",
       "2       -0.599336        -0.029565            -0.065061     -0.954506   \n",
       "3        1.410629         0.785887             0.336287      0.868848   \n",
       "4       -0.599336        -0.301653            -0.552009     -0.954506   \n",
       "\n",
       "   Waterfront View  No of Times Visited  Condition of the House  \\\n",
       "0        -0.288307             0.668115               -0.726703   \n",
       "1        -0.288307             1.753035               -0.726703   \n",
       "2         3.468526            -0.416805                2.166486   \n",
       "3        -0.288307             1.753035                0.719892   \n",
       "4        -0.288307             0.668115                0.719892   \n",
       "\n",
       "   Overall Grade  Basement Area (in Sqft)  Age of House (in Years)   Zipcode  \\\n",
       "0       0.524488                 0.692922                -0.469642  0.546499   \n",
       "1       0.524488                 0.354902                -0.089318 -0.865842   \n",
       "2       0.524488                 0.147262                 0.429304 -0.373165   \n",
       "3      -0.272944                -1.262554                -0.089318 -1.391364   \n",
       "4      -0.272944                 0.099986                 0.221855  1.203401   \n",
       "\n",
       "   Latitude  Longitude  Living Area after Renovation (in Sqft)  \\\n",
       "0  0.060034  -0.869726                               -0.447078   \n",
       "1 -0.265145   0.130791                                1.746295   \n",
       "2 -1.306860  -1.405368                                0.285171   \n",
       "3  0.195661   0.954878                                0.617207   \n",
       "4 -1.065836  -0.616038                                0.146657   \n",
       "\n",
       "   Lot Area after Renovation (in Sqft)  Ever Renovated  Years Since Renovation  \n",
       "0                            -1.084048       -0.333856               -0.283572  \n",
       "1                             0.808483       -0.333856               -0.283572  \n",
       "2                             2.356926       -0.333856               -0.283572  \n",
       "3                             0.079286       -0.333856               -0.283572  \n",
       "4                             0.720304       -0.333856               -0.283572  "
      ]
     },
     "execution_count": 62,
     "metadata": {},
     "output_type": "execute_result"
    }
   ],
   "source": [
    "for i in range(7):\n",
    "  vif_data = MC_remover(vif_data)\n",
    "\n",
    "vif_data.head()"
   ]
  },
  {
   "cell_type": "markdown",
   "metadata": {
    "colab_type": "text",
    "id": "uuSq2y3b0Urh"
   },
   "source": [
    "### Remaining Columns"
   ]
  },
  {
   "cell_type": "code",
   "execution_count": 63,
   "metadata": {
    "colab": {
     "base_uri": "https://localhost:8080/",
     "height": 306
    },
    "colab_type": "code",
    "executionInfo": {
     "elapsed": 19536,
     "status": "ok",
     "timestamp": 1592370785905,
     "user": {
      "displayName": "Sharoon Saxena",
      "photoUrl": "https://lh3.googleusercontent.com/a-/AOh14GjyKz9rNCPkHi6QK8TjrjBFlTtaI9ngf0hIwgAl=s64",
      "userId": "01167841530696023488"
     },
     "user_tz": -330
    },
    "id": "7ui8gRrz0Urh",
    "outputId": "b3d675d5-68ba-4e79-b0b1-240673344566"
   },
   "outputs": [
    {
     "data": {
      "text/plain": [
       "(No of Bedrooms                            1.644888\n",
       " No of Bathrooms                           3.355702\n",
       " Flat Area (in Sqft)                       4.557772\n",
       " No of Floors                              1.940162\n",
       " Waterfront View                           1.329957\n",
       " No of Times Visited                       1.320050\n",
       " Condition of the House                    1.302130\n",
       " Overall Grade                             2.035517\n",
       " Basement Area (in Sqft)                   1.985577\n",
       " Age of House (in Years)                   2.196513\n",
       " Zipcode                                   1.676318\n",
       " Latitude                                  1.280427\n",
       " Longitude                                 1.885559\n",
       " Living Area after Renovation (in Sqft)    2.196261\n",
       " Lot Area after Renovation (in Sqft)       1.624912\n",
       " Ever Renovated                            3.999803\n",
       " Years Since Renovation                    3.761973\n",
       " dtype: float64,\n",
       " 17)"
      ]
     },
     "execution_count": 63,
     "metadata": {},
     "output_type": "execute_result"
    }
   ],
   "source": [
    "# Calculating VIF for remaining columns\n",
    "VIF = pd.Series([variance_inflation_factor(vif_data.values, i) for i in range(vif_data.shape[1])], index = vif_data.columns)\n",
    "VIF, len(vif_data.columns)"
   ]
  },
  {
   "cell_type": "code",
   "execution_count": 64,
   "metadata": {
    "colab": {},
    "colab_type": "code",
    "executionInfo": {
     "elapsed": 19525,
     "status": "ok",
     "timestamp": 1592370785906,
     "user": {
      "displayName": "Sharoon Saxena",
      "photoUrl": "https://lh3.googleusercontent.com/a-/AOh14GjyKz9rNCPkHi6QK8TjrjBFlTtaI9ngf0hIwgAl=s64",
      "userId": "01167841530696023488"
     },
     "user_tz": -330
    },
    "id": "cHDapkNnmjH2"
   },
   "outputs": [],
   "source": [
    "X = vif_data[:]"
   ]
  },
  {
   "cell_type": "markdown",
   "metadata": {
    "colab_type": "text",
    "id": "2OtqYbES1Ck-"
   },
   "source": [
    "## Train/Test set"
   ]
  },
  {
   "cell_type": "code",
   "execution_count": 65,
   "metadata": {
    "colab": {},
    "colab_type": "code",
    "executionInfo": {
     "elapsed": 19517,
     "status": "ok",
     "timestamp": 1592370785907,
     "user": {
      "displayName": "Sharoon Saxena",
      "photoUrl": "https://lh3.googleusercontent.com/a-/AOh14GjyKz9rNCPkHi6QK8TjrjBFlTtaI9ngf0hIwgAl=s64",
      "userId": "01167841530696023488"
     },
     "user_tz": -330
    },
    "id": "sDAXk48r0tRn"
   },
   "outputs": [],
   "source": [
    "Y = data['Sale Price']"
   ]
  },
  {
   "cell_type": "code",
   "execution_count": 66,
   "metadata": {
    "colab": {
     "base_uri": "https://localhost:8080/",
     "height": 34
    },
    "colab_type": "code",
    "executionInfo": {
     "elapsed": 19508,
     "status": "ok",
     "timestamp": 1592370785908,
     "user": {
      "displayName": "Sharoon Saxena",
      "photoUrl": "https://lh3.googleusercontent.com/a-/AOh14GjyKz9rNCPkHi6QK8TjrjBFlTtaI9ngf0hIwgAl=s64",
      "userId": "01167841530696023488"
     },
     "user_tz": -330
    },
    "id": "OnDOTUGt0tRp",
    "outputId": "b08ff91d-add6-43bb-96d9-e61e9e24dc76"
   },
   "outputs": [
    {
     "data": {
      "text/plain": [
       "((1486, 17), (638, 17), (1486,), (638,))"
      ]
     },
     "execution_count": 66,
     "metadata": {},
     "output_type": "execute_result"
    }
   ],
   "source": [
    "from sklearn.model_selection import train_test_split\n",
    "x_train, x_test, y_train, y_test = train_test_split(X, Y, test_size = 0.3, random_state = 101)\n",
    "\n",
    "x_train.shape, x_test.shape, y_train.shape, y_test.shape"
   ]
  },
  {
   "cell_type": "markdown",
   "metadata": {
    "colab_type": "text",
    "id": "eUpoopDQsSNr"
   },
   "source": [
    "## training model"
   ]
  },
  {
   "cell_type": "code",
   "execution_count": 68,
   "metadata": {
    "colab": {
     "base_uri": "https://localhost:8080/",
     "height": 34
    },
    "colab_type": "code",
    "executionInfo": {
     "elapsed": 19498,
     "status": "ok",
     "timestamp": 1592370785909,
     "user": {
      "displayName": "Sharoon Saxena",
      "photoUrl": "https://lh3.googleusercontent.com/a-/AOh14GjyKz9rNCPkHi6QK8TjrjBFlTtaI9ngf0hIwgAl=s64",
      "userId": "01167841530696023488"
     },
     "user_tz": -330
    },
    "id": "6Xq14RtASUDu",
    "outputId": "d9d16ba9-6060-4285-9839-3c364d1b892e"
   },
   "outputs": [
    {
     "data": {
      "text/html": [
       "<style>#sk-container-id-1 {color: black;background-color: white;}#sk-container-id-1 pre{padding: 0;}#sk-container-id-1 div.sk-toggleable {background-color: white;}#sk-container-id-1 label.sk-toggleable__label {cursor: pointer;display: block;width: 100%;margin-bottom: 0;padding: 0.3em;box-sizing: border-box;text-align: center;}#sk-container-id-1 label.sk-toggleable__label-arrow:before {content: \"▸\";float: left;margin-right: 0.25em;color: #696969;}#sk-container-id-1 label.sk-toggleable__label-arrow:hover:before {color: black;}#sk-container-id-1 div.sk-estimator:hover label.sk-toggleable__label-arrow:before {color: black;}#sk-container-id-1 div.sk-toggleable__content {max-height: 0;max-width: 0;overflow: hidden;text-align: left;background-color: #f0f8ff;}#sk-container-id-1 div.sk-toggleable__content pre {margin: 0.2em;color: black;border-radius: 0.25em;background-color: #f0f8ff;}#sk-container-id-1 input.sk-toggleable__control:checked~div.sk-toggleable__content {max-height: 200px;max-width: 100%;overflow: auto;}#sk-container-id-1 input.sk-toggleable__control:checked~label.sk-toggleable__label-arrow:before {content: \"▾\";}#sk-container-id-1 div.sk-estimator input.sk-toggleable__control:checked~label.sk-toggleable__label {background-color: #d4ebff;}#sk-container-id-1 div.sk-label input.sk-toggleable__control:checked~label.sk-toggleable__label {background-color: #d4ebff;}#sk-container-id-1 input.sk-hidden--visually {border: 0;clip: rect(1px 1px 1px 1px);clip: rect(1px, 1px, 1px, 1px);height: 1px;margin: -1px;overflow: hidden;padding: 0;position: absolute;width: 1px;}#sk-container-id-1 div.sk-estimator {font-family: monospace;background-color: #f0f8ff;border: 1px dotted black;border-radius: 0.25em;box-sizing: border-box;margin-bottom: 0.5em;}#sk-container-id-1 div.sk-estimator:hover {background-color: #d4ebff;}#sk-container-id-1 div.sk-parallel-item::after {content: \"\";width: 100%;border-bottom: 1px solid gray;flex-grow: 1;}#sk-container-id-1 div.sk-label:hover label.sk-toggleable__label {background-color: #d4ebff;}#sk-container-id-1 div.sk-serial::before {content: \"\";position: absolute;border-left: 1px solid gray;box-sizing: border-box;top: 0;bottom: 0;left: 50%;z-index: 0;}#sk-container-id-1 div.sk-serial {display: flex;flex-direction: column;align-items: center;background-color: white;padding-right: 0.2em;padding-left: 0.2em;position: relative;}#sk-container-id-1 div.sk-item {position: relative;z-index: 1;}#sk-container-id-1 div.sk-parallel {display: flex;align-items: stretch;justify-content: center;background-color: white;position: relative;}#sk-container-id-1 div.sk-item::before, #sk-container-id-1 div.sk-parallel-item::before {content: \"\";position: absolute;border-left: 1px solid gray;box-sizing: border-box;top: 0;bottom: 0;left: 50%;z-index: -1;}#sk-container-id-1 div.sk-parallel-item {display: flex;flex-direction: column;z-index: 1;position: relative;background-color: white;}#sk-container-id-1 div.sk-parallel-item:first-child::after {align-self: flex-end;width: 50%;}#sk-container-id-1 div.sk-parallel-item:last-child::after {align-self: flex-start;width: 50%;}#sk-container-id-1 div.sk-parallel-item:only-child::after {width: 0;}#sk-container-id-1 div.sk-dashed-wrapped {border: 1px dashed gray;margin: 0 0.4em 0.5em 0.4em;box-sizing: border-box;padding-bottom: 0.4em;background-color: white;}#sk-container-id-1 div.sk-label label {font-family: monospace;font-weight: bold;display: inline-block;line-height: 1.2em;}#sk-container-id-1 div.sk-label-container {text-align: center;}#sk-container-id-1 div.sk-container {/* jupyter's `normalize.less` sets `[hidden] { display: none; }` but bootstrap.min.css set `[hidden] { display: none !important; }` so we also need the `!important` here to be able to override the default hidden behavior on the sphinx rendered scikit-learn.org. See: https://github.com/scikit-learn/scikit-learn/issues/21755 */display: inline-block !important;position: relative;}#sk-container-id-1 div.sk-text-repr-fallback {display: none;}</style><div id=\"sk-container-id-1\" class=\"sk-top-container\"><div class=\"sk-text-repr-fallback\"><pre>LinearRegression()</pre><b>In a Jupyter environment, please rerun this cell to show the HTML representation or trust the notebook. <br />On GitHub, the HTML representation is unable to render, please try loading this page with nbviewer.org.</b></div><div class=\"sk-container\" hidden><div class=\"sk-item\"><div class=\"sk-estimator sk-toggleable\"><input class=\"sk-toggleable__control sk-hidden--visually\" id=\"sk-estimator-id-1\" type=\"checkbox\" checked><label for=\"sk-estimator-id-1\" class=\"sk-toggleable__label sk-toggleable__label-arrow\">LinearRegression</label><div class=\"sk-toggleable__content\"><pre>LinearRegression()</pre></div></div></div></div></div>"
      ],
      "text/plain": [
       "LinearRegression()"
      ]
     },
     "execution_count": 68,
     "metadata": {},
     "output_type": "execute_result"
    }
   ],
   "source": [
    "from sklearn.linear_model import LinearRegression\n",
    "from sklearn.preprocessing import StandardScaler  # Import the StandardScaler\n",
    "\n",
    "# Assuming you have your training data in x_train and y_train\n",
    "# Initialize the StandardScaler\n",
    "scaler = StandardScaler()\n",
    "\n",
    "# Fit and transform the scaler on your training data\n",
    "x_train_scaled = scaler.fit_transform(x_train)\n",
    "\n",
    "# Create the LinearRegression model\n",
    "lr = LinearRegression()\n",
    "\n",
    "# Fit the model on the scaled data\n",
    "lr.fit(x_train_scaled, y_train)"
   ]
  },
  {
   "cell_type": "code",
   "execution_count": 69,
   "metadata": {
    "colab": {
     "base_uri": "https://localhost:8080/",
     "height": 85
    },
    "colab_type": "code",
    "executionInfo": {
     "elapsed": 19485,
     "status": "ok",
     "timestamp": 1592370785909,
     "user": {
      "displayName": "Sharoon Saxena",
      "photoUrl": "https://lh3.googleusercontent.com/a-/AOh14GjyKz9rNCPkHi6QK8TjrjBFlTtaI9ngf0hIwgAl=s64",
      "userId": "01167841530696023488"
     },
     "user_tz": -330
    },
    "id": "sCpv3oAEQeet",
    "outputId": "ce8c867b-d5af-4f4c-8d30-7f2c0f26faa9"
   },
   "outputs": [
    {
     "data": {
      "text/plain": [
       "array([-18736.07576693,  31546.5823595 ,  92995.87920228,  16140.76014488,\n",
       "        36020.86860769,  31908.99407287,  31773.9451307 , 104498.94128882,\n",
       "        -7355.64507596,  43193.20953654, -40615.75752955,  95245.86791108,\n",
       "       -31907.35158353,  66026.54563986,  -9530.1937007 ,  32980.25868572,\n",
       "       -19977.73868216])"
      ]
     },
     "execution_count": 69,
     "metadata": {},
     "output_type": "execute_result"
    }
   ],
   "source": [
    "lr.coef_"
   ]
  },
  {
   "cell_type": "code",
   "execution_count": 70,
   "metadata": {
    "colab": {},
    "colab_type": "code",
    "executionInfo": {
     "elapsed": 19473,
     "status": "ok",
     "timestamp": 1592370785910,
     "user": {
      "displayName": "Sharoon Saxena",
      "photoUrl": "https://lh3.googleusercontent.com/a-/AOh14GjyKz9rNCPkHi6QK8TjrjBFlTtaI9ngf0hIwgAl=s64",
      "userId": "01167841530696023488"
     },
     "user_tz": -330
    },
    "id": "Y0q4O7K0SUDw"
   },
   "outputs": [],
   "source": [
    "predictions = lr.predict(x_test)"
   ]
  },
  {
   "cell_type": "code",
   "execution_count": 74,
   "metadata": {},
   "outputs": [
    {
     "name": "stdout",
     "output_type": "stream",
     "text": [
      "Training Accuracy (R-squared): 0.72\n",
      "Testing Accuracy (R-squared): 0.72\n"
     ]
    }
   ],
   "source": [
    "from sklearn.metrics import r2_score\n",
    "# Make predictions on the training and testing data\n",
    "y_train_pred = lr.predict(x_train_scaled)\n",
    "y_test_pred = lr.predict(x_test)\n",
    "\n",
    "# Calculate R-squared (coefficient of determination) to measure accuracy\n",
    "train_accuracy = r2_score(y_train, y_train_pred)\n",
    "test_accuracy = r2_score(y_test, y_test_pred)\n",
    "\n",
    "# Print the training and testing accuracies\n",
    "print(f\"Training Accuracy (R-squared): {train_accuracy:.2f}\")\n",
    "print(f\"Testing Accuracy (R-squared): {test_accuracy:.2f}\")\n"
   ]
  },
  {
   "cell_type": "code",
   "execution_count": 71,
   "metadata": {
    "colab": {
     "base_uri": "https://localhost:8080/",
     "height": 34
    },
    "colab_type": "code",
    "executionInfo": {
     "elapsed": 19463,
     "status": "ok",
     "timestamp": 1592370785910,
     "user": {
      "displayName": "Sharoon Saxena",
      "photoUrl": "https://lh3.googleusercontent.com/a-/AOh14GjyKz9rNCPkHi6QK8TjrjBFlTtaI9ngf0hIwgAl=s64",
      "userId": "01167841530696023488"
     },
     "user_tz": -330
    },
    "id": "-w3xX9opSUDx",
    "outputId": "3e2468c3-e9c5-4a1e-9a23-b90be6c5ca57"
   },
   "outputs": [
    {
     "data": {
      "text/plain": [
       "0.7205216868439963"
      ]
     },
     "execution_count": 71,
     "metadata": {},
     "output_type": "execute_result"
    }
   ],
   "source": [
    "lr.score(x_test, y_test)"
   ]
  },
  {
   "cell_type": "markdown",
   "metadata": {
    "colab_type": "text",
    "id": "0YGnDa7hsr7S"
   },
   "source": [
    "### 1. Residuals"
   ]
  },
  {
   "cell_type": "code",
   "execution_count": 76,
   "metadata": {
    "colab": {},
    "colab_type": "code",
    "executionInfo": {
     "elapsed": 19451,
     "status": "ok",
     "timestamp": 1592370785910,
     "user": {
      "displayName": "Sharoon Saxena",
      "photoUrl": "https://lh3.googleusercontent.com/a-/AOh14GjyKz9rNCPkHi6QK8TjrjBFlTtaI9ngf0hIwgAl=s64",
      "userId": "01167841530696023488"
     },
     "user_tz": -330
    },
    "id": "rNBdGrNBeVTz"
   },
   "outputs": [],
   "source": [
    "residuals = predictions - y_test\n",
    "\n",
    "residual_table = pd.DataFrame({'residuals':residuals,\n",
    "                    'predictions':predictions})\n",
    "residual_table = residual_table.sort_values( by = 'predictions')"
   ]
  },
  {
   "cell_type": "code",
   "execution_count": 77,
   "metadata": {
    "colab": {},
    "colab_type": "code",
    "executionInfo": {
     "elapsed": 19442,
     "status": "ok",
     "timestamp": 1592370785911,
     "user": {
      "displayName": "Sharoon Saxena",
      "photoUrl": "https://lh3.googleusercontent.com/a-/AOh14GjyKz9rNCPkHi6QK8TjrjBFlTtaI9ngf0hIwgAl=s64",
      "userId": "01167841530696023488"
     },
     "user_tz": -330
    },
    "id": "POeLxZE7ilNk"
   },
   "outputs": [],
   "source": [
    "z = [i for i in range(int(residual_table['predictions'].max()))]\n",
    "k = [0 for i in range(int(residual_table['predictions'].max()))]"
   ]
  },
  {
   "cell_type": "code",
   "execution_count": 78,
   "metadata": {
    "colab": {
     "base_uri": "https://localhost:8080/",
     "height": 683
    },
    "colab_type": "code",
    "executionInfo": {
     "elapsed": 21574,
     "status": "ok",
     "timestamp": 1592370788053,
     "user": {
      "displayName": "Sharoon Saxena",
      "photoUrl": "https://lh3.googleusercontent.com/a-/AOh14GjyKz9rNCPkHi6QK8TjrjBFlTtaI9ngf0hIwgAl=s64",
      "userId": "01167841530696023488"
     },
     "user_tz": -330
    },
    "id": "R5wMrmuDjdfj",
    "outputId": "17c6a62f-15a5-4b0f-981c-0179c34f28e8"
   },
   "outputs": [
    {
     "data": {
      "image/png": "[encoded data removed]",
      "text/plain": [
       "<Figure size 2210x910 with 1 Axes>"
      ]
     },
     "metadata": {},
     "output_type": "display_data"
    }
   ],
   "source": [
    "plt.figure(dpi = 130, figsize = (17,7))\n",
    "\n",
    "plt.scatter( residual_table['predictions'], residual_table['residuals'], color = 'green', s = 2)\n",
    "plt.plot(z, k, color = 'green', linewidth = 3, label = 'regression line')\n",
    "plt.ylim(-800000, 800000)\n",
    "plt.xlabel('fitted points (ordered by predictions)')\n",
    "plt.ylabel('residuals')\n",
    "plt.title('residual plot')\n",
    "plt.legend()\n",
    "plt.show()"
   ]
  },
  {
   "cell_type": "markdown",
   "metadata": {
    "colab_type": "text",
    "id": "CUxntcCcsvfE"
   },
   "source": [
    "## 2. Distribution of errors"
   ]
  },
  {
   "cell_type": "code",
   "execution_count": 80,
   "metadata": {
    "colab": {
     "base_uri": "https://localhost:8080/",
     "height": 631
    },
    "colab_type": "code",
    "executionInfo": {
     "elapsed": 21564,
     "status": "ok",
     "timestamp": 1592370788054,
     "user": {
      "displayName": "Sharoon Saxena",
      "photoUrl": "https://lh3.googleusercontent.com/a-/AOh14GjyKz9rNCPkHi6QK8TjrjBFlTtaI9ngf0hIwgAl=s64",
      "userId": "01167841530696023488"
     },
     "user_tz": -330
    },
    "id": "SQdU6sZbSUD5",
    "outputId": "fe7a98c8-6d4e-411c-b474-3b01e5422470"
   },
   "outputs": [
    {
     "data": {
      "image/png": "[encoded data removed]",
      "text/plain": [
       "<Figure size 1000x700 with 1 Axes>"
      ]
     },
     "metadata": {},
     "output_type": "display_data"
    }
   ],
   "source": [
    "plt.figure(dpi = 100, figsize = (10,7))\n",
    "plt.hist(residual_table['residuals'], color = 'green', bins = 200)\n",
    "plt.xlabel('residuals')\n",
    "plt.ylabel('frequency')\n",
    "plt.title('distribution of residuals')\n",
    "plt.show()"
   ]
  },
  {
   "cell_type": "markdown",
   "metadata": {
    "colab_type": "text",
    "id": "P9o7ysBD1qfM"
   },
   "source": [
    "## Model Coefficients"
   ]
  },
  {
   "cell_type": "code",
   "execution_count": 81,
   "metadata": {
    "colab": {},
    "colab_type": "code",
    "executionInfo": {
     "elapsed": 21551,
     "status": "ok",
     "timestamp": 1592370788055,
     "user": {
      "displayName": "Sharoon Saxena",
      "photoUrl": "https://lh3.googleusercontent.com/a-/AOh14GjyKz9rNCPkHi6QK8TjrjBFlTtaI9ngf0hIwgAl=s64",
      "userId": "01167841530696023488"
     },
     "user_tz": -330
    },
    "id": "ZXparRKAxzS8"
   },
   "outputs": [],
   "source": [
    "coefficients_table = pd.DataFrame({'column': x_train.columns,\n",
    "                                  'coefficients': lr.coef_})\n",
    "coefficient_table = coefficients_table.sort_values(by = 'coefficients')\n"
   ]
  },
  {
   "cell_type": "code",
   "execution_count": 82,
   "metadata": {
    "colab": {
     "base_uri": "https://localhost:8080/",
     "height": 663
    },
    "colab_type": "code",
    "executionInfo": {
     "elapsed": 22934,
     "status": "ok",
     "timestamp": 1592370789448,
     "user": {
      "displayName": "Sharoon Saxena",
      "photoUrl": "https://lh3.googleusercontent.com/a-/AOh14GjyKz9rNCPkHi6QK8TjrjBFlTtaI9ngf0hIwgAl=s64",
      "userId": "01167841530696023488"
     },
     "user_tz": -330
    },
    "id": "xDOzmCqoXZLf",
    "outputId": "18a62b2e-9832-42aa-a918-d75ca608415e"
   },
   "outputs": [
    {
     "data": {
      "image/png": "[encoded data removed]",
      "text/plain": [
       "<Figure size 960x720 with 1 Axes>"
      ]
     },
     "metadata": {},
     "output_type": "display_data"
    }
   ],
   "source": [
    "plt.figure(figsize=(8, 6), dpi=120)\n",
    "x = coefficient_table['column']\n",
    "y = coefficient_table['coefficients']\n",
    "plt.barh( x, y)\n",
    "plt.xlabel( \"Coefficients\")\n",
    "plt.ylabel('Variables')\n",
    "plt.title('Normalized Coefficient plot')\n",
    "plt.show()"
   ]
  },
  {
   "cell_type": "code",
   "execution_count": null,
   "metadata": {},
   "outputs": [],
   "source": []
  }
 ],
 "metadata": {
  "colab": {
   "authorship_tag": "ABX9TyP/3ghUs5miYOMy3WJd3YD/",
   "name": "Linear Regression.ipynb",
   "provenance": []
  },
  "kernelspec": {
   "display_name": "Python 3 (ipykernel)",
   "language": "python",
   "name": "python3"
  },
  "language_info": {
   "codemirror_mode": {
    "name": "ipython",
    "version": 3
   },
   "file_extension": ".py",
   "mimetype": "text/x-python",
   "name": "python",
   "nbconvert_exporter": "python",
   "pygments_lexer": "ipython3",
   "version": "3.11.4"
  }
 },
 "nbformat": 4,
 "nbformat_minor": 1
}
